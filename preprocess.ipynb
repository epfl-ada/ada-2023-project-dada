{
 "cells": [
  {
   "cell_type": "code",
   "execution_count": 1,
   "id": "f38c72f0-8d28-4a88-80c1-9f417e5b4e5d",
   "metadata": {},
   "outputs": [],
   "source": [
    "import pandas as pd\n",
    "from tqdm import tqdm"
   ]
  },
  {
   "cell_type": "markdown",
   "id": "72e2b000-5eb8-4465-b6a4-fbaeb3252900",
   "metadata": {},
   "source": [
    "## Preprocess ratings from txt to csv while keeping only essential information"
   ]
  },
  {
   "cell_type": "code",
   "execution_count": 2,
   "id": "6b99b51a-94ba-4da1-a739-1f2083bfd57a",
   "metadata": {
    "scrolled": true
   },
   "outputs": [
    {
     "name": "stderr",
     "output_type": "stream",
     "text": [
      "121075258it [00:50, 2390794.40it/s]\n"
     ]
    }
   ],
   "source": [
    "# RateBeer (<60s on my computer, around 22Gb of ram)\n",
    "ratings_list = []\n",
    "rating_dic = {}\n",
    "with open(\"data/RateBeer/ratings.txt\") as f:\n",
    "    for i, line in tqdm(enumerate(f)):\n",
    "        field = line.split(\": \")[0]\n",
    "        if field == \"\\n\":\n",
    "            ratings_list.append(rating_dic)\n",
    "            rating_dic = {}\n",
    "            continue\n",
    "        content = line.split(\": \")[1:]\n",
    "        content = \": \".join(content)\n",
    "        rating_dic[field] = content.strip()\n",
    "            \n",
    "ratings_RB = pd.DataFrame.from_dict(ratings_list)\n",
    "ratings_RB.to_csv(\"data/RateBeer/ratings.csv\", index=False)"
   ]
  },
  {
   "cell_type": "code",
   "execution_count": 5,
   "id": "dd42665c-3fc6-46ec-a498-8c37710895f6",
   "metadata": {},
   "outputs": [
    {
     "ename": "NameError",
     "evalue": "name 'ratings_RB' is not defined",
     "output_type": "error",
     "traceback": [
      "\u001b[0;31m---------------------------------------------------------------------------\u001b[0m",
      "\u001b[0;31mNameError\u001b[0m                                 Traceback (most recent call last)",
      "Cell \u001b[0;32mIn[5], line 1\u001b[0m\n\u001b[0;32m----> 1\u001b[0m \u001b[38;5;28;01mdel\u001b[39;00m \u001b[43mratings_RB\u001b[49m, ratings_list\n",
      "\u001b[0;31mNameError\u001b[0m: name 'ratings_RB' is not defined"
     ]
    }
   ],
   "source": [
    "del ratings_RB, ratings_list"
   ]
  },
  {
   "cell_type": "code",
   "execution_count": 6,
   "id": "c0132c38-0317-4509-9f2d-c250a0da1164",
   "metadata": {},
   "outputs": [
    {
     "name": "stderr",
     "output_type": "stream",
     "text": [
      "151074576it [00:57, 2633671.21it/s]\n"
     ]
    }
   ],
   "source": [
    "# BeerAdvocate (<60s on my computer, around 28Gb of ram)\n",
    "ratings_list = []\n",
    "rating_dic = {}\n",
    "with open(\"data/BeerAdvocate/ratings.txt\") as f:\n",
    "    for i, line in tqdm(enumerate(f)):\n",
    "        field = line.split(\": \")[0]\n",
    "        if field == \"\\n\":\n",
    "            ratings_list.append(rating_dic)\n",
    "            rating_dic = {}\n",
    "            continue\n",
    "        content = line.split(\": \")[1:]\n",
    "        content = \": \".join(content)\n",
    "        rating_dic[field] = content.strip()\n",
    "            \n",
    "ratings_BA = pd.DataFrame.from_dict(ratings_list)\n",
    "ratings_BA.to_csv(\"data/BeerAdvocate/ratings.csv\", index=False)"
   ]
  },
  {
   "cell_type": "code",
   "execution_count": 7,
   "id": "83e48d2c-499a-46f5-ae65-a35f7519b4f7",
   "metadata": {},
   "outputs": [],
   "source": [
    "del ratings_BA, ratings_list"
   ]
  },
  {
   "cell_type": "markdown",
   "id": "cb7034d5-503e-49c8-8646-727093b1bfb0",
   "metadata": {},
   "source": [
    "## Load data"
   ]
  },
  {
   "cell_type": "code",
   "execution_count": null,
   "id": "3c5efad9-31a7-49aa-beed-529c1c112693",
   "metadata": {},
   "outputs": [],
   "source": [
    "# Data from RateBeer 'RB'\n",
    "beers_RB = pd.read_table(\"./data/RateBeer/beers.csv\", sep=\",\")\n",
    "breweries_RB = pd.read_table(\"./data/RateBeer/breweries.csv\", sep=\",\").rename(columns={\"id\":\"brewery_id\",\"location\":\"brewery_location\",\"name\":\"brewery_name\"})\n",
    "users_RB = pd.read_table(\"./data/RateBeer/users.csv\", sep=\",\").rename(columns={\"location\":\"user_location\"})\n",
    "ratings_RB = pd.read_table(\"./data/RateBeer/ratings.csv\", sep=\",\")\n",
    "\n",
    "# Data from BeerAdvocate 'BA'\n",
    "beers_BA = pd.read_table(\"./data/BeerAdvocate/beers.csv\", sep=\",\")\n",
    "breweries_BA = pd.read_table(\"./data/BeerAdvocate/breweries.csv\", sep=\",\").rename(columns={\"id\":\"brewery_id\",\"location\":\"brewery_location\",\"name\":\"brewery_name\"})\n",
    "users_BA = pd.read_table(\"./data/BeerAdvocate/users.csv\", sep=\",\").rename(columns={\"location\":\"user_location\"})\n",
    "ratings_BA = pd.read_table(\"./data/BeerAdvocate/ratings.csv\", sep=\",\")\n",
    "\n",
    "# Data from MixedDataset 'MD'\n",
    "beers_MD = pd.read_table(\"./data/matched_beaer_data/beers.csv\", sep=\",\")\n",
    "breweries_MD = pd.read_table(\"./data/matched_beer_data/breweries.csv\", sep=\",\")\n",
    "users_MD = pd.read_table(\"./data/matched_beer_data/users.csv\", sep=\",\")\n",
    "users_approx_MD = pd.read_table(\"./data/matched_beer_data/users_approx.csv\", sep=\",\")\n",
    "ratings_MD = pd.read_table(\"./data/matched_beer_data/ratings.csv\", sep=\",\")"
   ]
  },
  {
   "cell_type": "markdown",
   "id": "c2295a26-7155-46cd-8d1d-d4a9f553bd64",
   "metadata": {},
   "source": [
    "## Merge data by dataset (every information available populates ratings)"
   ]
  },
  {
   "cell_type": "code",
   "execution_count": null,
   "id": "f53693af-ed0d-43b8-add2-34335a2ed713",
   "metadata": {},
   "outputs": [],
   "source": [
    "# Data from RateBeer 'RB'\n",
    "ratings_RB = ratings_RB.merge(users_RB ,on=\"user_id\", how=\"left\", suffixes=('', '_drop'))\n",
    "ratings_RBm = ratings_RBm.merge(breweries_RB,on=\"brewery_id\", how=\"left\", suffixes=('', '_drop'))\n",
    "ratings_RBm = ratings_RBm.merge(beers_RB,on=\"beer_id\", how=\"left\", suffixes=('', '_drop'))\n",
    "ratings_RBm.drop([col for col in ratings_RBm.columns if 'drop' in col], axis=1, inplace=True)\n",
    "ratings_RBm['dataset']=\"RB\"\n",
    "\n",
    "# Data from BeerAdvocate 'BA'\n",
    "ratings_BAm = ratings_BA.merge(users_BA ,on=\"user_id\", how=\"left\", suffixes=('', '_drop'))\n",
    "ratings_BAm = ratings_BAm.merge(breweries_BA,on=\"brewery_id\", how=\"left\", suffixes=('', '_drop'))\n",
    "ratings_BAm = ratings_BAm.merge(beers_BA,on=\"beer_id\", how=\"left\", suffixes=('', '_drop'))\n",
    "ratings_BAm.drop([col for col in ratings_BAm.columns if 'drop' in col], axis=1, inplace=True)\n",
    "ratings_BAm['dataset']=\"BA\""
   ]
  },
  {
   "cell_type": "markdown",
   "id": "7be154a1-c7a8-44d8-98ff-eaa1e641c1f3",
   "metadata": {},
   "source": [
    "## Merge ratings_BAm and ratings_RBm"
   ]
  },
  {
   "cell_type": "code",
   "execution_count": null,
   "id": "f177a052-97bd-4b14-8edb-3f68a8c6eeeb",
   "metadata": {},
   "outputs": [],
   "source": [
    "ratings_mixed = pd.concat([ratings_BAm, ratings_RBm], axis=0, ignore_index=True)\n",
    "ratings_mixed.to_csv(\"data/ratings.csv\", index=False)"
   ]
  }
 ],
 "metadata": {
  "kernelspec": {
   "display_name": "Python 3 (ipykernel)",
   "language": "python",
   "name": "python3"
  },
  "language_info": {
   "codemirror_mode": {
    "name": "ipython",
    "version": 3
   },
   "file_extension": ".py",
   "mimetype": "text/x-python",
   "name": "python",
   "nbconvert_exporter": "python",
   "pygments_lexer": "ipython3",
   "version": "3.11.5"
  }
 },
 "nbformat": 4,
 "nbformat_minor": 5
}
