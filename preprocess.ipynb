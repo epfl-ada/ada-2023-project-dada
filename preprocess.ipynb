{
 "cells": [
  {
   "cell_type": "code",
   "execution_count": 16,
   "id": "f38c72f0-8d28-4a88-80c1-9f417e5b4e5d",
   "metadata": {},
   "outputs": [],
   "source": [
    "import pandas as pd\n",
    "from tqdm import tqdm"
   ]
  },
  {
   "cell_type": "markdown",
   "id": "72e2b000-5eb8-4465-b6a4-fbaeb3252900",
   "metadata": {},
   "source": [
    "## Preprocess ratings from txt to csv while keeping only essential information"
   ]
  },
  {
   "cell_type": "code",
   "execution_count": 17,
   "id": "6b99b51a-94ba-4da1-a739-1f2083bfd57a",
   "metadata": {
    "scrolled": true
   },
   "outputs": [
    {
     "name": "stderr",
     "output_type": "stream",
     "text": [
      "3635363it [00:04, 883399.67it/s]\n"
     ]
    },
    {
     "ename": "KeyboardInterrupt",
     "evalue": "",
     "output_type": "error",
     "traceback": [
      "\u001b[1;31m---------------------------------------------------------------------------\u001b[0m",
      "\u001b[1;31mKeyboardInterrupt\u001b[0m                         Traceback (most recent call last)",
      "Cell \u001b[1;32mIn[17], line 5\u001b[0m\n\u001b[0;32m      3\u001b[0m rating_dic \u001b[38;5;241m=\u001b[39m {}\n\u001b[0;32m      4\u001b[0m \u001b[38;5;28;01mwith\u001b[39;00m \u001b[38;5;28mopen\u001b[39m(\u001b[38;5;124m\"\u001b[39m\u001b[38;5;124mdata/RateBeer/ratings.txt\u001b[39m\u001b[38;5;124m\"\u001b[39m, encoding\u001b[38;5;241m=\u001b[39m \u001b[38;5;124m\"\u001b[39m\u001b[38;5;124mutf8\u001b[39m\u001b[38;5;124m\"\u001b[39m) \u001b[38;5;28;01mas\u001b[39;00m f:\n\u001b[1;32m----> 5\u001b[0m     \u001b[38;5;28;01mfor\u001b[39;00m i, line \u001b[38;5;129;01min\u001b[39;00m tqdm(\u001b[38;5;28menumerate\u001b[39m(f)):\n\u001b[0;32m      6\u001b[0m         field \u001b[38;5;241m=\u001b[39m line\u001b[38;5;241m.\u001b[39msplit(\u001b[38;5;124m\"\u001b[39m\u001b[38;5;124m: \u001b[39m\u001b[38;5;124m\"\u001b[39m)[\u001b[38;5;241m0\u001b[39m]\n\u001b[0;32m      7\u001b[0m         \u001b[38;5;28;01mif\u001b[39;00m field \u001b[38;5;241m==\u001b[39m \u001b[38;5;124m\"\u001b[39m\u001b[38;5;130;01m\\n\u001b[39;00m\u001b[38;5;124m\"\u001b[39m:\n",
      "File \u001b[1;32m~\\anaconda3\\envs\\ADA\\lib\\site-packages\\tqdm\\std.py:1182\u001b[0m, in \u001b[0;36mtqdm.__iter__\u001b[1;34m(self)\u001b[0m\n\u001b[0;32m   1179\u001b[0m time \u001b[38;5;241m=\u001b[39m \u001b[38;5;28mself\u001b[39m\u001b[38;5;241m.\u001b[39m_time\n\u001b[0;32m   1181\u001b[0m \u001b[38;5;28;01mtry\u001b[39;00m:\n\u001b[1;32m-> 1182\u001b[0m     \u001b[38;5;28;01mfor\u001b[39;00m obj \u001b[38;5;129;01min\u001b[39;00m iterable:\n\u001b[0;32m   1183\u001b[0m         \u001b[38;5;28;01myield\u001b[39;00m obj\n\u001b[0;32m   1184\u001b[0m         \u001b[38;5;66;03m# Update and possibly print the progressbar.\u001b[39;00m\n\u001b[0;32m   1185\u001b[0m         \u001b[38;5;66;03m# Note: does not call self.update(1) for speed optimisation.\u001b[39;00m\n",
      "File \u001b[1;32m~\\anaconda3\\envs\\ADA\\lib\\codecs.py:319\u001b[0m, in \u001b[0;36mBufferedIncrementalDecoder.decode\u001b[1;34m(self, input, final)\u001b[0m\n\u001b[0;32m    314\u001b[0m \u001b[38;5;28;01mdef\u001b[39;00m \u001b[38;5;21m_buffer_decode\u001b[39m(\u001b[38;5;28mself\u001b[39m, \u001b[38;5;28minput\u001b[39m, errors, final):\n\u001b[0;32m    315\u001b[0m     \u001b[38;5;66;03m# Overwrite this method in subclasses: It must decode input\u001b[39;00m\n\u001b[0;32m    316\u001b[0m     \u001b[38;5;66;03m# and return an (output, length consumed) tuple\u001b[39;00m\n\u001b[0;32m    317\u001b[0m     \u001b[38;5;28;01mraise\u001b[39;00m \u001b[38;5;167;01mNotImplementedError\u001b[39;00m\n\u001b[1;32m--> 319\u001b[0m \u001b[38;5;28;01mdef\u001b[39;00m \u001b[38;5;21mdecode\u001b[39m(\u001b[38;5;28mself\u001b[39m, \u001b[38;5;28minput\u001b[39m, final\u001b[38;5;241m=\u001b[39m\u001b[38;5;28;01mFalse\u001b[39;00m):\n\u001b[0;32m    320\u001b[0m     \u001b[38;5;66;03m# decode input (taking the buffer into account)\u001b[39;00m\n\u001b[0;32m    321\u001b[0m     data \u001b[38;5;241m=\u001b[39m \u001b[38;5;28mself\u001b[39m\u001b[38;5;241m.\u001b[39mbuffer \u001b[38;5;241m+\u001b[39m \u001b[38;5;28minput\u001b[39m\n\u001b[0;32m    322\u001b[0m     (result, consumed) \u001b[38;5;241m=\u001b[39m \u001b[38;5;28mself\u001b[39m\u001b[38;5;241m.\u001b[39m_buffer_decode(data, \u001b[38;5;28mself\u001b[39m\u001b[38;5;241m.\u001b[39merrors, final)\n",
      "\u001b[1;31mKeyboardInterrupt\u001b[0m: "
     ]
    }
   ],
   "source": [
    "# RateBeer (<60s on my computer, around 22Gb of ram)\n",
    "ratings_list = []\n",
    "rating_dic = {}\n",
    "with open(\"data/RateBeer/ratings.txt\", encoding= \"utf8\") as f:\n",
    "    for i, line in tqdm(enumerate(f)):\n",
    "        field = line.split(\": \")[0]\n",
    "        if field == \"\\n\":\n",
    "            ratings_list.append(rating_dic)\n",
    "            rating_dic = {}\n",
    "            continue\n",
    "        content = line.split(\": \")[1:]\n",
    "        content = \": \".join(content)\n",
    "        rating_dic[field] = content.strip()\n",
    "            \n",
    "ratings_RB = pd.DataFrame.from_dict(ratings_list)\n",
    "ratings_RB.to_csv(\"data/RateBeer/ratings.csv\", index=False)"
   ]
  },
  {
   "cell_type": "code",
   "execution_count": null,
   "id": "dd42665c-3fc6-46ec-a498-8c37710895f6",
   "metadata": {},
   "outputs": [],
   "source": [
    "del ratings_RB, ratings_list"
   ]
  },
  {
   "cell_type": "code",
   "execution_count": null,
   "id": "c0132c38-0317-4509-9f2d-c250a0da1164",
   "metadata": {},
   "outputs": [],
   "source": [
    "# BeerAdvocate (<60s on my computer, around 28Gb of ram)\n",
    "ratings_list = []\n",
    "rating_dic = {}\n",
    "with open(\"data/BeerAdvocate/ratings.txt\", encoding= \"utf8\") as f:\n",
    "    for i, line in tqdm(enumerate(f)):\n",
    "        field = line.split(\": \")[0]\n",
    "        if field == \"\\n\":\n",
    "            ratings_list.append(rating_dic)\n",
    "            rating_dic = {}\n",
    "            continue\n",
    "        content = line.split(\": \")[1:]\n",
    "        content = \": \".join(content)\n",
    "        rating_dic[field] = content.strip()\n",
    "            \n",
    "ratings_BA = pd.DataFrame.from_dict(ratings_list)\n",
    "ratings_BA.to_csv(\"data/BeerAdvocate/ratings.csv\", index=False)"
   ]
  },
  {
   "cell_type": "code",
   "execution_count": null,
   "id": "83e48d2c-499a-46f5-ae65-a35f7519b4f7",
   "metadata": {},
   "outputs": [],
   "source": [
    "del ratings_BA, ratings_list"
   ]
  },
  {
   "cell_type": "markdown",
   "id": "cb7034d5-503e-49c8-8646-727093b1bfb0",
   "metadata": {},
   "source": [
    "## Load data"
   ]
  },
  {
   "cell_type": "code",
   "execution_count": 13,
   "id": "3c5efad9-31a7-49aa-beed-529c1c112693",
   "metadata": {},
   "outputs": [
    {
     "name": "stderr",
     "output_type": "stream",
     "text": [
      "C:\\Users\\Mathi\\AppData\\Local\\Temp\\ipykernel_24960\\2032069685.py:14: DtypeWarning: Columns (0,1,2,3,4,5,8,10,11,12,13,15,16,17,18,19,20,23,25,26,27,29,30,31,32) have mixed types. Specify dtype option on import or set low_memory=False.\n",
      "  beers_MD = pd.read_table(\"./data/matched_beer_data/beers.csv\", sep=\",\")\n",
      "C:\\Users\\Mathi\\AppData\\Local\\Temp\\ipykernel_24960\\2032069685.py:18: DtypeWarning: Columns (0,1,2,3,5,7,8,9,10,11,13,17,18,19,20,22,24,25,26,27,29,31) have mixed types. Specify dtype option on import or set low_memory=False.\n",
      "  ratings_MD = pd.read_table(\"./data/matched_beer_data/ratings.csv\", sep=\",\")\n"
     ]
    }
   ],
   "source": [
    "# Data from RateBeer 'RB'\n",
    "beers_RB = pd.read_table(\"./data/RateBeer/beers.csv\", sep=\",\")\n",
    "breweries_RB = pd.read_table(\"./data/RateBeer/breweries.csv\", sep=\",\").rename(columns={\"id\":\"brewery_id\",\"location\":\"brewery_location\",\"name\":\"brewery_name\"})\n",
    "users_RB = pd.read_table(\"./data/RateBeer/users.csv\", sep=\",\").rename(columns={\"location\":\"user_location\"})\n",
    "ratings_RB = pd.read_table(\"./data/RateBeer/ratings.csv\", sep=\",\")\n",
    "\n",
    "# Data from BeerAdvocate 'BA'\n",
    "beers_BA = pd.read_table(\"./data/BeerAdvocate/beers.csv\", sep=\",\")\n",
    "breweries_BA = pd.read_table(\"./data/BeerAdvocate/breweries.csv\", sep=\",\").rename(columns={\"id\":\"brewery_id\",\"location\":\"brewery_location\",\"name\":\"brewery_name\"})\n",
    "users_BA = pd.read_table(\"./data/BeerAdvocate/users.csv\", sep=\",\").rename(columns={\"location\":\"user_location\"})\n",
    "ratings_BA = pd.read_table(\"./data/BeerAdvocate/ratings.csv\", sep=\",\")\n",
    "\n",
    "# Data from MixedDataset 'MD'\n",
    "beers_MD = pd.read_table(\"./data/matched_beer_data/beers.csv\", sep=\",\")\n",
    "breweries_MD = pd.read_table(\"./data/matched_beer_data/breweries.csv\", sep=\",\")\n",
    "users_MD = pd.read_table(\"./data/matched_beer_data/users.csv\", sep=\",\")\n",
    "users_approx_MD = pd.read_table(\"./data/matched_beer_data/users_approx.csv\", sep=\",\")\n",
    "ratings_MD = pd.read_table(\"./data/matched_beer_data/ratings.csv\", sep=\",\")"
   ]
  },
  {
   "cell_type": "markdown",
   "id": "c2295a26-7155-46cd-8d1d-d4a9f553bd64",
   "metadata": {},
   "source": [
    "## Merge data by dataset (every information available populates ratings)"
   ]
  },
  {
   "cell_type": "code",
   "execution_count": 14,
   "id": "f53693af-ed0d-43b8-add2-34335a2ed713",
   "metadata": {},
   "outputs": [],
   "source": [
    "# Data from RateBeer 'RB'\n",
    "ratings_RBm = ratings_RB.merge(users_RB ,on=\"user_id\", how=\"left\", suffixes=('', '_drop'))\n",
    "ratings_RBm = ratings_RBm.merge(breweries_RB,on=\"brewery_id\", how=\"left\", suffixes=('', '_drop'))\n",
    "ratings_RBm = ratings_RBm.merge(beers_RB,on=\"beer_id\", how=\"left\", suffixes=('', '_drop'))\n",
    "ratings_RBm.drop([col for col in ratings_RBm.columns if 'drop' in col], axis=1, inplace=True)\n",
    "ratings_RBm['dataset']=\"RB\"\n",
    "\n",
    "# Data from BeerAdvocate 'BA'\n",
    "ratings_BAm = ratings_BA.merge(users_BA ,on=\"user_id\", how=\"left\", suffixes=('', '_drop'))\n",
    "ratings_BAm = ratings_BAm.merge(breweries_BA,on=\"brewery_id\", how=\"left\", suffixes=('', '_drop'))\n",
    "ratings_BAm = ratings_BAm.merge(beers_BA,on=\"beer_id\", how=\"left\", suffixes=('', '_drop'))\n",
    "ratings_BAm.drop([col for col in ratings_BAm.columns if 'drop' in col], axis=1, inplace=True)\n",
    "ratings_BAm['dataset']=\"BA\""
   ]
  },
  {
   "cell_type": "markdown",
   "id": "7be154a1-c7a8-44d8-98ff-eaa1e641c1f3",
   "metadata": {},
   "source": [
    "## Merge ratings_BAm and ratings_RBm"
   ]
  },
  {
   "cell_type": "code",
   "execution_count": 15,
   "id": "f177a052-97bd-4b14-8edb-3f68a8c6eeeb",
   "metadata": {},
   "outputs": [
    {
     "data": {
      "text/plain": [
       "Index(['beer_name', 'beer_id', 'style', 'abv', 'nbr_ratings', 'nbr_reviews',\n",
       "       'avg', 'ba_score', 'bros_score', 'avg_computed', 'zscore',\n",
       "       'overall_score', 'style_score', 'nbr_matched_valid_ratings',\n",
       "       'avg_matched_valid_ratings', 'joined', 'brewery_name', 'brewery_id',\n",
       "       'brewery_location', 'nbr_beers', 'date', 'user_name', 'user_id',\n",
       "       'user_location', 'appearance', 'aroma', 'palate', 'taste', 'overall',\n",
       "       'rating', 'text', 'review', 'dataset'],\n",
       "      dtype='object')"
      ]
     },
     "execution_count": 15,
     "metadata": {},
     "output_type": "execute_result"
    }
   ],
   "source": [
    "ratings_mixed = pd.concat([ratings_BAm, ratings_RBm], axis=0, ignore_index=True)\n",
    "cols = [\n",
    "    'beer_name',\n",
    "    'beer_id',\n",
    "    'style',\n",
    "    'abv',\n",
    "    'nbr_ratings',\n",
    "    'nbr_reviews',\n",
    "    'avg',\n",
    "    'ba_score',\n",
    "    'bros_score',\n",
    "    'avg_computed',\n",
    "    'zscore',\n",
    "    'overall_score',\n",
    "    'style_score',\n",
    "    'nbr_matched_valid_ratings',\n",
    "    'avg_matched_valid_ratings',\n",
    "    'joined',\n",
    "    'brewery_name',\n",
    "    'brewery_id',\n",
    "    'brewery_location',\n",
    "    'nbr_beers',\n",
    "    'date',\n",
    "    'user_name',\n",
    "    'user_id',\n",
    "    'user_location',\n",
    "    'appearance',\n",
    "    'aroma',\n",
    "    'palate',\n",
    "    'taste',\n",
    "    'overall',\n",
    "    'rating',\n",
    "    'text',\n",
    "    'review',\n",
    "    'dataset'\n",
    "]\n",
    "ratings_mixed = ratings_mixed[cols]\n",
    "ratings_mixed.to_csv(\"data/ratings_BAm_RBm.csv\", index=False)\n",
    "ratings_mixed.columns"
   ]
  },
  {
   "cell_type": "code",
   "execution_count": 5,
   "id": "3cb80011-0abe-463e-a03a-fb6d2702def9",
   "metadata": {},
   "outputs": [],
   "source": [
    "ratings_mixed_subsample = ratings_mixed.sample(frac = 0.1, random_state=0)\n",
    "ratings_mixed_subsample.to_csv(\"data/ratings_BAm_RB_sample.csv\", index=False)"
   ]
  },
  {
   "cell_type": "code",
   "execution_count": null,
   "id": "268d17dd-4fb5-4643-857b-8b5025365076",
   "metadata": {},
   "outputs": [],
   "source": []
  }
 ],
 "metadata": {
  "kernelspec": {
   "display_name": "Python 3 (ipykernel)",
   "language": "python",
   "name": "python3"
  },
  "language_info": {
   "codemirror_mode": {
    "name": "ipython",
    "version": 3
   },
   "file_extension": ".py",
   "mimetype": "text/x-python",
   "name": "python",
   "nbconvert_exporter": "python",
   "pygments_lexer": "ipython3",
   "version": "3.11.5"
  }
 },
 "nbformat": 4,
 "nbformat_minor": 5
}
