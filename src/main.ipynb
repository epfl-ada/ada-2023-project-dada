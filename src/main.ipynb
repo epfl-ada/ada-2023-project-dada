{
 "cells": [
  {
   "cell_type": "markdown",
   "metadata": {},
   "source": [
    "# TODOs\n",
    "* look at columns descriptions\n",
    "* add requirements.txt\n",
    "\n",
    "\n",
    "---"
   ]
  },
  {
   "cell_type": "markdown",
   "metadata": {},
   "source": [
    "# ADA Project by team DADA\n",
    "\n",
    "Project title: **Decoding Regional Preferences and Ratings**\n",
    "\n",
    "Dataset : Beer reviews from BeerAdvocate and RateBeer"
   ]
  },
  {
   "cell_type": "code",
   "execution_count": null,
   "metadata": {},
   "outputs": [],
   "source": [
    "from utils import *"
   ]
  },
  {
   "cell_type": "code",
   "execution_count": null,
   "metadata": {},
   "outputs": [],
   "source": [
    "COMPRESSION = 'zip'\n",
    "DATASET_BA_DIR = '../data/BeerAdvocate/'\n",
    "DATASET_RB_DIR = '../data/RateBeer/'\n",
    "DATASET_MATCHED_DIR = '../data/matched_beer_data/'\n",
    "    \n",
    "beers_ba = pd.read_csv(DATASET_BA_DIR+'beers.csv.zip', header=0, compression=COMPRESSION)\n"
   ]
  },
  {
   "cell_type": "code",
   "execution_count": null,
   "metadata": {},
   "outputs": [],
   "source": [
    "beers_ba.sample().T"
   ]
  },
  {
   "cell_type": "code",
   "execution_count": null,
   "metadata": {},
   "outputs": [],
   "source": []
  }
 ],
 "metadata": {
  "kernelspec": {
   "display_name": "ADA",
   "language": "python",
   "name": "python3"
  },
  "language_info": {
   "codemirror_mode": {
    "name": "ipython",
    "version": 3
   },
   "file_extension": ".py",
   "mimetype": "text/x-python",
   "name": "python",
   "nbconvert_exporter": "python",
   "pygments_lexer": "ipython3",
   "version": "3.11.5"
  }
 },
 "nbformat": 4,
 "nbformat_minor": 2
}
