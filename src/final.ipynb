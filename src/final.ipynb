{
 "cells": [
  {
   "cell_type": "code",
   "execution_count": 3,
   "metadata": {},
   "outputs": [
    {
     "ename": "AttributeError",
     "evalue": "module 'jupyter_core' has no attribute '__version__'",
     "output_type": "error",
     "traceback": [
      "\u001b[1;31m---------------------------------------------------------------------------\u001b[0m",
      "\u001b[1;31mAttributeError\u001b[0m                            Traceback (most recent call last)",
      "Cell \u001b[1;32mIn [3], line 2\u001b[0m\n\u001b[0;32m      1\u001b[0m \u001b[38;5;28;01mimport\u001b[39;00m \u001b[38;5;21;01msession_info\u001b[39;00m\n\u001b[1;32m----> 2\u001b[0m \u001b[43msession_info\u001b[49m\u001b[38;5;241;43m.\u001b[39;49m\u001b[43mshow\u001b[49m\u001b[43m(\u001b[49m\u001b[43m)\u001b[49m\n",
      "File \u001b[1;32mc:\\Users\\swann\\.conda\\envs\\test_ada\\lib\\site-packages\\session_info\\main.py:169\u001b[0m, in \u001b[0;36mshow\u001b[1;34m(na, os, cpu, jupyter, dependencies, std_lib, private, write_req_file, req_file_name, html, excludes)\u001b[0m\n\u001b[0;32m    165\u001b[0m             \u001b[38;5;28;01mpass\u001b[39;00m\n\u001b[0;32m    166\u001b[0m     \u001b[38;5;66;03m# The length of `'jupyter_client'` is 14\u001b[39;00m\n\u001b[0;32m    167\u001b[0m     \u001b[38;5;66;03m# The spaces are added to create uniform whitespace in the output\u001b[39;00m\n\u001b[0;32m    168\u001b[0m     \u001b[38;5;66;03m# f-strings, which is needed to clean them with inspect.cleandoc\u001b[39;00m\n\u001b[1;32m--> 169\u001b[0m     jup_mod_and_ver \u001b[38;5;241m=\u001b[39m [\u001b[38;5;124mf\u001b[39m\u001b[38;5;124m'\u001b[39m\u001b[38;5;124m            \u001b[39m\u001b[38;5;132;01m{\u001b[39;00mmodule\u001b[38;5;241m.\u001b[39m\u001b[38;5;18m__name__\u001b[39m\u001b[38;5;132;01m:\u001b[39;00m\u001b[38;5;124m14\u001b[39m\u001b[38;5;132;01m}\u001b[39;00m\u001b[38;5;130;01m\\t\u001b[39;00m\u001b[38;5;132;01m{\u001b[39;00mmodule\u001b[38;5;241m.\u001b[39m__version__\u001b[38;5;132;01m}\u001b[39;00m\u001b[38;5;124m'\u001b[39m\n\u001b[0;32m    170\u001b[0m                        \u001b[38;5;28;01mfor\u001b[39;00m module \u001b[38;5;129;01min\u001b[39;00m jup_modules]\n\u001b[0;32m    171\u001b[0m     output_jupyter \u001b[38;5;241m=\u001b[39m \u001b[38;5;124m'\u001b[39m\u001b[38;5;130;01m\\n\u001b[39;00m\u001b[38;5;124m'\u001b[39m\u001b[38;5;241m.\u001b[39mjoin(jup_mod_and_ver)\n\u001b[0;32m    172\u001b[0m \u001b[38;5;28;01melse\u001b[39;00m:\n",
      "File \u001b[1;32mc:\\Users\\swann\\.conda\\envs\\test_ada\\lib\\site-packages\\session_info\\main.py:169\u001b[0m, in \u001b[0;36m<listcomp>\u001b[1;34m(.0)\u001b[0m\n\u001b[0;32m    165\u001b[0m             \u001b[38;5;28;01mpass\u001b[39;00m\n\u001b[0;32m    166\u001b[0m     \u001b[38;5;66;03m# The length of `'jupyter_client'` is 14\u001b[39;00m\n\u001b[0;32m    167\u001b[0m     \u001b[38;5;66;03m# The spaces are added to create uniform whitespace in the output\u001b[39;00m\n\u001b[0;32m    168\u001b[0m     \u001b[38;5;66;03m# f-strings, which is needed to clean them with inspect.cleandoc\u001b[39;00m\n\u001b[1;32m--> 169\u001b[0m     jup_mod_and_ver \u001b[38;5;241m=\u001b[39m [\u001b[38;5;124mf\u001b[39m\u001b[38;5;124m'\u001b[39m\u001b[38;5;124m            \u001b[39m\u001b[38;5;132;01m{\u001b[39;00mmodule\u001b[38;5;241m.\u001b[39m\u001b[38;5;18m__name__\u001b[39m\u001b[38;5;132;01m:\u001b[39;00m\u001b[38;5;124m14\u001b[39m\u001b[38;5;132;01m}\u001b[39;00m\u001b[38;5;130;01m\\t\u001b[39;00m\u001b[38;5;132;01m{\u001b[39;00mmodule\u001b[38;5;241m.\u001b[39m__version__\u001b[38;5;132;01m}\u001b[39;00m\u001b[38;5;124m'\u001b[39m\n\u001b[0;32m    170\u001b[0m                        \u001b[38;5;28;01mfor\u001b[39;00m module \u001b[38;5;129;01min\u001b[39;00m jup_modules]\n\u001b[0;32m    171\u001b[0m     output_jupyter \u001b[38;5;241m=\u001b[39m \u001b[38;5;124m'\u001b[39m\u001b[38;5;130;01m\\n\u001b[39;00m\u001b[38;5;124m'\u001b[39m\u001b[38;5;241m.\u001b[39mjoin(jup_mod_and_ver)\n\u001b[0;32m    172\u001b[0m \u001b[38;5;28;01melse\u001b[39;00m:\n",
      "\u001b[1;31mAttributeError\u001b[0m: module 'jupyter_core' has no attribute '__version__'"
     ]
    }
   ],
   "source": [
    "pip install -r requirements.txt"
   ]
  },
  {
   "cell_type": "code",
   "execution_count": 1,
   "metadata": {},
   "outputs": [],
   "source": [
    "from utils import *\n",
    "import os\n",
    "import requests\n",
    "import zipfile\n",
    "import numpy as np\n",
    "import pandas as pd\n",
    "import geopandas as gpd\n",
    "from tqdm import tqdm\n",
    "import pickle\n",
    "import matplotlib as m\n",
    "import matplotlib.pyplot as plt\n",
    "import matplotlib.colors as colors\n",
    "import matplotlib.dates as dates\n",
    "import seaborn as sns\n",
    "import statsmodels.api as sm\n",
    "import statsmodels.formula.api as smf"
   ]
  },
  {
   "cell_type": "markdown",
   "metadata": {},
   "source": [
    "# Dataset exploration : "
   ]
  },
  {
   "cell_type": "markdown",
   "metadata": {},
   "source": [
    "\n",
    "+ **Goal** : The goal of this notebook is to help us understand the dataset\n",
    "\n",
    "\n",
    "+ **Source** : [Original dataset](https://drive.google.com/drive/folders/1Wz6D2FM25ydFw_-41I9uTwG9uNsN4TCF?usp=sharing) \n",
    "\n",
    "+ **Links** : [Here](../docs/datasets/links.md) is a document with more links about the datasets (parser/crawler, papers, ...)\n",
    "\n",
    "Now let's look at the all the data available (except reviews that are subsets of ratings)"
   ]
  },
  {
   "cell_type": "markdown",
   "metadata": {},
   "source": [
    "## File conversion"
   ]
  },
  {
   "cell_type": "markdown",
   "metadata": {},
   "source": [
    "The txt files from the original dataset have been converted to csv file with the function *ratings_text_to_csv()* in [utils.py](utils.py)\n",
    "\n",
    "The data loaded, will be the converted one. Here is a link to the [converted dataset](https://drive.google.com/drive/folders/1sbUpQaA4lJ_vyq-aX0h_sRIaG0B6oq_B?usp=drive_link)"
   ]
  },
  {
   "cell_type": "code",
   "execution_count": null,
   "metadata": {},
   "outputs": [],
   "source": [
    "# You need to extract the txt.zip files, and you will need to compress the csv files to csv.zip afterward\n",
    "#ratings_text_to_csv()"
   ]
  },
  {
   "cell_type": "markdown",
   "metadata": {},
   "source": [
    "## RAM limitation\n",
    "\n",
    "If there is to much data to load, you can limit the number of ratings to 'reduced' for each loading of ratings/reviews dataframe. It takes only the first 'reduced' ratings/reviews\n",
    "\n",
    "Avoid loading data you won't work with"
   ]
  },
  {
   "cell_type": "code",
   "execution_count": null,
   "metadata": {},
   "outputs": [],
   "source": [
    "#REDUCED = None # No reduction\n",
    "REDUCED = 1e5  # Approx 0.1% of the reviews"
   ]
  },
  {
   "cell_type": "markdown",
   "metadata": {},
   "source": [
    "## BeerAdvocate"
   ]
  },
  {
   "cell_type": "code",
   "execution_count": null,
   "metadata": {},
   "outputs": [],
   "source": [
    "# Load BeerAdvocate dataset\n",
    "beers_ba, breweries_ba, users_ba, ratings_ba = load_data('ba', reduced=REDUCED)"
   ]
  },
  {
   "cell_type": "markdown",
   "metadata": {},
   "source": [
    "### Beers"
   ]
  },
  {
   "cell_type": "code",
   "execution_count": null,
   "metadata": {},
   "outputs": [],
   "source": [
    "# A beer example\n",
    "beers_ba.sample().T"
   ]
  },
  {
   "cell_type": "markdown",
   "metadata": {},
   "source": [
    "**Fields description**\n",
    "\n",
    "***s.e.** means self-explanatory*\n",
    "\n",
    "+ From BeerAdvocate website :\n",
    "    * beer_id : s.e.\n",
    "    * beer_name : s.e.\n",
    "    * brewery_id : s.e.\n",
    "    * brewery_name : s.e.\n",
    "    * style : type of beer such as 'English India Pale Ale (IPA)'\n",
    "    * nbr_ratings : number of ratings given by the BeerAdvocate community\n",
    "    * nbr_reviews : same as number of ratings, BUT only includes thoses with at with a text review\n",
    "    * abv : Alcohol by volume\n",
    "    * avg : Description on website : \"Average across all ratings for this beer\", some ratings may be dropped for numerous reasons\n",
    "    * [ba_score](https://www.beeradvocate.com/community/threads/beeradvocate-ratings-explained.184726/) :\n",
    "\n",
    "        The BA Score is the beer's overall score based on its ranking within its style category. It's based on the beer's truncated (trimmed) mean and a custom Bayesian (weighted rank) formula that takes the beer's style into consideration. Its purpose is to provide consumers with a quick reference using a format that's familiar to the wine and liquor worlds.\n",
    "\n",
    "        + 95-100 = world-class\n",
    "        + 90-94 = outstanding\n",
    "        + 85-89 = very good\n",
    "        + 80-84 = good\n",
    "        + 70-79 = okay\n",
    "        + 60-69 = poor\n",
    "        + < 60 = awful\n",
    "    * bros_score (not used anymore today 2023) : a separate rating provided by the Alström brothers (founders of BA)\n",
    "\n",
    "+ Computed\n",
    "    + avg_computed : average of all the ratings about this beer\n",
    "    + zscore : \n",
    "        - Only computed for matched beers --> see matched beer data\n",
    "        - zscore of the beer rating with the beer ratings of the same year\n",
    "\n",
    "+ See matched beer data\n",
    "    * nbr_matched_valid_ratings \n",
    "    * avg_matched_valid_ratings "
   ]
  },
  {
   "cell_type": "markdown",
   "metadata": {},
   "source": [
    "### Breweries"
   ]
  },
  {
   "cell_type": "code",
   "execution_count": null,
   "metadata": {},
   "outputs": [],
   "source": [
    "breweries_ba.sample().T"
   ]
  },
  {
   "cell_type": "markdown",
   "metadata": {},
   "source": [
    "**Fields description**\n",
    "\n",
    "***s.e.** means self-explanatory*\n",
    "\n",
    "+ From BeerAdvocate website :\n",
    "    * id : s.e.\n",
    "    * location : (state, ) country the brewery\n",
    "    * name : s.e.\n",
    "\n",
    "+ Computed : \n",
    "    * nbr_beers : number of different beers produced by this brewery. Only the beers included in the database are included in the count"
   ]
  },
  {
   "cell_type": "markdown",
   "metadata": {},
   "source": [
    "### Users"
   ]
  },
  {
   "cell_type": "code",
   "execution_count": null,
   "metadata": {},
   "outputs": [],
   "source": [
    "users_ba.sample().T"
   ]
  },
  {
   "cell_type": "markdown",
   "metadata": {},
   "source": [
    "**Fields description**\n",
    "\n",
    "***s.e.** means self-explanatory*\n",
    "\n",
    "+ From BeerAdvocate website :\n",
    "    * nbr_ratings : s.e.\n",
    "    * nbr_reviews : s.e.\n",
    "    * user_id : s.e.\n",
    "    * user_name : s.e.\n",
    "    * joined : timestamp when the user joined the community (day precision, hours always at 12am)\n",
    "    * location : (state, ) country the user\n"
   ]
  },
  {
   "cell_type": "markdown",
   "metadata": {},
   "source": [
    "### Ratings and reviews"
   ]
  },
  {
   "cell_type": "code",
   "execution_count": null,
   "metadata": {},
   "outputs": [],
   "source": [
    "ratings_ba.sample().T"
   ]
  },
  {
   "cell_type": "markdown",
   "metadata": {},
   "source": [
    "**Fields description**\n",
    "\n",
    "***s.e.** means self-explanatory*\n",
    "\n",
    "+ From BeerAdvocate website\n",
    "\n",
    "    - beer_name : s.e.\n",
    "    - beer_id : s.e.\n",
    "    - brewery_name : s.e.\n",
    "    - brewery_id : s.e.\n",
    "    - style : type of beer such as 'English India Pale Ale (IPA)'\n",
    "    - abv : Alcohol by Volume\n",
    "    - date : timestamp of the rating (day precision, hours always at 12am)\n",
    "    - user_name : s.e.\n",
    "    - user_id : s.e.\n",
    "    * appearance : score on appearance given **by user**, 1 to 5 with resolution at 0.25\n",
    "    * aroma : score on appearance given **by user**, 1 to 5 with resolution at 0.25\n",
    "    * palate : score on palate given **by user**, 1 to 5 with resolution at 0.25\n",
    "    * taste : score on taste given **by user**, 1 to 5 with resolution at 0.25\n",
    "    * overall : score on overall given **by user**, 1 to 5 with resolution at 0.25\n",
    "    + rating : 0.06 * appearance + 0.24 * aroma + 0.10 * palate + 0.40 * taste + 0.20 * overall \n",
    "        - We found and checked the formula\n",
    "    * text : the review from the user\n",
    "    * review : True if the text has at least 150 characters\n"
   ]
  },
  {
   "cell_type": "markdown",
   "metadata": {},
   "source": [
    "## RateBeer"
   ]
  },
  {
   "cell_type": "code",
   "execution_count": null,
   "metadata": {},
   "outputs": [],
   "source": [
    "beers_rb, breweries_rb, users_rb, ratings_rb = load_data('rb', reduced=REDUCED)"
   ]
  },
  {
   "cell_type": "markdown",
   "metadata": {},
   "source": [
    "### Beers"
   ]
  },
  {
   "cell_type": "code",
   "execution_count": null,
   "metadata": {},
   "outputs": [],
   "source": [
    "beers_rb.sample().T"
   ]
  },
  {
   "cell_type": "markdown",
   "metadata": {},
   "source": [
    "**Fields description**\n",
    "\n",
    "***s.e.** means self-explanatory*\n",
    "\n",
    "+ From RateBeer website :\n",
    "    * beer_id : s.e.\n",
    "    * beer_name : s.e.\n",
    "    * brewery_id : s.e.\n",
    "    * brewery_name : s.e.\n",
    "    * style : type of beer such as 'India Pale Ale (IPA)'\n",
    "    * nbr_ratings : number of ratings given by the BeerAdvocate community\n",
    "\n",
    "    + overall_score : \n",
    "        - A score that ranks this beer against all other beers on RateBeer.\n",
    "        - score up to 100  , nan if no more than 10 ratings\n",
    "        - RateBeer uses an algorithm when calculating the overall score, considering both the ratings given by each user and the total number of ratings for the beer.\n",
    "    + style_score : rank among other beer of the same style, nan if no more than 10 ratings. Higher is better\n",
    "    \n",
    "    + avg : average rating (some ratings may dropped for numerous reasons) , 1 to 5\n",
    "    \n",
    "    * abv : Alcohol by volume\n",
    "    \n",
    "+ Computed :\n",
    "    + avg_computed : average of all the ratings about this beer\n",
    "    + zscore : \n",
    "        - Only computed for matched beers --> see matched beer data\n",
    "        - zscore of the beer rating with the beer ratings of the same year\n",
    "    \n",
    "+ See matched beer data\n",
    "    * nbr_matched_valid_ratings \n",
    "    * avg_matched_valid_ratings \n",
    "\n",
    "\n",
    "\n",
    "- About the scores :\n",
    "    - [Source for the scores explanation](https://www.ratebeer.com/our-scores)\n",
    "    - **DISCLAIMER** : The link above is the description of 2023, and may not correspond to the scores of the dataset that stop at year 2017\n",
    "    - Some ratings may not be counted for some score, for number of reasons --> see link above"
   ]
  },
  {
   "cell_type": "markdown",
   "metadata": {},
   "source": [
    "### Breweries"
   ]
  },
  {
   "cell_type": "code",
   "execution_count": null,
   "metadata": {},
   "outputs": [],
   "source": [
    "breweries_rb.sample().T"
   ]
  },
  {
   "cell_type": "markdown",
   "metadata": {},
   "source": [
    "**Fields description**\n",
    "\n",
    "***s.e.** means self-explanatory*\n",
    "\n",
    "+ From RateBeer website :\n",
    "    * id : s.e.\n",
    "    * location : (state, ) country the brewery\n",
    "    * name : s.e.\n",
    "\n",
    "+ Computed : \n",
    "    * nbr_beers : number of different beers produced by this brewery. Only the beers included in the database are included in the count"
   ]
  },
  {
   "cell_type": "markdown",
   "metadata": {},
   "source": [
    "### Users"
   ]
  },
  {
   "cell_type": "code",
   "execution_count": null,
   "metadata": {},
   "outputs": [],
   "source": [
    "users_rb.sample().T"
   ]
  },
  {
   "cell_type": "markdown",
   "metadata": {},
   "source": [
    "**Fields description**\n",
    "\n",
    "***s.e.** means self-explanatory*\n",
    "\n",
    "+ From RateBeer website :\n",
    "    * nbr_ratings : s.e.\n",
    "    * user_id : s.e.\n",
    "    * user_name : s.e.\n",
    "    * joined : timestamp when the user joined the community (day precision, hours always at 12am)\n",
    "    * location : (state, ) country the user"
   ]
  },
  {
   "cell_type": "markdown",
   "metadata": {},
   "source": [
    "### Ratings and reviews"
   ]
  },
  {
   "cell_type": "code",
   "execution_count": null,
   "metadata": {},
   "outputs": [],
   "source": [
    "ratings_rb.sample().T"
   ]
  },
  {
   "cell_type": "markdown",
   "metadata": {},
   "source": [
    "**Fields description**\n",
    "\n",
    "***s.e.** means self-explanatory*\n",
    "\n",
    "+ From RateBeer website\n",
    "\n",
    "    - beer_name : s.e.\n",
    "    - beer_id : s.e.\n",
    "    - brewery_name : s.e.\n",
    "    - brewery_id : s.e.\n",
    "    - style : type of beer such as 'English India Pale Ale (IPA)'\n",
    "    - abv : Alcohol by Volume\n",
    "    - date : timestamp of the rating (day precision, hours always at 12am)\n",
    "    - user_name : s.e.\n",
    "    - user_id : s.e.\n",
    "\n",
    "\n",
    "    * appearance : score on appearance given **by user**, 1 to 5 with resolution at 1\n",
    "    * aroma : score on appearance given **by user**, 1 to 10 with resolution at 1\n",
    "    * palate : score on palate given **by user**, 1 to 5 with resolution at 1\n",
    "    * taste : score on taste given **by user**, 1 to 10 with resolution at 1\n",
    "    * overall : score on overall given **by user**, 1 to 20 with resolution at 1\n",
    "    + rating :  sum of the 5 previous scores divided by 10\n",
    "        - We found and checked the formula. It works almost everytime (99.9996%)\n",
    "    * text : the review from the user\n"
   ]
  },
  {
   "cell_type": "markdown",
   "metadata": {},
   "source": [
    "## Matched beer data"
   ]
  },
  {
   "cell_type": "markdown",
   "metadata": {},
   "source": [
    "[matching method](https://github.com/epfl-dlab/when_sheep_shop/blob/master/code/notebooks/1-matching.ipynb)"
   ]
  },
  {
   "cell_type": "code",
   "execution_count": null,
   "metadata": {},
   "outputs": [],
   "source": [
    "beers_matched, breweries_matched, users_matched, ratings_matched = load_data('matched', reduced=REDUCED)\n",
    "(users_matched, users_approx_matched) = users_matched\n",
    "(ratings_matched, ratings_ba_matched, ratings_rb_matched) = ratings_matched"
   ]
  },
  {
   "cell_type": "markdown",
   "metadata": {},
   "source": [
    "### Breweries"
   ]
  },
  {
   "cell_type": "markdown",
   "metadata": {},
   "source": [
    "**How the matching is done**:\n",
    "\n",
    "Breweries are matched on the name (cosine **sim** of at least 0.8 and **diff**erence between first and second match of at least 0.3) and on the location (exact match)\n",
    "\n",
    "*Explanation of sim and diff fields above*"
   ]
  },
  {
   "cell_type": "code",
   "execution_count": null,
   "metadata": {},
   "outputs": [],
   "source": [
    "breweries_matched.head(2).T"
   ]
  },
  {
   "cell_type": "markdown",
   "metadata": {},
   "source": [
    "**Fields** : All the fields are either explained above or self explanatory"
   ]
  },
  {
   "cell_type": "markdown",
   "metadata": {},
   "source": [
    "### Beers"
   ]
  },
  {
   "cell_type": "markdown",
   "metadata": {},
   "source": [
    "\n",
    "**How the matching is done**:\n",
    "\n",
    "Beers are matched on the name without the brewery name (cosine **sim** of at least 0.8 and **diff**erence between first and second match of at least 0.4) from the matched breweries and on their ABV (exact match)\n",
    "\n",
    "*Explanation of sim and diff fields above*\n",
    "\n",
    "+ nbr_matched_valid_ratings : number of matched ratings with the condition stated above\n",
    "+ avg_matched_valid_ratings : average rating of the matched ratings"
   ]
  },
  {
   "cell_type": "code",
   "execution_count": null,
   "metadata": {},
   "outputs": [],
   "source": [
    "beers_matched.head(2).T"
   ]
  },
  {
   "cell_type": "markdown",
   "metadata": {},
   "source": [
    "**Fields** : All the fields are either explained above or self explanatory"
   ]
  },
  {
   "cell_type": "markdown",
   "metadata": {},
   "source": [
    "### Users and users_approx"
   ]
  },
  {
   "cell_type": "markdown",
   "metadata": {},
   "source": [
    "\n",
    "**How the matching is done**:\n",
    "\n",
    "- users : The users are matched on their username and their location (exact matches). The usernames are transformed into only lowercase letters.\n",
    "- users_approx : The users are matched on their username and their location (cosine **sim** of at least 0.9). The usernames are transformed into only lowercase letters.\n",
    "\n",
    "*Explanation of sim and diff fields above*"
   ]
  },
  {
   "cell_type": "code",
   "execution_count": null,
   "metadata": {},
   "outputs": [],
   "source": [
    "users_matched.head(2).T"
   ]
  },
  {
   "cell_type": "code",
   "execution_count": null,
   "metadata": {},
   "outputs": [],
   "source": [
    "users_approx_matched.head(2).T"
   ]
  },
  {
   "cell_type": "markdown",
   "metadata": {},
   "source": [
    "**Fields** : All the fields are either explained above or self explanatory"
   ]
  },
  {
   "cell_type": "markdown",
   "metadata": {},
   "source": [
    "### All ratings"
   ]
  },
  {
   "cell_type": "markdown",
   "metadata": {},
   "source": [
    "Match ratings with matched user and matched beer\n",
    "\n",
    "* ratings_matched : All matched ratings\n",
    "* ratings_ba_matched : All matched ratings from BeerAdvocate\n",
    "* ratings_rb_matched : All matched ratings from RateBeer\n",
    "* ratings_with_text_ba_matched : All matched ratings from BeerAdvocate, with review == True\n",
    "* ratings_with_text_rb_matched : All matched ratings from RateBeer, with a text review\n",
    "\n",
    "Every fields have been explained above"
   ]
  },
  {
   "cell_type": "code",
   "execution_count": null,
   "metadata": {},
   "outputs": [],
   "source": [
    "ratings_matched.head(2).T"
   ]
  },
  {
   "cell_type": "code",
   "execution_count": null,
   "metadata": {},
   "outputs": [],
   "source": [
    "ratings_ba_matched.sample().T"
   ]
  },
  {
   "cell_type": "code",
   "execution_count": null,
   "metadata": {},
   "outputs": [],
   "source": [
    "ratings_rb_matched.sample().T"
   ]
  },
  {
   "cell_type": "markdown",
   "metadata": {},
   "source": [
    "# Data preprocessing : "
   ]
  },
  {
   "cell_type": "markdown",
   "metadata": {},
   "source": [
    "## Goal: Preprocess the dataset\n",
    "- Handle nan values\n",
    "- Type conversion\n",
    "- Transform numerical values"
   ]
  },
  {
   "cell_type": "markdown",
   "metadata": {},
   "source": [
    "## Main points from [data exploration](1.exploration.ipynb)"
   ]
  },
  {
   "cell_type": "markdown",
   "metadata": {},
   "source": [
    "**Datasets nomenclature**\n",
    "- BeerAdvocate : BA or ba\n",
    "- RateBeer : RB or rb\n",
    "- Matched_beer_data : MBD or matched"
   ]
  },
  {
   "cell_type": "markdown",
   "metadata": {},
   "source": [
    "**Rating ranges and formulas**\n",
    "- The score appearance, aroma, palate, taste, overall **ranges** and **resolution** in ba and rb :\n",
    "    - BA \n",
    "        + ranges (resp.) : 1-5,1-5,1-5,1-5,1-5  \n",
    "        + with 0.25 resolution\n",
    "    - RB \n",
    "        + ranges (resp.) : 1-5,1-10,1-5,1-10,1-20 \n",
    "        + with 1 resolution\n",
    "- the **rating is a linear combination** of the 5 mentioned score above\n",
    "    - BA rating \n",
    "        + rating = 0.06 * appearance + 0.24 * aroma + 0.10 * palate + 0.40 * taste + 0.20 * overall \n",
    "        + range from 1 to 5\n",
    "    - RB rating \n",
    "        + rating = 0.1 * appearance + 0.1 * aroma + 0.1 * palate + 0.1 * taste + 0.1 * overall\n",
    "        + range from 1 to 5\n",
    "\n",
    "    + Therefore the ratings from both datasets are not comparable"
   ]
  },
  {
   "cell_type": "markdown",
   "metadata": {},
   "source": [
    "**Aggragated scores from all users** \n",
    "\n",
    "+ BOTH : **z-score is only computed** for data occuring **in MBD**\n",
    "    - The z-score of a beer, is the z-score of with all the ratings of the same beer occuring the **same year**\n",
    "+ BOTH : avg_computed may differ from avg, since ba and rb drops some ratings on some criterion\n",
    "\n",
    "\n",
    "+ BA : bros_score in the BA dataset is a score given by the founders of BA \n",
    "+ BA : ba_score is the score of the beer by the BA community, see description [here](https://www.beeradvocate.com/community/threads/beeradvocate-ratings-explained.184726/)\n",
    "\n",
    "\n",
    "+ RB : style score is a ranking of the beer among the beer of the same style. High rank (e.g 80 is better than 3 for beer of the same style)\n",
    "\n",
    "+ RB : overall score is in range (1-100) and is a score to rank all the beers on RB\n",
    "    - RateBeer uses an algorithm when calculating the overall score, considering both the ratings given by each user and the total number of ratings for the beer. Need at least 10 ratings"
   ]
  },
  {
   "cell_type": "markdown",
   "metadata": {},
   "source": [
    "## Load data"
   ]
  },
  {
   "cell_type": "markdown",
   "metadata": {},
   "source": [
    "**Downloading and unziping data**"
   ]
  },
  {
   "cell_type": "code",
   "execution_count": 6,
   "metadata": {},
   "outputs": [
    {
     "name": "stdout",
     "output_type": "stream",
     "text": [
      "downloading data from RateBeer...\n",
      "downloading data from BeerAdvocate...\n",
      "done\n",
      "Unziping preprocessed variables...\n",
      "done\n"
     ]
    }
   ],
   "source": [
    "if not os.path.isdir('../data/'):\n",
    "    os.mkdir('../data')\n",
    "    os.mkdir('../data/preprocessed')\n",
    "    os.mkdir('../data/preprocessed/BeerAdvocate')\n",
    "    os.mkdir('../data/preprocessed/RateBeer')\n",
    "\n",
    "    # download data for RateBeer\n",
    "    print('downloading data from RateBeer...')\n",
    "    url = 'https://enacshare.epfl.ch/feztsAxLPobV3RgZpMJ7vuHYKB9XicN'\n",
    "    path = '../data/RateBeer.zip'\n",
    "    r = requests.get(url, allow_redirects=True)\n",
    "    open(path, 'wb').write(r.content)\n",
    "    with zipfile.ZipFile(path, 'r') as zip_ref:\n",
    "        zip_ref.extractall('../data/')\n",
    "    \n",
    "    # download data for BeerAdvocate\n",
    "    print('downloading data from BeerAdvocate...')\n",
    "    url = 'https://enacshare.epfl.ch/f3HwZ5QxprJbsLu6c92qmeRvoYiahVT'\n",
    "    path = '../data/BeerAdvocate.zip'\n",
    "    r = requests.get(url, allow_redirects=True)\n",
    "    open(path, 'wb').write(r.content)\n",
    "    with zipfile.ZipFile(path, 'r') as zip_ref:\n",
    "        zip_ref.extractall('../data/')\n",
    "    print('done')\n",
    "    os.remove('../data/BeerAdvocate.zip')\n",
    "    os.remove('../data/RateBeer.zip')\n",
    "\n",
    "if not os.path.isdir('./variables/'):\n",
    "    print('Unziping preprocessed variables...')\n",
    "  \n",
    "    with zipfile.ZipFile('./variables.zip', 'r') as zip_ref:\n",
    "        zip_ref.extractall('./')\n",
    "    print('done')"
   ]
  },
  {
   "cell_type": "markdown",
   "metadata": {},
   "source": [
    "**Dataset prefiltering**\n",
    "- reviews are just the ratings that contain a text review. To avoid duplicates let's not load it\n",
    "- MBD do not give us the information we need. Let's not load it\n",
    "    + We won't use the already computed z-score, since it's limited to this dataset"
   ]
  },
  {
   "cell_type": "markdown",
   "metadata": {},
   "source": [
    "**RAM limitation :**"
   ]
  },
  {
   "cell_type": "code",
   "execution_count": 7,
   "metadata": {},
   "outputs": [],
   "source": [
    "REDUCED = None\n",
    "#REDUCED = 2e6  # 1e6 <=> Approx 25% of the ratings (approx : 3Gb), set to None to load all the data"
   ]
  },
  {
   "cell_type": "markdown",
   "metadata": {},
   "source": [
    "**Loading**"
   ]
  },
  {
   "cell_type": "code",
   "execution_count": 8,
   "metadata": {},
   "outputs": [
    {
     "name": "stdout",
     "output_type": "stream",
     "text": [
      "CPU times: total: 1min 8s\n",
      "Wall time: 1min 25s\n"
     ]
    }
   ],
   "source": [
    "%%time\n",
    "beers_ba, breweries_ba, users_ba, ratings_ba = load_data('ba', REDUCED)\n",
    "beers_rb, breweries_rb, users_rb, ratings_rb = load_data('rb', REDUCED)"
   ]
  },
  {
   "cell_type": "markdown",
   "metadata": {},
   "source": [
    "## Filtering out useless information/Nan"
   ]
  },
  {
   "cell_type": "code",
   "execution_count": 9,
   "metadata": {},
   "outputs": [
    {
     "name": "stdout",
     "output_type": "stream",
     "text": [
      "Filtering out all beers with 0 ratings or less\n",
      "Beers kept : \n",
      "\t BA : 217107/280823\n",
      "\t RB : 359958/442081\n",
      "Breweries kept : \n",
      "\t BA : 12934/16758\n",
      "\t RB : 20804/24189\n",
      "Ratings kept : \n",
      "\t BA : 8221727/8393032\n",
      "\t RB : 6947090/7122074\n"
     ]
    }
   ],
   "source": [
    "# Drop information about MBD\n",
    "beers_ba = beers_ba.drop(['zscore','nbr_matched_valid_ratings','avg_matched_valid_ratings'], axis=1)\n",
    "beers_rb = beers_rb.drop(['zscore','nbr_matched_valid_ratings','avg_matched_valid_ratings'], axis=1)\n",
    "\n",
    "# Drop beers without more than 'min_ratings' ratings\n",
    "n_beers_ba = len(beers_ba) \n",
    "n_beers_rb = len(beers_rb)\n",
    "\n",
    "min_ratings = 0 \n",
    "print(f'Filtering out all beers with {min_ratings} ratings or less')\n",
    "beers_ba = beers_ba[beers_ba.nbr_ratings>min_ratings]\n",
    "beers_rb = beers_rb[beers_rb.nbr_ratings>min_ratings]\n",
    "\n",
    "# Drop beers with important information missing\n",
    "beers_ba = beers_ba.dropna(subset=['abv'])\n",
    "beers_rb = beers_rb.dropna(subset=['abv'])\n",
    "\n",
    "print(f'Beers kept : ')\n",
    "print(f'\\t BA : {len(beers_ba)}/{n_beers_ba}')\n",
    "print(f'\\t RB : {len(beers_rb)}/{n_beers_rb}')\n",
    "\n",
    "# Filter out breweries with only beers that have been filtered out\n",
    "n_breweries_ba = len(breweries_ba) \n",
    "n_breweries_rb = len(breweries_rb) \n",
    "breweries_ba = breweries_ba[breweries_ba['id'].isin(beers_ba['brewery_id'])]\n",
    "breweries_rb = breweries_rb[breweries_rb['id'].isin(beers_rb['brewery_id'])]\n",
    "print(f'Breweries kept : ')\n",
    "print(f'\\t BA : {len(breweries_ba)}/{n_breweries_ba}')\n",
    "print(f'\\t RB : {len(breweries_rb)}/{n_breweries_rb}')\n",
    "\n",
    "# Filter out ratings about beers that have been filtered out\n",
    "n_ratings_ba = len(ratings_ba)\n",
    "n_ratings_rb = len(ratings_rb)\n",
    "ratings_ba = ratings_ba[ratings_ba['beer_id'].isin(beers_ba['beer_id'])]\n",
    "ratings_rb = ratings_rb[ratings_rb['beer_id'].isin(beers_rb['beer_id'])]\n",
    "print(f'Ratings kept : ')\n",
    "print(f'\\t BA : {len(ratings_ba)}/{n_ratings_ba}')\n",
    "print(f'\\t RB : {len(ratings_rb)}/{n_ratings_rb}')"
   ]
  },
  {
   "cell_type": "markdown",
   "metadata": {},
   "source": [
    "## Populate ratings with location of beer and user"
   ]
  },
  {
   "cell_type": "code",
   "execution_count": 10,
   "metadata": {},
   "outputs": [],
   "source": [
    "# Rename location variable in users and breweries\n",
    "users_ba.rename(columns={'location':'user_location'}, inplace=True)\n",
    "breweries_ba.rename(columns={'location':'brewery_location', 'id':'brewery_id', 'nbr_beers':'nbr_beers_by_brewery'}, inplace=True)\n",
    "users_rb.rename(columns={'location':'user_location'}, inplace=True)\n",
    "breweries_rb.rename(columns={'location':'brewery_location', 'id':'brewery_id', 'nbr_beers':'nbr_beers_by_brewery'}, inplace=True)\n",
    "\n",
    "# Populate ratings with locations from users and breweries\n",
    "ratings_ba = pd.merge(left=ratings_ba, right=users_ba[['user_id', 'user_location']], on='user_id', how='left')\n",
    "ratings_ba = pd.merge(left=ratings_ba, right=breweries_ba[['brewery_id', 'brewery_location', 'nbr_beers_by_brewery']], on='brewery_id', how='left')\n",
    "ratings_rb = pd.merge(left=ratings_rb, right=users_rb[['user_id', 'user_location']], on='user_id', how='left')\n",
    "ratings_rb = pd.merge(left=ratings_rb, right=breweries_rb[['brewery_id', 'brewery_location', 'nbr_beers_by_brewery']], on='brewery_id', how='left')"
   ]
  },
  {
   "cell_type": "markdown",
   "metadata": {},
   "source": [
    "## Transform ratings to normal distribution and compute zscore"
   ]
  },
  {
   "cell_type": "code",
   "execution_count": 11,
   "metadata": {},
   "outputs": [
    {
     "data": {
      "image/png": "[encoded data removed]",
      "text/plain": [
       "<Figure size 640x480 with 1 Axes>"
      ]
     },
     "metadata": {},
     "output_type": "display_data"
    }
   ],
   "source": [
    "ratings_ba.rating.apply(lambda x: x**3).hist()\n",
    "ratings_ba['zscore'] = ratings_ba['rating'].apply(lambda x: x**3)\n",
    "ratings_ba['zscore'] = (ratings_ba['zscore']-ratings_ba['zscore'].mean())/ratings_ba['zscore'].std()"
   ]
  },
  {
   "cell_type": "code",
   "execution_count": 12,
   "metadata": {},
   "outputs": [
    {
     "data": {
      "image/png": "[encoded data removed]",
      "text/plain": [
       "<Figure size 640x480 with 1 Axes>"
      ]
     },
     "metadata": {},
     "output_type": "display_data"
    }
   ],
   "source": [
    "ratings_rb.rating.apply(lambda x: x**2).hist()\n",
    "ratings_rb['zscore'] = ratings_rb['rating'].apply(lambda x: x**2)\n",
    "ratings_rb['zscore'] = (ratings_rb['zscore']-ratings_rb['zscore'].mean())/ratings_rb['zscore'].std()"
   ]
  },
  {
   "cell_type": "markdown",
   "metadata": {},
   "source": [
    "## Save transformed ratings"
   ]
  },
  {
   "cell_type": "code",
   "execution_count": 13,
   "metadata": {},
   "outputs": [],
   "source": [
    "ratings_ba.sample(frac=0.1, random_state=42).to_pickle('../data/preprocessed/BeerAdvocate/transformed_ratings_ba.pkl')\n",
    "ratings_rb.sample(frac=0.1, random_state=42).to_pickle('../data/preprocessed/RateBeer/transformed_ratings_rb.pkl')\n",
    "ratings_ba.sample(frac=1.0, random_state=42).to_pickle('../data/preprocessed/BeerAdvocate/transformed_ratings_ba_full.pkl')\n",
    "ratings_rb.sample(frac=1.0, random_state=42).to_pickle('../data/preprocessed/RateBeer/transformed_ratings_rb_full.pkl')"
   ]
  },
  {
   "cell_type": "markdown",
   "metadata": {},
   "source": [
    "# Beer type preferences"
   ]
  },
  {
   "cell_type": "markdown",
   "metadata": {},
   "source": [
    "## Functions"
   ]
  },
  {
   "cell_type": "code",
   "execution_count": null,
   "metadata": {},
   "outputs": [],
   "source": [
    "def get_LR(data, columns):\n",
    "    data_to_process = data.copy() # copy original dataset\n",
    "    \n",
    "    # create formula\n",
    "    columns=list(columns)\n",
    "    formula = 'rating ~ ' + columns[0]\n",
    "    for el in columns[1:-1]:\n",
    "        formula += ' + ' + el\n",
    "    \n",
    "    # standardization and creation of the formula\n",
    "    columns.append('rating')  # add rating for the linear regression and standardization\n",
    "    data_to_process = data_to_process[columns].dropna().sample(frac=1)  # only keeps columns of interest and shuffle the samples\n",
    "    data_to_process['rating'] = (data_to_process['rating'] - data_to_process['rating'].mean()) / data_to_process['rating'].std()\n",
    "    \n",
    "    # create the model and fit it to the dataset\n",
    "    mod = smf.ols(formula=formula, data=data_to_process)\n",
    "    np.random.seed(2)\n",
    "    res = mod.fit()\n",
    "    return res"
   ]
  },
  {
   "cell_type": "code",
   "execution_count": null,
   "metadata": {},
   "outputs": [],
   "source": [
    "def styles_rephrase(lst_styles):\n",
    "    # replace some characters\n",
    "    old_values = [' ', '-', '/', '(', ')', '&', ',', '____', '___', '__', 'style_']\n",
    "    for val in old_values:\n",
    "        lst_styles = lst_styles.str.replace(val,'_')\n",
    "    \n",
    "    # remove '_' if in first or last position of style name\n",
    "    lst_styles = [x.rstrip('_') for x in lst_styles]\n",
    "    lst_styles = [x.lstrip('_') for x in lst_styles]\n",
    "    \n",
    "    return lst_styles"
   ]
  },
  {
   "cell_type": "code",
   "execution_count": null,
   "metadata": {},
   "outputs": [],
   "source": [
    "def get_category(df):\n",
    "    # rephrase styles\n",
    "    old_values = [' ', '-', '/', '\\(', '\\)', '\\&', ',']\n",
    "    df.replace(\n",
    "        to_replace={'style':old_values},\n",
    "        value='_',\n",
    "        regex=True,\n",
    "        inplace=True,\n",
    "    )\n",
    "    df.replace(\n",
    "        to_replace={'style':'____'},\n",
    "        value='_',\n",
    "        regex=True,\n",
    "        inplace=True,\n",
    "    )\n",
    "    df.replace(\n",
    "        to_replace={'style':'___'},\n",
    "        value='_',\n",
    "        regex=True,\n",
    "        inplace=True,\n",
    "    )\n",
    "    df.replace(\n",
    "        to_replace={'style':'__'},\n",
    "        value='_',\n",
    "        regex=True,\n",
    "        inplace=True,\n",
    "    )\n",
    "    df['style'] = df['style'].str.strip('_')\n",
    "\n",
    "    # load csv\n",
    "    df_styles_to_cat = pd.read_csv('./styles_to_categories.csv', sep=';')\n",
    "\n",
    "    # add category for each review\n",
    "    df['category'] = \"nothing\"\n",
    "    for cat in df_styles_to_cat.columns:\n",
    "        for style in df_styles_to_cat[cat].dropna():\n",
    "            df.loc[df['style'] == style, 'category'] = cat\n",
    "\n",
    "    # remove elements with unknown style\n",
    "    num_wrong_style = len(df[df.category == 'nothing'])\n",
    "    if num_wrong_style > 0:\n",
    "        df = df[df.category != 'nothing']\n",
    "        print(f\"{num_wrong_style} element removed because of unknown style\")\n",
    "\n",
    "    return df"
   ]
  },
  {
   "cell_type": "markdown",
   "metadata": {},
   "source": [
    "## Loading and selecting data"
   ]
  },
  {
   "cell_type": "code",
   "execution_count": null,
   "metadata": {},
   "outputs": [],
   "source": [
    "df_ba = pd.read_pickle('../data/preprocessed/BeerAdvocate/transformed_ratings_ba.pkl')\n",
    "df_rb = pd.read_pickle('../data/preprocessed/RateBeer/transformed_ratings_rb.pkl')"
   ]
  },
  {
   "cell_type": "code",
   "execution_count": null,
   "metadata": {},
   "outputs": [],
   "source": [
    "df_ba_style = df_ba[['beer_id', 'beer_name', 'brewery_id', 'brewery_name', 'brewery_location', 'user_location', 'style','rating']]\n",
    "df_rb_style = df_rb[['beer_id', 'beer_name', 'brewery_id', 'brewery_name', 'brewery_location', 'user_location', 'style','rating']]\n",
    "\n",
    "# creating dataframe for styles/category analysis\n",
    "df_styles_reviews = pd.concat([df_ba_style, df_rb_style]).reset_index().drop('index', axis=1).dropna()\n",
    "df_styles_reviews['brewery_location'] = df_styles_reviews['brewery_location'].str.replace(\"United States, \", \"\")\n",
    "df_styles_reviews['user_location'] = df_styles_reviews['user_location'].str.replace(\"United States, \", \"\")"
   ]
  },
  {
   "cell_type": "markdown",
   "metadata": {},
   "source": [
    "## Sorting by countries"
   ]
  },
  {
   "cell_type": "code",
   "execution_count": null,
   "metadata": {},
   "outputs": [],
   "source": [
    "user_loc_count = df_styles_reviews.groupby(['user_location'])['user_location'].count().sort_values(ascending=False)\n",
    "\n",
    "# select countries with more than 100 reviews:\n",
    "user_loc_count = user_loc_count[user_loc_count > 100]\n",
    "print(f\"Number of countries selected: {len(user_loc_count)}\")"
   ]
  },
  {
   "cell_type": "markdown",
   "metadata": {},
   "source": [
    "## Finding favourite category"
   ]
  },
  {
   "cell_type": "code",
   "execution_count": null,
   "metadata": {},
   "outputs": [],
   "source": [
    "df_cat_location_dumm = pd.get_dummies(df_styles_reviews, columns=['category'])\n",
    "best_cat_per_user_location = {}\n",
    "\n",
    "# remove special characters in columns names\n",
    "df_cat_location_dumm.columns = df_cat_location_dumm.columns.str.replace('category_', '')\n",
    "\n",
    "# transform boolean values to int values for linear regression\n",
    "for col in df_cat_location_dumm.drop(['beer_id', 'beer_name', 'brewery_name', 'brewery_location','user_location', 'brewery_id', 'rating','style'], axis=1).columns:\n",
    "    df_cat_location_dumm[col] = df_cat_location_dumm[col] * 1\n",
    "\n",
    "# perform linear regression on each location\n",
    "columns= list(df_cat_location_dumm.drop(['beer_id', 'beer_name', 'user_location', 'brewery_name', 'brewery_location', 'brewery_id', 'rating', 'style'], axis=1).columns)\n",
    "for idx, loc in enumerate(list(user_loc_count.keys())):\n",
    "    df_reviews = df_cat_location_dumm[df_styles_reviews['user_location'] == loc]\n",
    "    res = get_LR(df_reviews, columns)\n",
    "    best_cat_per_user_location[loc] = res.params[res.params.keys() != 'Intercept'].sort_values(ascending=False)[0:3]\n",
    "\n",
    "# save dictionary in pickle for other analysis\n",
    "with open('./variables/best_cat_per_user_location.pickle', 'wb') as f:\n",
    "    pickle.dump(best_cat_per_user_location, f, protocol=pickle.HIGHEST_PROTOCOL)"
   ]
  },
  {
   "cell_type": "markdown",
   "metadata": {},
   "source": [
    "## Finding most reviewed category"
   ]
  },
  {
   "cell_type": "code",
   "execution_count": null,
   "metadata": {},
   "outputs": [],
   "source": [
    "most_reviewed_cat_per_user_location = {}\n",
    "for idx, loc in enumerate(list(user_loc_count.keys())):\n",
    "    most_reviewed_cat_per_user_location[loc] = df_styles_reviews[df_styles_reviews['user_location']==loc].groupby(['category'])['category'].count().sort_values(ascending=False)[:3]"
   ]
  },
  {
   "cell_type": "markdown",
   "metadata": {},
   "source": [
    "## Finding local breweries"
   ]
  },
  {
   "cell_type": "code",
   "execution_count": null,
   "metadata": {},
   "outputs": [],
   "source": [
    "frac_reviews_per_brewery = {}\n",
    "\n",
    "# loop on every location\n",
    "for idx, loc in tqdm(enumerate(list(user_loc_count.keys())), total=len(list(user_loc_count.keys()))):\n",
    "\n",
    "    # total number of reviews per brewery\n",
    "    num_reviews_per_brewery = df_styles_reviews[df_styles_reviews['brewery_location'] == loc] \\\n",
    "    .groupby(['brewery_name'])['brewery_name'] \\\n",
    "    .count() \\\n",
    "    .sort_values(ascending=False)\n",
    "\n",
    "    # number of local reviews per brewery\n",
    "    num_reviews_per_brewery_loc = df_styles_reviews[(df_styles_reviews['brewery_location'] == loc) & (df_styles_reviews['user_location'] == loc)] \\\n",
    "    .groupby(['brewery_name'])['brewery_name'] \\\n",
    "    .count() \\\n",
    "    .sort_values(ascending=False)\n",
    "\n",
    "    num_reviews_per_brewery.keys = num_reviews_per_brewery_loc.keys\n",
    "    num_reviews_per_brewery = num_reviews_per_brewery.loc[num_reviews_per_brewery_loc.keys()]\n",
    "\n",
    "    # fraction of local rewviews per brewery (50% and up)\n",
    "    frac_reviews_per_brewery[loc] = num_reviews_per_brewery_loc.divide(num_reviews_per_brewery).sort_values(ascending=False)\n",
    "    frac_reviews_per_brewery[loc] = frac_reviews_per_brewery[loc][frac_reviews_per_brewery[loc].values > .5]\n",
    "    "
   ]
  },
  {
   "cell_type": "code",
   "execution_count": null,
   "metadata": {},
   "outputs": [],
   "source": [
    "# removing the locations with no \"local\" breweries (meaning that there is no brewery with high enough fraction of local reviewers)\n",
    "init_num_loc = len(frac_reviews_per_brewery)\n",
    "lst_empty_loc = []\n",
    "for loc in frac_reviews_per_brewery:\n",
    "    if len(frac_reviews_per_brewery[loc]) == 0:\n",
    "        lst_empty_loc.append(loc)\n",
    "for loc in lst_empty_loc:\n",
    "    frac_reviews_per_brewery.pop(loc)\n",
    "lst_locations = list(frac_reviews_per_brewery.keys())\n",
    "\n",
    "print(f\"{str(init_num_loc - len(lst_locations))} locations where removed\")"
   ]
  },
  {
   "cell_type": "markdown",
   "metadata": {},
   "source": [
    "## Looking for each country if local breweries is answering to local preferences"
   ]
  },
  {
   "cell_type": "markdown",
   "metadata": {},
   "source": [
    "### Get the global average representation of each style"
   ]
  },
  {
   "cell_type": "markdown",
   "metadata": {},
   "source": [
    "#### Find values for \"difference\" computation"
   ]
  },
  {
   "cell_type": "code",
   "execution_count": null,
   "metadata": {},
   "outputs": [],
   "source": [
    "retrain_glob_frac = False\n",
    "if retrain_glob_frac:\n",
    "    global_frac_per_cat = {}\n",
    "    for cat in df_styles_reviews.category.unique():\n",
    "        print(f\"Compute for {cat}...\")\n",
    "        global_frac_per_cat[cat] = 0\n",
    "        for brewery in list(df_styles_reviews.brewery_name.unique()):\n",
    "            df_brewery = df_styles_reviews[df_styles_reviews['brewery_name'] == brewery][['category','brewery_name']]\n",
    "            val = list(df_brewery[df_brewery['category'] == cat].groupby('category')['category'].count()/len(df_brewery))\n",
    "            if val != []:\n",
    "                global_frac_per_cat[cat] += val[0]\n",
    "        global_frac_per_cat[cat] /= len(df_styles_reviews.brewery_name.unique())\n",
    "\n",
    "    # save dictionaries\n",
    "    with open('./variables/global_frac_per_cat.pickle', 'wb') as handle:\n",
    "        pickle.dump(global_frac_per_cat, handle, protocol=pickle.HIGHEST_PROTOCOL)\n",
    "else:\n",
    "    with open('./variables/global_frac_per_cat.pickle', 'rb') as handle:\n",
    "        global_frac_per_cat = pickle.load(handle)"
   ]
  },
  {
   "cell_type": "markdown",
   "metadata": {},
   "source": [
    "#### Find lists for \"zscore\" computation"
   ]
  },
  {
   "cell_type": "code",
   "execution_count": null,
   "metadata": {},
   "outputs": [],
   "source": [
    "do_retrain_glob_frac_lst = False\n",
    "if do_retrain_glob_frac_lst:\n",
    "    global_frac_per_cat_lst = {}\n",
    "    for cat in df_styles_reviews.category.unique():\n",
    "        print(f\"Compute for {cat}...\")\n",
    "        global_frac_per_cat_lst[cat] = []\n",
    "        breweries = list(df_styles_reviews.brewery_name.unique())\n",
    "        for brewery in breweries:\n",
    "            df_brewery = df_styles_reviews[df_styles_reviews['brewery_name'] == brewery][['category','brewery_name']]\n",
    "            val = list(df_brewery[df_brewery['category'] == cat].groupby('category')['category'].count()/len(df_brewery))\n",
    "            if val != []:\n",
    "                global_frac_per_cat_lst[cat].append(val[0])\n",
    "            else:\n",
    "                global_frac_per_cat_lst[cat].append(0)\n",
    "                \n",
    "    # save dictionaries\n",
    "    with open('./variables/global_frac_per_cat_lst.pickle', 'wb') as handle:\n",
    "        pickle.dump(global_frac_per_cat_lst, handle, protocol=pickle.HIGHEST_PROTOCOL)\n",
    "else:\n",
    "    with open('./variables/global_frac_per_cat_lst.pickle', 'rb') as handle:\n",
    "        global_frac_per_cat_lst = pickle.load(handle)"
   ]
  },
  {
   "cell_type": "code",
   "execution_count": null,
   "metadata": {},
   "outputs": [],
   "source": [
    "# find mean and std for zscore\n",
    "global_frac_per_cat_lst_mean = {}\n",
    "global_frac_per_cat_lst_std = {}\n",
    "for cat in df_styles_reviews.category.unique():\n",
    "    global_frac_per_cat_lst_mean[cat] = np.mean(np.asarray(global_frac_per_cat_lst[cat]))\n",
    "    global_frac_per_cat_lst_std[cat] = np.std(np.asarray(global_frac_per_cat_lst[cat]))"
   ]
  },
  {
   "cell_type": "markdown",
   "metadata": {},
   "source": [
    "### Compare for each location"
   ]
  },
  {
   "cell_type": "code",
   "execution_count": null,
   "metadata": {},
   "outputs": [],
   "source": [
    "do_compare_loc = False\n",
    "if do_compare_loc == True:\n",
    "    # loop on every location\n",
    "    frac_per_loc_per_cat = {}\n",
    "    for idx, loc in tqdm(enumerate(lst_locations), total=len(lst_locations)):\n",
    "        breweries = frac_reviews_per_brewery[loc].keys()\n",
    "        cats = best_cat_per_user_location[loc].keys()\n",
    "        frac_per_loc_per_cat[loc] = {}\n",
    "        for cat in cats:\n",
    "            frac_per_loc_per_cat[loc][cat] = 0\n",
    "            for brewery in breweries:\n",
    "                df_brewery = df_styles_reviews[df_styles_reviews['brewery_name'] == brewery][['category','brewery_name']]\n",
    "                val = list(df_brewery[df_brewery['category'] == cat].groupby('category')['category'].count()/len(df_brewery))\n",
    "\n",
    "                if val != []:\n",
    "                    frac_per_loc_per_cat[loc][cat] += val[0]\n",
    "                \n",
    "            if len(breweries) > 0:\n",
    "                frac_per_loc_per_cat[loc][cat] /= len(breweries)\n",
    "            else:\n",
    "                print(\"No breweries for : \" + loc)\n",
    "    \n",
    "    # save library\n",
    "    with open('./variables/frac_per_loc_per_cat.pickle', 'wb') as handle:\n",
    "        pickle.dump(frac_per_loc_per_cat, handle, protocol=pickle.HIGHEST_PROTOCOL)\n",
    "else:\n",
    "    with open('./variables/frac_per_loc_per_cat.pickle', 'rb') as handle:\n",
    "        frac_per_loc_per_cat = pickle.load(handle)"
   ]
  },
  {
   "cell_type": "code",
   "execution_count": null,
   "metadata": {},
   "outputs": [],
   "source": [
    "# compute diff and z-score\n",
    "diff_frac_per_loc_per_cat = {}\n",
    "zscore_frac_per_loc_per_cat = {}\n",
    "for loc in lst_locations:\n",
    "    diff_frac_per_loc_per_cat[loc] = {}\n",
    "    zscore_frac_per_loc_per_cat[loc] = {}\n",
    "    for cat in frac_per_loc_per_cat[loc]:\n",
    "        diff_frac_per_loc_per_cat[loc][cat] = frac_per_loc_per_cat[loc][cat] - global_frac_per_cat[cat]\n",
    "        zscore_frac_per_loc_per_cat[loc][cat] = (frac_per_loc_per_cat[loc][cat] - global_frac_per_cat_lst_mean[cat]) / global_frac_per_cat_lst_std[cat]"
   ]
  },
  {
   "cell_type": "markdown",
   "metadata": {},
   "source": [
    "## Looking for each country if local breweries is answering to most reviewed"
   ]
  },
  {
   "cell_type": "markdown",
   "metadata": {},
   "source": [
    "### Compare for each location"
   ]
  },
  {
   "cell_type": "code",
   "execution_count": null,
   "metadata": {},
   "outputs": [],
   "source": [
    "do_compare_loc_2 = False\n",
    "if do_compare_loc_2 == True:\n",
    "    # loop on every location\n",
    "    frac_per_loc_per_cat_2 = {}\n",
    "    for idx, loc in tqdm(enumerate(lst_locations), total=len(lst_locations)):\n",
    "        breweries = frac_reviews_per_brewery[loc].keys()\n",
    "\n",
    "        #styles = styles_rephrase(best_type_per_user_location[loc].keys())\n",
    "        cats = most_reviewed_cat_per_user_location[loc].keys()\n",
    "        frac_per_loc_per_cat_2[loc] = {}\n",
    "        for cat in cats:\n",
    "            frac_per_loc_per_cat_2[loc][cat] = 0\n",
    "            for brewery in breweries:\n",
    "                df_brewery = df_styles_reviews[df_styles_reviews['brewery_name'] == brewery][['category','brewery_name']]\n",
    "                val = list(df_brewery[df_brewery['category'] == cat].groupby('category')['category'].count()/len(df_brewery))\n",
    "\n",
    "                if val != []:\n",
    "                    frac_per_loc_per_cat_2[loc][cat] += val[0]\n",
    "                \n",
    "            if len(breweries) > 0:\n",
    "                frac_per_loc_per_cat_2[loc][cat] /= len(breweries)\n",
    "            else:\n",
    "                print(\"No breweries for : \" + loc)\n",
    "                \n",
    "    # save library\n",
    "    with open('./variables/frac_per_loc_per_cat_2.pickle', 'wb') as handle:\n",
    "        pickle.dump(frac_per_loc_per_cat_2, handle, protocol=pickle.HIGHEST_PROTOCOL)\n",
    "else:\n",
    "    with open('./variables/frac_per_loc_per_cat_2.pickle', 'rb') as handle:\n",
    "        frac_per_loc_per_cat_2 = pickle.load(handle)"
   ]
  },
  {
   "cell_type": "code",
   "execution_count": null,
   "metadata": {},
   "outputs": [],
   "source": [
    "# compute diff and zscore for most reviewes analysis\n",
    "diff_frac_per_loc_per_cat_ana2 = {}\n",
    "zscore_frac_per_loc_per_cat_ana2 = {}\n",
    "for loc in lst_locations:\n",
    "    diff_frac_per_loc_per_cat_ana2[loc] = {}\n",
    "    zscore_frac_per_loc_per_cat_ana2[loc] = {}\n",
    "    for cat in frac_per_loc_per_cat_2[loc]:\n",
    "        diff_frac_per_loc_per_cat_ana2[loc][cat] = frac_per_loc_per_cat_2[loc][cat] - global_frac_per_cat[cat]\n",
    "        zscore_frac_per_loc_per_cat_ana2[loc][cat] = (frac_per_loc_per_cat_2[loc][cat] - global_frac_per_cat_lst_mean[cat]) / global_frac_per_cat_lst_std[cat]\n"
   ]
  },
  {
   "cell_type": "markdown",
   "metadata": {},
   "source": [
    "## Show results"
   ]
  },
  {
   "cell_type": "markdown",
   "metadata": {},
   "source": [
    "### Load and merge shapefiles"
   ]
  },
  {
   "cell_type": "code",
   "execution_count": null,
   "metadata": {},
   "outputs": [],
   "source": [
    "# Load shapefiles\n",
    "world = gpd.read_file('../data/shapefiles/world-administrative-boundaries.zip')\n",
    "states = gpd.read_file('../data/shapefiles/georef-united-states-of-america-state-millesime.zip')\n",
    "\n",
    "# clean world\n",
    "world_clean = world[world['name'] != 'United States of America'][['name','geometry']]\n",
    "world_clean.name = world_clean.name.str.replace(\"U.K. of Great Britain and Northern Ireland\", \"England\")\n",
    "\n",
    "# clean states\n",
    "states.ste_name = states.ste_name.str.replace(\"['\", \"\")\n",
    "states.ste_name = states.ste_name.str.replace(\"']\", \"\")\n",
    "states_clean = states[['ste_name','geometry']]\n",
    "states_clean.rename({'ste_name':'name'}, inplace=True, axis=1)\n",
    "\n",
    "# concatenate\n",
    "shapefile = pd.concat([world_clean, states_clean], axis=0)"
   ]
  },
  {
   "cell_type": "markdown",
   "metadata": {},
   "source": [
    "### Show main category per location"
   ]
  },
  {
   "cell_type": "code",
   "execution_count": null,
   "metadata": {},
   "outputs": [],
   "source": [
    "sf_maincat = shapefile.copy()\n",
    "\n",
    "# find main category\n",
    "sf_maincat['main_cat'] = \"None\"\n",
    "for loc in lst_locations:\n",
    "    sf_maincat.loc[sf_maincat['name'] == loc, 'main_cat'] = best_cat_per_user_location[loc].keys()[0]"
   ]
  },
  {
   "cell_type": "code",
   "execution_count": null,
   "metadata": {},
   "outputs": [],
   "source": [
    "# color map\n",
    "color_map = ['orange','#dddddd','brown','green','#555555']\n",
    "# Plot the main predictor on a world map\n",
    "fig, ax = plt.subplots(1, 1, figsize=(15, 10))\n",
    "sf_maincat.plot(column='main_cat', cmap=colors.ListedColormap(color_map), ax=ax, legend=True, categorical=True)\n",
    "plt.title('Prefered Category by Country')\n",
    "plt.axis('off')\n",
    "plt.savefig('../results/map_pref_cat.png')\n",
    "plt.show()"
   ]
  },
  {
   "cell_type": "markdown",
   "metadata": {},
   "source": [
    "### Show how breweries adapt to local preferences"
   ]
  },
  {
   "cell_type": "code",
   "execution_count": null,
   "metadata": {},
   "outputs": [],
   "source": [
    "sf_local_breweries = shapefile.copy()\n",
    "\n",
    "# add zscore\n",
    "sf_local_breweries['zscore'] = 0\n",
    "for loc in lst_locations:\n",
    "    sf_local_breweries.loc[sf_local_breweries['name'] == loc, 'zscore'] = np.sum(np.asarray(list(zscore_frac_per_loc_per_cat[loc].values())))/3"
   ]
  },
  {
   "cell_type": "code",
   "execution_count": null,
   "metadata": {},
   "outputs": [],
   "source": [
    "# Plot the main predictor on a world map\n",
    "fig, ax = plt.subplots(1, 1, figsize=(14,8))\n",
    "\n",
    "sf_maincat.boundary.plot(ax=ax, linewidth=.2, color='black')\n",
    "im = sf_local_breweries.plot(column='zscore', cmap='RdBu', ax=ax, legend=True, legend_kwds={\"label\": \"Z-score\", \"orientation\": \"horizontal\"}, vmin=-1.2, vmax=1.2)\n",
    "\n",
    "plt.title('Tendancy of local breweries to produce preferred categories')\n",
    "plt.axis('off')\n",
    "plt.savefig('../results/map_local_breweries.png')\n",
    "plt.show()"
   ]
  },
  {
   "cell_type": "markdown",
   "metadata": {},
   "source": [
    "### Show how breweries adapt to local most reviewed"
   ]
  },
  {
   "cell_type": "code",
   "execution_count": null,
   "metadata": {},
   "outputs": [],
   "source": [
    "sf_local_breweries2 = shapefile.copy()\n",
    "\n",
    "# add zscore\n",
    "sf_local_breweries2['zscore'] = 0\n",
    "for loc in lst_locations:\n",
    "    sf_local_breweries2.loc[sf_local_breweries2['name'] == loc, 'zscore'] = np.sum(np.asarray(list(zscore_frac_per_loc_per_cat_ana2[loc].values())))/3"
   ]
  },
  {
   "cell_type": "code",
   "execution_count": null,
   "metadata": {},
   "outputs": [],
   "source": [
    "# Plot the main predictor on a world map\n",
    "fig, ax = plt.subplots(1, 1, figsize=(14,8))\n",
    "\n",
    "sf_local_breweries2.boundary.plot(ax=ax, linewidth=.2, color='black')\n",
    "sf_local_breweries2.plot(column='zscore', cmap='RdBu', ax=ax, legend=True, legend_kwds={\"label\": \"Z-score\", \"orientation\": \"horizontal\"}, vmin=-0.8, vmax=0.8)\n",
    "\n",
    "plt.title('Tendancy of local breweries to produce most reviewed categories')\n",
    "plt.axis('off')\n",
    "plt.savefig('../results/map_local_breweries_most_reviewed.png')\n",
    "plt.show()"
   ]
  },
  {
   "cell_type": "markdown",
   "metadata": {},
   "source": [
    "## Check for temporal trends between evolution of frac in reviews and frac in breweries propositions"
   ]
  },
  {
   "cell_type": "markdown",
   "metadata": {},
   "source": [
    "### Find first review date for each beer"
   ]
  },
  {
   "cell_type": "code",
   "execution_count": null,
   "metadata": {},
   "outputs": [],
   "source": [
    "first_date_per_beer = {}\n",
    "do_list_beers = False\n",
    "if do_list_beers:\n",
    "    # load full datasets\n",
    "    df_ba_full = pd.read_pickle('../data/preprocessed/BeerAdvocate/transformed_ratings_ba_full.pkl')\n",
    "    df_rb_full = pd.read_pickle('../data/preprocessed/RateBeer/transformed_ratings_rb_full.pkl')\n",
    "    \n",
    "    # fing beers of beerdavocate (and also look for same beers in ratebeer)\n",
    "    print('Looking into BeerAdvocate...')\n",
    "    for idx, beer_id in tqdm(enumerate(list(df_ba_full.beer_id.unique())), total=len(list(df_ba_full.beer_id.unique()))):\n",
    "        df_ba_beer = df_ba_full[df_ba_full['beer_id'] == beer_id][['beer_id', 'beer_name','date','style','brewery_name']]\n",
    "        df_rb_beer = df_rb_full[df_rb_full['beer_id'] == beer_id][['beer_id', 'beer_name','date','style','brewery_name']]\n",
    "        df_beer = pd.concat([df_ba_beer,df_rb_beer], axis=0)\n",
    "\n",
    "        # add the first date appearing for this beer\n",
    "        first_date_per_beer[beer_id] = df_beer.sort_values(by='date').iloc[0]\n",
    "\n",
    "    # find beers of ratebeer that are not in beeradvocate\n",
    "    print('Looking into RateBeer...')\n",
    "    list_ba_beers = list(df_ba_full.beer_id.unique())\n",
    "    list_rb_beers = list(df_rb_full.beer_id.unique())\n",
    "    list_rb_to_process = list(set(list_rb_beers) - set(list_ba_beers))\n",
    "    for idx, beer_id in tqdm(enumerate(list_rb_to_process), total=len(list_rb_to_process)):\n",
    "        df_rb_beer = df_rb_full[df_rb_full['beer_id'] == beer_id][['beer_id', 'beer_name','date','style','brewery_name']]\n",
    "\n",
    "        # add the first date appearing for this beer\n",
    "        first_date_per_beer[beer_id] = df_rb_beer.sort_values(by='date').iloc[0]\n",
    "    \n",
    "    # save dictionary\n",
    "    with open('./variables/first_date_per_beer.pickle','wb') as f:\n",
    "        pickle.dump(first_date_per_beer, f, protocol=pickle.HIGHEST_PROTOCOL)\n",
    "else:\n",
    "    with open('./variables/first_date_per_beer.pickle','rb') as f:\n",
    "        first_date_per_beer = pickle.load(f)"
   ]
  },
  {
   "cell_type": "code",
   "execution_count": null,
   "metadata": {},
   "outputs": [],
   "source": [
    "# select only beers related to the subsample analysis\n",
    "list_beers_analysis = list(df_styles_reviews.beer_id.unique())\n",
    "first_date_per_beer = {key:first_date_per_beer[key] for key in list_beers_analysis}\n",
    "df_first_date_per_beer = pd.DataFrame(first_date_per_beer).transpose().reset_index().drop('index',axis=1)\n",
    "\n",
    "print(f\"{len(df_first_date_per_beer)} beers selected\")\n"
   ]
  },
  {
   "cell_type": "markdown",
   "metadata": {},
   "source": [
    "### Compute time serie of frac per beers"
   ]
  },
  {
   "cell_type": "code",
   "execution_count": null,
   "metadata": {},
   "outputs": [],
   "source": [
    "# add category\n",
    "df_first_date_per_beer = get_category(df_first_date_per_beer)\n"
   ]
  },
  {
   "cell_type": "code",
   "execution_count": null,
   "metadata": {},
   "outputs": [],
   "source": [
    "df_ba_date = df_ba[['date','style']]\n",
    "df_rb_date = df_rb[['date','style']]\n",
    "df_date_reviews = pd.concat([df_ba_date, df_rb_date]).reset_index().drop('index', axis=1).dropna()\n",
    "\n",
    "# add category\n",
    "df_date_reviews = get_category(df_date_reviews)"
   ]
  },
  {
   "cell_type": "code",
   "execution_count": null,
   "metadata": {},
   "outputs": [],
   "source": [
    "dic_date_cat_frac = {}\n",
    "do_find_date_cat_frac = False\n",
    "if do_find_date_cat_frac:\n",
    "    lst_date = list(df_first_date_per_beer.date.unique())\n",
    "    for date in tqdm(lst_date, total=len(lst_date)):\n",
    "        dic_date_cat_frac[date] = []\n",
    "        list_beers_date = list(df_first_date_per_beer[df_first_date_per_beer.date == date].beer_id.unique())\n",
    "        for cat in list(df_first_date_per_beer.category.unique()):\n",
    "            dic_date_cat_frac[date].append(len(df_first_date_per_beer[(df_first_date_per_beer.date == date) & (df_first_date_per_beer.category == cat)]) / len(list_beers_date))\n",
    "    print(dic_date_cat_frac)\n",
    "\n",
    "    # save dictionary:\n",
    "    with open('./variables/dic_date_cat_frac.pickle', 'wb') as f:\n",
    "        pickle.dump(dic_date_cat_frac, f, protocol=pickle.HIGHEST_PROTOCOL)\n",
    "else:\n",
    "    with open('./variables/dic_date_cat_frac.pickle', 'rb') as f:\n",
    "        dic_date_cat_frac = pickle.load(f)\n"
   ]
  },
  {
   "cell_type": "code",
   "execution_count": null,
   "metadata": {},
   "outputs": [],
   "source": [
    "# from dict to dataframe\n",
    "df_date_cat_frac = pd.DataFrame(dic_date_cat_frac).transpose().reset_index().sort_values(by='index')\n",
    "col_names = [\"date\"]\n",
    "for x in list(df_date_reviews.category.unique()): col_names.append(x)\n",
    "df_date_cat_frac.columns = col_names\n",
    "\n",
    "# transform date to datetime format and average over quarter of year\n",
    "df_date_cat_frac['date'] = pd.to_datetime(df_date_cat_frac['date'], unit='s')\n",
    "df_date_cat_frac = df_date_cat_frac.groupby(pd.PeriodIndex(df_date_cat_frac['date'], freq=\"Q\")).mean()\n"
   ]
  },
  {
   "cell_type": "markdown",
   "metadata": {},
   "source": [
    "### Compute time serie of frac per breweries"
   ]
  },
  {
   "cell_type": "code",
   "execution_count": null,
   "metadata": {},
   "outputs": [],
   "source": [
    "df_cat_date_brewery_ba = df_ba[['beer_id', 'brewery_id', 'brewery_name', 'date', 'style']]\n",
    "df_cat_date_brewery_rb = df_rb[['beer_id', 'brewery_id', 'brewery_name', 'date', 'style']]\n",
    "df_cat_date_brewery = pd.concat([df_cat_date_brewery_ba, df_cat_date_brewery_rb]).reset_index().drop('index', axis=1).dropna()\n",
    "\n",
    "# add category\n",
    "df_cat_date_brewery = get_category(df_cat_date_brewery)"
   ]
  },
  {
   "cell_type": "code",
   "execution_count": null,
   "metadata": {},
   "outputs": [],
   "source": [
    "dic_cat_date_brewery = {}\n",
    "do_findcatbrewery = False\n",
    "if do_findcatbrewery:\n",
    "    lst_date = list(df_cat_date_brewery.date.unique())\n",
    "    for date in tqdm(lst_date, total=len(lst_date)):\n",
    "        dic_cat_date_brewery[date] = []\n",
    "        df_date_entries = df_cat_date_brewery[df_cat_date_brewery.date == date]\n",
    "        breweries = df_date_entries[df_date_entries.date == date].brewery_name.unique()\n",
    "        for cat in list(df_cat_date_brewery.category.unique()):\n",
    "            frac = 0\n",
    "            for brewery in breweries:\n",
    "                frac += len(df_date_entries[(df_date_entries.category == cat) & (df_date_entries.brewery_name == brewery)])/len(df_date_entries[df_date_entries.brewery_name == brewery])\n",
    "            frac /= len(breweries)\n",
    "            dic_cat_date_brewery[date].append(frac)\n",
    "\n",
    "    # save dictionary\n",
    "    with open('./variables/dic_cat_date_brewery.pickle', 'wb') as f:\n",
    "        pickle.dump(dic_cat_date_brewery, f, protocol=pickle.HIGHEST_PROTOCOL)\n",
    "else:\n",
    "    with open('./variables/dic_cat_date_brewery.pickle', 'rb') as f:\n",
    "        dic_cat_date_brewery = pickle.load(f)\n"
   ]
  },
  {
   "cell_type": "code",
   "execution_count": null,
   "metadata": {},
   "outputs": [],
   "source": [
    "# from dict to dataframe\n",
    "df_cat_date_brewery_frac = pd.DataFrame(dic_cat_date_brewery).transpose().reset_index().sort_values(by='index')\n",
    "col_names = [\"date\"]\n",
    "for x in list(df_cat_date_brewery.category.unique()): col_names.append(x)\n",
    "df_cat_date_brewery_frac.columns = col_names\n",
    "\n",
    "# transform date to datetime format and average over quarter of year\n",
    "df_cat_date_brewery_frac['date'] = pd.to_datetime(df_cat_date_brewery_frac['date'], unit='s')\n",
    "df_cat_date_brewery_frac = df_cat_date_brewery_frac.groupby(pd.PeriodIndex(df_cat_date_brewery_frac['date'], freq=\"Q\")).mean()"
   ]
  },
  {
   "cell_type": "markdown",
   "metadata": {},
   "source": [
    "### Show results"
   ]
  },
  {
   "cell_type": "code",
   "execution_count": null,
   "metadata": {},
   "outputs": [],
   "source": [
    "cat_array = np.asarray(list(df_cat_date_brewery.category.unique())).reshape((3,3))\n",
    "dict_titles = {\n",
    "    'BROWNS': 'Brown',\n",
    "    'PALE_ALES': 'Pale Ale',\n",
    "    'WHEATS': 'Wheat',\n",
    "    'STOUTS': 'Stout',\n",
    "    'BELGIANS': 'Belgian',\n",
    "    'OTHER': 'Other',\n",
    "    'SOURS': 'Sour',\n",
    "    'LAGERS': 'Lager',\n",
    "    'PORTERS': 'Porter',\n",
    "}\n",
    "\n",
    "# select min and max year for timespan of interest\n",
    "min_year = 2002\n",
    "max_year = 2017\n",
    "df_cat_date_brewery_frac = df_cat_date_brewery_frac[(df_cat_date_brewery_frac.date.dt.year >= min_year) & (df_cat_date_brewery_frac.date.dt.year <= max_year)]\n",
    "df_date_cat_frac = df_date_cat_frac[(df_date_cat_frac.date.dt.year >= min_year) & (df_date_cat_frac.date.dt.year <= max_year)]\n",
    "\n",
    "# plot results\n",
    "fig, axs = plt.subplots(3,3, figsize=(12,8), sharex=True)\n",
    "for i in range(3):\n",
    "    for j in range(3):\n",
    "        axs[i,j].plot(df_cat_date_brewery_frac['date'], df_cat_date_brewery_frac[cat_array[i,j]], label='beers')\n",
    "        axs[i,j].plot(df_date_cat_frac['date'], df_date_cat_frac[cat_array[i,j]], label='reviews')\n",
    "        axs[i,j].set_title(dict_titles[cat_array[i,j]])\n",
    "        axs[i,j].legend()\n",
    "        for label in axs[i,j].get_xticklabels():\n",
    "            label.set_rotation(45)\n",
    "            label.set_ha('right')\n",
    "plt.suptitle('Time series of categories fraction')\n",
    "plt.tight_layout()\n",
    "plt.savefig('../results/frac_time_series.png')"
   ]
  }
 ],
 "metadata": {
  "kernelspec": {
   "display_name": "ada",
   "language": "python",
   "name": "python3"
  },
  "language_info": {
   "codemirror_mode": {
    "name": "ipython",
    "version": 3
   },
   "file_extension": ".py",
   "mimetype": "text/x-python",
   "name": "python",
   "nbconvert_exporter": "python",
   "pygments_lexer": "ipython3",
   "version": "3.9.18"
  }
 },
 "nbformat": 4,
 "nbformat_minor": 2
}
