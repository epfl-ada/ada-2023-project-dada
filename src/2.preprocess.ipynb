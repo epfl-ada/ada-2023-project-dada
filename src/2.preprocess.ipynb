{
 "cells": [
  {
   "cell_type": "code",
   "execution_count": null,
   "metadata": {},
   "outputs": [],
   "source": [
    "from utils import *\n",
    "import numpy as np"
   ]
  },
  {
   "cell_type": "markdown",
   "metadata": {},
   "source": [
    "# Data preprocessing : "
   ]
  },
  {
   "cell_type": "markdown",
   "metadata": {},
   "source": [
    "## Goal: Preprocess the dataset\n",
    "- Handle nan values\n",
    "- Type conversion\n",
    "- Transform numerical values"
   ]
  },
  {
   "cell_type": "markdown",
   "metadata": {},
   "source": [
    "## Main points from [data exploration](1.exploration.ipynb)"
   ]
  },
  {
   "cell_type": "markdown",
   "metadata": {},
   "source": [
    "**Datasets nomenclature**\n",
    "- BeerAdvocate : BA or ba\n",
    "- RateBeer : RB or rb\n",
    "- Matched_beer_data : MBD or matched"
   ]
  },
  {
   "cell_type": "markdown",
   "metadata": {},
   "source": [
    "**Rating ranges and formulas**\n",
    "- The score appearance, aroma, palate, taste, overall **ranges** and **resolution** in ba and rb :\n",
    "    - BA \n",
    "        + ranges (resp.) : 1-5,1-5,1-5,1-5,1-5  \n",
    "        + with 0.25 resolution\n",
    "    - RB \n",
    "        + ranges (resp.) : 1-5,1-10,1-5,1-10,1-20 \n",
    "        + with 1 resolution\n",
    "- the **rating is a linear combination** of the 5 mentioned score above\n",
    "    - BA rating \n",
    "        + rating = 0.06 * appearance + 0.24 * aroma + 0.10 * palate + 0.40 * taste + 0.20 * overall \n",
    "        + range from 1 to 5\n",
    "    - RB rating \n",
    "        + rating = 0.1 * appearance + 0.1 * aroma + 0.1 * palate + 0.1 * taste + 0.1 * overall\n",
    "        + range from 1 to 5\n",
    "\n",
    "    + Therefore the ratings from both datasets are not comparable"
   ]
  },
  {
   "cell_type": "markdown",
   "metadata": {},
   "source": [
    "**Aggragated scores from all users** \n",
    "\n",
    "+ BOTH : **z-score is only computed** for data occuring **in MBD**\n",
    "    - The z-score of a beer, is the z-score of with all the ratings of the same beer occuring the **same year**\n",
    "+ BOTH : avg_computed may differ from avg, since ba and rb drops some ratings on some criterion\n",
    "\n",
    "\n",
    "+ BA : bros_score in the BA dataset is a score given by the founders of BA \n",
    "+ BA : ba_score is the score of the beer by the BA community, see description [here](https://www.beeradvocate.com/community/threads/beeradvocate-ratings-explained.184726/)\n",
    "\n",
    "\n",
    "+ RB : style score is a ranking of the beer among the beer of the same style. High rank (e.g 80 is better than 3 for beer of the same style)\n",
    "\n",
    "+ RB : overall score is in range (1-100) and is a score to rank all the beers on RB\n",
    "    - RateBeer uses an algorithm when calculating the overall score, considering both the ratings given by each user and the total number of ratings for the beer. Need at least 10 ratings"
   ]
  },
  {
   "cell_type": "markdown",
   "metadata": {},
   "source": [
    "## Load data"
   ]
  },
  {
   "cell_type": "markdown",
   "metadata": {},
   "source": [
    "**Dataset prefiltering**\n",
    "- reviews are just the ratings that contain a text review. To avoid duplicates let's not load it\n",
    "- MBD do not give us the information we need. Let's not load it\n",
    "    + We won't use the already computed z-score, since it's limited to this dataset"
   ]
  },
  {
   "cell_type": "markdown",
   "metadata": {},
   "source": [
    "**RAM limitation :**"
   ]
  },
  {
   "cell_type": "code",
   "execution_count": null,
   "metadata": {},
   "outputs": [],
   "source": [
    "REDUCED = None\n",
    "#REDUCED = 2e6  # 1e6 <=> Approx 25% of the ratings (approx : 3Gb), set to None to load all the data"
   ]
  },
  {
   "cell_type": "markdown",
   "metadata": {},
   "source": [
    "**Loading**"
   ]
  },
  {
   "cell_type": "code",
   "execution_count": null,
   "metadata": {},
   "outputs": [],
   "source": [
    "%%time\n",
    "beers_ba, breweries_ba, users_ba, ratings_ba = load_data('ba', REDUCED)\n",
    "beers_rb, breweries_rb, users_rb, ratings_rb = load_data('rb', REDUCED)"
   ]
  },
  {
   "cell_type": "markdown",
   "metadata": {},
   "source": [
    "## Filtering out useless information/Nan"
   ]
  },
  {
   "cell_type": "code",
   "execution_count": null,
   "metadata": {},
   "outputs": [],
   "source": [
    "# Drop information about MBD\n",
    "beers_ba = beers_ba.drop(['zscore','nbr_matched_valid_ratings','avg_matched_valid_ratings'], axis=1)\n",
    "beers_rb = beers_rb.drop(['zscore','nbr_matched_valid_ratings','avg_matched_valid_ratings'], axis=1)\n",
    "\n",
    "# Drop beers without more than 'min_ratings' ratings\n",
    "n_beers_ba = len(beers_ba) \n",
    "n_beers_rb = len(beers_rb)\n",
    "\n",
    "min_ratings = 0 \n",
    "print(f'Filtering out all beers with {min_ratings} ratings or less')\n",
    "beers_ba = beers_ba[beers_ba.nbr_ratings>min_ratings]\n",
    "beers_rb = beers_rb[beers_rb.nbr_ratings>min_ratings]\n",
    "\n",
    "# Drop beers with important information missing\n",
    "beers_ba = beers_ba.dropna(subset=['abv'])\n",
    "beers_rb = beers_rb.dropna(subset=['abv'])\n",
    "\n",
    "print(f'Beers kept : ')\n",
    "print(f'\\t BA : {len(beers_ba)}/{n_beers_ba}')\n",
    "print(f'\\t RB : {len(beers_rb)}/{n_beers_rb}')\n",
    "\n",
    "# Filter out breweries with only beers that have been filtered out\n",
    "n_breweries_ba = len(breweries_ba) \n",
    "n_breweries_rb = len(breweries_rb) \n",
    "breweries_ba = breweries_ba[breweries_ba['id'].isin(beers_ba['brewery_id'])]\n",
    "breweries_rb = breweries_rb[breweries_rb['id'].isin(beers_rb['brewery_id'])]\n",
    "print(f'Breweries kept : ')\n",
    "print(f'\\t BA : {len(breweries_ba)}/{n_breweries_ba}')\n",
    "print(f'\\t RB : {len(breweries_rb)}/{n_breweries_rb}')\n",
    "\n",
    "# Filter out ratings about beers that have been filtered out\n",
    "n_ratings_ba = len(ratings_ba)\n",
    "n_ratings_rb = len(ratings_rb)\n",
    "ratings_ba = ratings_ba[ratings_ba['beer_id'].isin(beers_ba['beer_id'])]\n",
    "ratings_rb = ratings_rb[ratings_rb['beer_id'].isin(beers_rb['beer_id'])]\n",
    "print(f'Ratings kept : ')\n",
    "print(f'\\t BA : {len(ratings_ba)}/{n_ratings_ba}')\n",
    "print(f'\\t RB : {len(ratings_rb)}/{n_ratings_rb}')"
   ]
  },
  {
   "cell_type": "markdown",
   "metadata": {},
   "source": [
    "**Questions**  : \n",
    "- Should we keep the aggregated score ? ba_score, bros_score, overall_score, style_score, avg, avg_computed ?\n",
    "- Should we increase the minimum number of ratings above 0 ?"
   ]
  },
  {
   "cell_type": "markdown",
   "metadata": {},
   "source": [
    "## Populate ratings with location of beer and user"
   ]
  },
  {
   "cell_type": "code",
   "execution_count": null,
   "metadata": {},
   "outputs": [],
   "source": [
    "# Rename location variable in users and breweries\n",
    "users_ba.rename(columns={'location':'user_location'}, inplace=True)\n",
    "breweries_ba.rename(columns={'location':'brewery_location', 'id':'brewery_id', 'nbr_beers':'nbr_beers_by_brewery'}, inplace=True)\n",
    "users_rb.rename(columns={'location':'user_location'}, inplace=True)\n",
    "breweries_rb.rename(columns={'location':'brewery_location', 'id':'brewery_id', 'nbr_beers':'nbr_beers_by_brewery'}, inplace=True)\n",
    "\n",
    "# Populate ratings with locations from users and breweries\n",
    "ratings_ba = pd.merge(left=ratings_ba, right=users_ba[['user_id', 'user_location']], on='user_id', how='left')\n",
    "ratings_ba = pd.merge(left=ratings_ba, right=breweries_ba[['brewery_id', 'brewery_location', 'nbr_beers_by_brewery']], on='brewery_id', how='left')\n",
    "ratings_rb = pd.merge(left=ratings_rb, right=users_rb[['user_id', 'user_location']], on='user_id', how='left')\n",
    "ratings_rb = pd.merge(left=ratings_rb, right=breweries_rb[['brewery_id', 'brewery_location', 'nbr_beers_by_brewery']], on='brewery_id', how='left')"
   ]
  },
  {
   "cell_type": "markdown",
   "metadata": {},
   "source": [
    "**Questions**\n",
    "- Should we ensure that each location has only one name so that the location are comparable ?\n",
    "- Should we keep the intermediate scores : appearance, aroma, taste, palate, overall ? Or only keep rating ?"
   ]
  },
  {
   "cell_type": "markdown",
   "metadata": {},
   "source": [
    "## Transform ratings to normal distribution and compute zscore"
   ]
  },
  {
   "cell_type": "code",
   "execution_count": null,
   "metadata": {},
   "outputs": [],
   "source": [
    "ratings_ba.rating.apply(lambda x: x**3).hist()\n",
    "ratings_ba['zscore'] = ratings_ba['rating'].apply(lambda x: x**3)\n",
    "ratings_ba['zscore'] = (ratings_ba['zscore']-ratings_ba['zscore'].mean())/ratings_ba['zscore'].std()"
   ]
  },
  {
   "cell_type": "code",
   "execution_count": null,
   "metadata": {},
   "outputs": [],
   "source": [
    "ratings_rb.rating.apply(lambda x: x**2).hist()\n",
    "ratings_rb['zscore'] = ratings_rb['rating'].apply(lambda x: x**2)\n",
    "ratings_rb['zscore'] = (ratings_rb['zscore']-ratings_rb['zscore'].mean())/ratings_rb['zscore'].std()"
   ]
  },
  {
   "cell_type": "markdown",
   "metadata": {},
   "source": [
    "**Questions**\n",
    "- Should we try without transformation ?\n",
    "- Should we already make the dummy variables for the countries ? Or only work with a variable saying if the location is the same for the user and the brewery ?"
   ]
  },
  {
   "cell_type": "markdown",
   "metadata": {},
   "source": [
    "## Save transformed ratings"
   ]
  },
  {
   "cell_type": "code",
   "execution_count": null,
   "metadata": {},
   "outputs": [],
   "source": [
    "ratings_ba.sample(frac=0.1, random_state=42).to_pickle('../data/preprocessed/BeerAdvocate/transformed_ratings_ba.pkl')\n",
    "ratings_rb.sample(frac=0.1, random_state=42).to_pickle('../data/preprocessed/RateBeer/transformed_ratings_rb.pkl')\n",
    "ratings_ba.sample(frac=1.0, random_state=42).to_pickle('../data/preprocessed/BeerAdvocate/transformed_ratings_ba_full.pkl')\n",
    "ratings_rb.sample(frac=1.0, random_state=42).to_pickle('../data/preprocessed/RateBeer/transformed_ratings_rb_full.pkl')"
   ]
  }
 ],
 "metadata": {
  "kernelspec": {
   "display_name": "ADA",
   "language": "python",
   "name": "python3"
  },
  "language_info": {
   "codemirror_mode": {
    "name": "ipython",
    "version": 3
   },
   "file_extension": ".py",
   "mimetype": "text/x-python",
   "name": "python",
   "nbconvert_exporter": "python",
   "pygments_lexer": "ipython3",
   "version": "3.9.18"
  }
 },
 "nbformat": 4,
 "nbformat_minor": 2
}
