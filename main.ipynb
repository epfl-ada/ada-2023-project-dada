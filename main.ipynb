{
 "cells": [
  {
   "cell_type": "markdown",
   "id": "48f27a77-232a-4a18-9d9b-a521bb721674",
   "metadata": {},
   "source": [
    "# ADA Project : Milestone 2"
   ]
  },
  {
   "cell_type": "markdown",
   "id": "4c8b6432",
   "metadata": {},
   "source": [
    "## Preparation"
   ]
  },
  {
   "cell_type": "code",
   "execution_count": 6,
   "id": "d354a809-3775-419b-8e1f-a15e9d00e21e",
   "metadata": {
    "tags": []
   },
   "outputs": [],
   "source": [
    "import pandas as pd\n",
    "import numpy as np\n",
    "import datetime as dt\n",
    "import matplotlib.pyplot as plt\n",
    "import seaborn as sns\n",
    "import statsmodels.api as sm\n",
    "import statsmodels.formula.api as smf\n",
    "from utils import *\n",
    "from geopy.geocoders import Nominatim\n",
    "from geopy.exc import GeocoderTimedOut, GeocoderServiceError\n",
    "import geopandas as gpd\n",
    "import contextily as ctx\n",
    "import plotly.express as px\n",
    "import pycountry"
   ]
  },
  {
   "cell_type": "markdown",
   "id": "d07585f1",
   "metadata": {},
   "source": [
    "### Conversion : txt to csv\n",
    "The reviews are written in a txt file. The reviews are separated by an empty line. Each review is structured with a list of field and content:\n",
    "\n",
    "    field_1: content_1\n",
    "    field_2: content_2\n",
    "    ...\n",
    "    field_n: content_n\n",
    "\n",
    "The conversion translate this structures from text files to csv files that can be loaded as pandas dataframes"
   ]
  },
  {
   "cell_type": "code",
   "execution_count": 2,
   "id": "c393a162",
   "metadata": {},
   "outputs": [],
   "source": [
    "# Require extensive amount of RAM (a bit less than 32Gb)\n",
    "do_conversion = False\n",
    "if do_conversion:\n",
    "    ratings_text_to_csv(\"./data/BeerAdvocate/ratings.txt\")\n",
    "    ratings_text_to_csv(\"./data/RateBeer/ratings.txt\")"
   ]
  },
  {
   "cell_type": "markdown",
   "id": "d946a8fe",
   "metadata": {},
   "source": [
    "### Load data"
   ]
  },
  {
   "cell_type": "code",
   "execution_count": 3,
   "id": "c3882cfb",
   "metadata": {},
   "outputs": [],
   "source": [
    "# BeerAdvocate (BA)\n",
    "beers_BA, breweries_BA, users_BA, ratings_BA = load_data(\"BA\")"
   ]
  },
  {
   "cell_type": "code",
   "execution_count": 21,
   "id": "3989b59f",
   "metadata": {},
   "outputs": [],
   "source": [
    "# RateBeer (RB)\n",
    "beers_RB, breweries_RB, users_RB, ratings_RB = load_data(\"RB\")"
   ]
  },
  {
   "cell_type": "code",
   "execution_count": null,
   "id": "9708f392-044f-490a-9310-b443752ed092",
   "metadata": {},
   "outputs": [],
   "source": [
    "# Matched Dataset (MD)\n",
    "beers_MD, breweries_MD, users_MD, users_approx_MD, ratings_MD = load_data(\"MD\")"
   ]
  },
  {
   "cell_type": "markdown",
   "id": "c464ef87",
   "metadata": {},
   "source": [
    "### Describe dataframes content for BeerAdvocate and RateBeer\n",
    "The description of the dataframes may be lacking details. The datasets are not documentated therefore some fields are somehow difficult to interpret/understand. Those uncertain fields are dropped, we don't want to work with data we do not understand"
   ]
  },
  {
   "cell_type": "markdown",
   "id": "b0dc7494",
   "metadata": {},
   "source": [
    "##### Beers"
   ]
  },
  {
   "cell_type": "markdown",
   "id": "7b8c13bf",
   "metadata": {},
   "source": [
    "| Field (Clear)                  | Description                                       | Dataset |\n",
    "|--------------------------------|---------------------------------------------------|---------|\n",
    "| beer_id                        | Unique integer key for beer                       |  BOTH   |\n",
    "| brewery_id                     | Unique integer key for brewery                    |  BOTH   |\n",
    "| style                          | Type of beer                                      |  BOTH   |\n",
    "| nbr_ratings                    | Number of ratings about the beer                  |  BOTH   |\n",
    "| nbr_reviews                    | Number of reviews about the beer                  |   BA    |\n",
    "| abv                            | Alcohol by volume in percentile                   |  BOTH   |\n",
    "| **Field (Unclear)**            | **Hypothesis**                                    |  **-**  |\n",
    "| avg                            | avg overall-score across rating ?                 |  BOTH   |\n",
    "| avg_computed                   | avg overall-score across rating ?                 |  BOTH   |\n",
    "| ba_score                       | We don't know how it's computed                   |  BA     |\n",
    "| bros_score                     | We don't know how it's computed                   |  BA     |\n",
    "| overall_score                  | We don't know how it's computed                   |  RB     |\n",
    "| style_score                    | We don't know how it's computed                   |  RB     |\n",
    "| zscore                         | We don't know how it's computed                   |  BOTH   |\n",
    "| nbr_matched_valid_ratings      | Related to matched dataset                        |  BOTH   |\n",
    "| avg_matched_valid_ratings      | Related to matched dataset                        |  BOTH   |"
   ]
  },
  {
   "cell_type": "markdown",
   "id": "c42fc965",
   "metadata": {},
   "source": [
    "##### Breweries"
   ]
  },
  {
   "cell_type": "markdown",
   "id": "bc802d71",
   "metadata": {},
   "source": [
    "| Field (Clear)                  | Description                                       | Dataset |\n",
    "|--------------------------------|---------------------------------------------------|---------|\n",
    "| id                             | Unique integer key for brewery                    |  BOTH   |\n",
    "| location                       | Country (+ State) of the brewery                  |  BOTH   |\n",
    "| name                           | Name of the brewery                               |  BOTH   |\n",
    "| nbr_beers                      | Number of different beers the brewery produces    |  BOTH   |"
   ]
  },
  {
   "cell_type": "markdown",
   "id": "bca27b9a",
   "metadata": {},
   "source": [
    "##### Users"
   ]
  },
  {
   "cell_type": "markdown",
   "id": "2e1f5110",
   "metadata": {},
   "source": [
    "| Field (Clear)                  | Description                                       | Dataset |\n",
    "|--------------------------------|---------------------------------------------------|---------|\n",
    "| user_id                        | Unique integer key corresponding to a user        |  BOTH   |\n",
    "| user_name                      | Pseudonym of the user                             |  BOTH   |\n",
    "| location                       | Location of the user (country or country+state)   |  BOTH   |\n",
    "| nbr_ratings                    | Number of ratings made by the user                |  BOTH   |\n",
    "| nbr_reviews                    | Number of reviews written by the user             |  BA     |\n",
    "| **Field (Unclear)**            | **Hypothesis**                                    |  **-**  |\n",
    "| joined                         | Related to matched dataset                        |  BOTH   |"
   ]
  },
  {
   "cell_type": "markdown",
   "id": "1c908741",
   "metadata": {},
   "source": [
    "##### Ratings"
   ]
  },
  {
   "cell_type": "markdown",
   "id": "9ba7bf2b",
   "metadata": {},
   "source": [
    "| Field (Clear)                  | Description                                       | Dataset |\n",
    "|--------------------------------|---------------------------------------------------|---------|\n",
    "| beer_name                      | Name of the beer                                  |  BOTH   |\n",
    "| beer_id                        | Unique integer key corresponding to a beer        |  BOTH   |\n",
    "| brewery_name                   | Name of the brewery                               |  BOTH   |\n",
    "| brewery_id                     | Unique integer key corresponding to a brewery     |  BOTH   |\n",
    "| user_id                        | Unique integer key corresponding to a user        |  BOTH   |\n",
    "| user_name                      | Pseudonym of the user                             |  BOTH   |\n",
    "| style                          | Style of the beer                                 |  BOTH   |\n",
    "| abv                            | Alcohol by volume in percentile                   |  BOTH   |\n",
    "| date                           | Timestamp of the review in seconds                |  BOTH   |\n",
    "| appearance                     | Appearance score by the user                      |  BOTH   |\n",
    "| aroma                          | Aroma score by the user                           |  BOTH   |\n",
    "| palate                         | Palate score by the user                          |  BOTH   |\n",
    "| taste                          | Taste score by the user                           |  BOTH   |\n",
    "| overall                        | Overall score by the user                         |  BOTH   |\n",
    "| rating                         | Unclear (Please provide more information)         |  BOTH   |\n",
    "| text                           | Text review by the user                           |  BOTH   |\n",
    "| review                         | True if there is a text review, False otherwise   |  BA     |"
   ]
  },
  {
   "cell_type": "markdown",
   "id": "4ac45c9c",
   "metadata": {},
   "source": [
    "### Populate and merge data from BA and RB"
   ]
  },
  {
   "cell_type": "code",
   "execution_count": null,
   "id": "71b4a5f6",
   "metadata": {},
   "outputs": [],
   "source": [
    "# Require extensive amount of RAM (>20Gb)\n",
    "do_populate_merge = False\n",
    "if do_populate_merge:\n",
    "    \n",
    "    # Populate ratings with info from users, breweries and beers\n",
    "    ratings_populated_BA = populate_ratings(ratings_BA, users_BA, breweries_BA, beers_BA, \"BA\")\n",
    "    ratings_populated_RB = populate_ratings(ratings_RB, users_RB, breweries_RB, beers_RB, \"RB\")\n",
    "\n",
    "    # Merge populated ratings\n",
    "    merged_ratings_path = \"./data/ratings_BA_RB.csv\"\n",
    "    ratings_mixed = merge_populated_ratings(ratings_populated_BA, ratings_populated_RB, merged_ratings_path)\n",
    "\n",
    "    # Save subsample of rating (easier to handle on laptops)\n",
    "    merged_ratings_sample_path = \"./data/ratings_BA_RB_sample.csv\"\n",
    "    save_subsample(dataframe=ratings_mixed, save_path = merged_ratings_sample_path, frac=0.1, random_state=0)"
   ]
  },
  {
   "cell_type": "markdown",
   "id": "dc626ba4",
   "metadata": {},
   "source": [
    "### Load populated merged ratings"
   ]
  },
  {
   "cell_type": "code",
   "execution_count": 7,
   "id": "6bb59e39",
   "metadata": {},
   "outputs": [],
   "source": [
    "# ratings_mixed = pd.read_table(\"./data/ratings_BA_RB.csv\", sep=\",\")\n",
    "ratings_mixed_sample = pd.read_table(\"./data/ratings_BA_RB_sample.csv\", sep=\",\")"
   ]
  },
  {
   "cell_type": "markdown",
   "id": "bdf2f135",
   "metadata": {},
   "source": [
    "## Have an overlook of geographic distribution of users and brews"
   ]
  },
  {
   "cell_type": "code",
   "execution_count": null,
   "id": "fc0a86ad",
   "metadata": {},
   "outputs": [],
   "source": [
    "geolocator = Nominatim(user_agent=\"geoapiExercises\")\n",
    "\n",
    "def geocode(location):\n",
    "    try:\n",
    "        loc = geolocator.geocode(location,language='en')\n",
    "        if loc:\n",
    "            location_detail = geolocator.reverse((loc.latitude, loc.longitude), exactly_one=True)\n",
    "            try:\n",
    "                address = location_detail.raw['address']\n",
    "                country = address.get('country', None)\n",
    "                iso_alpha = address.get('country_code', None).upper()  \n",
    "                iso_alpha = pycountry.countries.get(alpha_2=iso_alpha.upper()).alpha_3\n",
    "                return country, iso_alpha\n",
    "            except:\n",
    "                return None, None\n",
    "        else:\n",
    "            return None, None\n",
    "    except:\n",
    "        return None, None\n"
   ]
  },
  {
   "cell_type": "code",
   "execution_count": null,
   "id": "c3372e27",
   "metadata": {},
   "outputs": [
    {
     "name": "stderr",
     "output_type": "stream",
     "text": [
      "100%|██████████| 200/200 [03:19<00:00,  1.00it/s]\n"
     ]
    }
   ],
   "source": [
    "# For user locations\n",
    "user_unique=ratings_mixed_sample.drop_duplicates(subset='user_id', keep='first')  # Keep only one row per user\n",
    "user_location_counts = user_unique[\"user_location\"].value_counts()\n",
    "\n",
    "user_location_counts_df = user_location_counts.reset_index()\n",
    "user_location_counts_df.columns = ['user_location', 'count']\n",
    "\n",
    "\n",
    "user_location_counts_df['country_data'] = [geocode(location) for location in tqdm(user_location_counts_df['user_location'])]\n",
    "# Drop any rows where geocoding failed\n",
    "user_location_counts_df = user_location_counts_df.dropna(subset=['country_data'])\n",
    "user_location_counts_df[['country', 'iso_alpha']] = pd.DataFrame(user_location_counts_df['country_data'].tolist(), index=user_location_counts_df.index)\n",
    "user_country_counts = user_location_counts_df.groupby(['country', 'iso_alpha'])['count'].sum().reset_index()"
   ]
  },
  {
   "cell_type": "code",
   "execution_count": null,
   "id": "994a68bd",
   "metadata": {},
   "outputs": [
    {
     "name": "stderr",
     "output_type": "stream",
     "text": [
      "100%|██████████| 266/266 [04:24<00:00,  1.01it/s]\n"
     ]
    }
   ],
   "source": [
    "# For brew locations\n",
    "brew_unique=ratings_mixed_sample.drop_duplicates(subset='brewery_id', keep='first')  # Keep only one row per user\n",
    "brew_location_counts = brew_unique[\"brewery_location\"].value_counts()\n",
    "\n",
    "brew_location_counts_df = brew_location_counts.reset_index()\n",
    "brew_location_counts_df.columns = ['brew_location', 'count']\n",
    "\n",
    "\n",
    "brew_location_counts_df['country_data'] = [geocode(location) for location in tqdm(brew_location_counts_df['brew_location'])]\n",
    "# Drop any rows where geocoding failed\n",
    "brew_location_counts_df = brew_location_counts_df.dropna(subset=['country_data'])\n",
    "brew_location_counts_df[['country', 'iso_alpha']] = pd.DataFrame(brew_location_counts_df['country_data'].tolist(), index=brew_location_counts_df.index)\n",
    "brew_country_counts = brew_location_counts_df.groupby(['country', 'iso_alpha'])['count'].sum().reset_index()"
   ]
  },
  {
   "cell_type": "code",
   "execution_count": null,
   "id": "b2b2fc1e",
   "metadata": {},
   "outputs": [
    {
     "data": {
      "application/vnd.plotly.v1+json": {
       "config": {
        "plotlyServerURL": "https://plot.ly"
       },
       "data": [
        {
         "coloraxis": "coloraxis",
         "geo": "geo",
         "hovertemplate": "<b>%{hovertext}</b><br><br>iso_alpha=%{location}<br>count=%{z}<extra></extra>",
         "hovertext": [
          "Algérie ⵍⵣⵣⴰⵢⴻⵔ الجزائر",
          "Andorra",
          "Argentina",
          "Aruba",
          "Australia",
          "Ayiti",
          "Azərbaycan",
          "Barbados",
          "België / Belgique / Belgien",
          "Belize",
          "Bermuda",
          "Bolivia",
          "Bosna i Hercegovina / Босна и Херцеговина",
          "Brasil",
          "British Indian Ocean Territory",
          "Burkina Faso",
          "Canada",
          "Cayman Islands",
          "Chile",
          "Colombia",
          "Costa Rica",
          "Crna Gora / Црна Гора",
          "Danmark",
          "Deutschland",
          "Ecuador",
          "Eesti",
          "El Salvador",
          "España",
          "France",
          "Føroyar",
          "Guatemala",
          "Honduras",
          "Hrvatska",
          "India",
          "Indonesia",
          "Isle of Man",
          "Italia",
          "Jersey",
          "Kalaallit Nunaat",
          "Latvija",
          "Lesotho",
          "Liechtenstein",
          "Lietuva",
          "Lëtzebuerg",
          "Magyarország",
          "Malaysia",
          "Malta",
          "Maroc ⵍⵎⵖⵔⵉⴱ المغرب",
          "Mauritius / Maurice",
          "Moldova",
          "Monaco",
          "Moçambique",
          "México",
          "Namibia",
          "Nederland",
          "New Zealand / Aotearoa",
          "Nicaragua",
          "Norge",
          "Oʻzbekiston",
          "Panamá",
          "Paraguay / Paraguái",
          "Perú",
          "Philippines",
          "Polska",
          "Portugal",
          "República Dominicana",
          "România",
          "Rwanda",
          "Saint Helena, Ascension and Tristan da Cunha",
          "Saint Vincent and the Grenadines",
          "Schweiz/Suisse/Svizzera/Svizra",
          "Singapore",
          "Slovenija",
          "Slovensko",
          "South Africa",
          "South Georgia and the South Sandwich Islands",
          "Suomi / Finland",
          "Sverige",
          "Tanzania",
          "The Bahamas",
          "Tokelau",
          "Trinidad and Tobago",
          "Türkiye",
          "Türkmenistan",
          "Uganda",
          "United Kingdom",
          "United States",
          "Uruguay",
          "Venezuela",
          "Việt Nam",
          "Éire / Ireland",
          "Ísland",
          "Österreich",
          "Česko",
          "Ελλάς",
          "Κύπρος - Kıbrıs",
          "Беларусь",
          "България",
          "Монгол улс ᠮᠤᠩᠭᠤᠯ ᠤᠯᠤᠰ",
          "Россия",
          "Северна Македонија",
          "Србија",
          "Тоҷикистон",
          "Україна",
          "Қазақстан",
          "Հայաստան",
          "ישראל",
          "افغانستان",
          "الأردن",
          "الإمارات العربية المتحدة",
          "السعودية",
          "العراق",
          "تونس",
          "سوريا",
          "عمان",
          "لبنان",
          "مصر",
          "پاکستان",
          "नेपाल",
          "বাংলাদেশ",
          "ประเทศไทย",
          "ປະເທດລາວ",
          "འབྲུགཡུལ་",
          "ኢትዮጵያ",
          "ព្រះរាជាណាចក្រ​កម្ពុជា",
          "Ṃajeḷ",
          "中国",
          "日本",
          "臺灣",
          "대한민국",
          "조선민주주의인민공화국"
         ],
         "locations": [
          "DZA",
          "AND",
          "ARG",
          "NLD",
          "AUS",
          "HTI",
          "AZE",
          "BRB",
          "BEL",
          "BLZ",
          "BMU",
          "BOL",
          "BIH",
          "BRA",
          "IOT",
          "BFA",
          "CAN",
          "CYM",
          "CHL",
          "COL",
          "CRI",
          "MNE",
          "DNK",
          "DEU",
          "ECU",
          "EST",
          "SLV",
          "ESP",
          "FRA",
          "FRO",
          "GTM",
          "HND",
          "HRV",
          "IND",
          "IDN",
          "IMN",
          "ITA",
          "JEY",
          "GRL",
          "LVA",
          "LSO",
          "LIE",
          "LTU",
          "LUX",
          "HUN",
          "MYS",
          "MLT",
          "MAR",
          "MUS",
          "MDA",
          "MCO",
          "MOZ",
          "MEX",
          "NAM",
          "NLD",
          "NZL",
          "NIC",
          "NOR",
          "UZB",
          "PAN",
          "PRY",
          "PER",
          "PHL",
          "POL",
          "PRT",
          "DOM",
          "ROU",
          "RWA",
          "SHN",
          "VCT",
          "CHE",
          "SGP",
          "SVN",
          "SVK",
          "ZAF",
          "SGS",
          "FIN",
          "SWE",
          "TZA",
          "BHS",
          "TKL",
          "TTO",
          "TUR",
          "TKM",
          "UGA",
          "GBR",
          "USA",
          "URY",
          "VEN",
          "VNM",
          "IRL",
          "ISL",
          "AUT",
          "CZE",
          "GRC",
          "CYP",
          "BLR",
          "BGR",
          "MNG",
          "RUS",
          "MKD",
          "SRB",
          "TJK",
          "UKR",
          "KAZ",
          "ARM",
          "ISR",
          "AFG",
          "JOR",
          "ARE",
          "SAU",
          "IRQ",
          "TUN",
          "SYR",
          "OMN",
          "LBN",
          "EGY",
          "PAK",
          "NPL",
          "BGD",
          "THA",
          "LAO",
          "BTN",
          "ETH",
          "KHM",
          "MHL",
          "CHN",
          "JPN",
          "TWN",
          "KOR",
          "PRK"
         ],
         "name": "",
         "type": "choropleth",
         "z": [
          1,
          3,
          23,
          1,
          793,
          1,
          1,
          1,
          494,
          1,
          1,
          4,
          18,
          356,
          1,
          1,
          2932,
          2,
          52,
          10,
          11,
          2,
          539,
          531,
          5,
          77,
          14,
          426,
          271,
          5,
          8,
          5,
          90,
          16,
          7,
          6,
          463,
          3,
          1,
          47,
          1,
          1,
          33,
          13,
          120,
          7,
          2,
          1,
          2,
          14,
          1,
          2,
          160,
          1,
          637,
          183,
          1,
          328,
          3,
          17,
          7,
          9,
          17,
          915,
          76,
          14,
          75,
          1,
          4,
          1,
          117,
          41,
          68,
          55,
          68,
          1,
          272,
          657,
          4,
          6,
          1,
          3,
          53,
          1,
          1,
          1605,
          65510,
          7,
          8,
          6,
          189,
          30,
          65,
          89,
          104,
          15,
          13,
          17,
          1,
          153,
          8,
          46,
          2,
          37,
          1,
          2,
          47,
          2,
          2,
          5,
          1,
          1,
          3,
          1,
          1,
          11,
          1,
          1,
          1,
          2,
          35,
          1,
          1,
          2,
          3,
          1,
          77,
          115,
          36,
          23,
          1
         ]
        }
       ],
       "layout": {
        "coloraxis": {
         "colorbar": {
          "title": {
           "text": "count"
          }
         },
         "colorscale": [
          [
           0,
           "rgb(255, 255, 229)"
          ],
          [
           0.01,
           "rgb(255, 247, 188)"
          ],
          [
           0.02,
           "rgb(254, 227, 145)"
          ],
          [
           0.03,
           "rgb(254, 196, 79)"
          ],
          [
           0.04,
           "rgb(254, 153, 41)"
          ],
          [
           0.05,
           "rgb(236, 112, 20)"
          ],
          [
           0.1,
           "rgb(204, 76, 2)"
          ],
          [
           0.5,
           "rgb(153, 52, 4)"
          ],
          [
           1,
           "rgb(102, 37, 6)"
          ]
         ]
        },
        "geo": {
         "center": {},
         "domain": {
          "x": [
           0,
           1
          ],
          "y": [
           0,
           1
          ]
         },
         "projection": {
          "type": "natural earth"
         }
        },
        "legend": {
         "tracegroupgap": 0
        },
        "margin": {
         "t": 60
        },
        "template": {
         "data": {
          "bar": [
           {
            "error_x": {
             "color": "#2a3f5f"
            },
            "error_y": {
             "color": "#2a3f5f"
            },
            "marker": {
             "line": {
              "color": "#E5ECF6",
              "width": 0.5
             },
             "pattern": {
              "fillmode": "overlay",
              "size": 10,
              "solidity": 0.2
             }
            },
            "type": "bar"
           }
          ],
          "barpolar": [
           {
            "marker": {
             "line": {
              "color": "#E5ECF6",
              "width": 0.5
             },
             "pattern": {
              "fillmode": "overlay",
              "size": 10,
              "solidity": 0.2
             }
            },
            "type": "barpolar"
           }
          ],
          "carpet": [
           {
            "aaxis": {
             "endlinecolor": "#2a3f5f",
             "gridcolor": "white",
             "linecolor": "white",
             "minorgridcolor": "white",
             "startlinecolor": "#2a3f5f"
            },
            "baxis": {
             "endlinecolor": "#2a3f5f",
             "gridcolor": "white",
             "linecolor": "white",
             "minorgridcolor": "white",
             "startlinecolor": "#2a3f5f"
            },
            "type": "carpet"
           }
          ],
          "choropleth": [
           {
            "colorbar": {
             "outlinewidth": 0,
             "ticks": ""
            },
            "type": "choropleth"
           }
          ],
          "contour": [
           {
            "colorbar": {
             "outlinewidth": 0,
             "ticks": ""
            },
            "colorscale": [
             [
              0,
              "#0d0887"
             ],
             [
              0.1111111111111111,
              "#46039f"
             ],
             [
              0.2222222222222222,
              "#7201a8"
             ],
             [
              0.3333333333333333,
              "#9c179e"
             ],
             [
              0.4444444444444444,
              "#bd3786"
             ],
             [
              0.5555555555555556,
              "#d8576b"
             ],
             [
              0.6666666666666666,
              "#ed7953"
             ],
             [
              0.7777777777777778,
              "#fb9f3a"
             ],
             [
              0.8888888888888888,
              "#fdca26"
             ],
             [
              1,
              "#f0f921"
             ]
            ],
            "type": "contour"
           }
          ],
          "contourcarpet": [
           {
            "colorbar": {
             "outlinewidth": 0,
             "ticks": ""
            },
            "type": "contourcarpet"
           }
          ],
          "heatmap": [
           {
            "colorbar": {
             "outlinewidth": 0,
             "ticks": ""
            },
            "colorscale": [
             [
              0,
              "#0d0887"
             ],
             [
              0.1111111111111111,
              "#46039f"
             ],
             [
              0.2222222222222222,
              "#7201a8"
             ],
             [
              0.3333333333333333,
              "#9c179e"
             ],
             [
              0.4444444444444444,
              "#bd3786"
             ],
             [
              0.5555555555555556,
              "#d8576b"
             ],
             [
              0.6666666666666666,
              "#ed7953"
             ],
             [
              0.7777777777777778,
              "#fb9f3a"
             ],
             [
              0.8888888888888888,
              "#fdca26"
             ],
             [
              1,
              "#f0f921"
             ]
            ],
            "type": "heatmap"
           }
          ],
          "heatmapgl": [
           {
            "colorbar": {
             "outlinewidth": 0,
             "ticks": ""
            },
            "colorscale": [
             [
              0,
              "#0d0887"
             ],
             [
              0.1111111111111111,
              "#46039f"
             ],
             [
              0.2222222222222222,
              "#7201a8"
             ],
             [
              0.3333333333333333,
              "#9c179e"
             ],
             [
              0.4444444444444444,
              "#bd3786"
             ],
             [
              0.5555555555555556,
              "#d8576b"
             ],
             [
              0.6666666666666666,
              "#ed7953"
             ],
             [
              0.7777777777777778,
              "#fb9f3a"
             ],
             [
              0.8888888888888888,
              "#fdca26"
             ],
             [
              1,
              "#f0f921"
             ]
            ],
            "type": "heatmapgl"
           }
          ],
          "histogram": [
           {
            "marker": {
             "pattern": {
              "fillmode": "overlay",
              "size": 10,
              "solidity": 0.2
             }
            },
            "type": "histogram"
           }
          ],
          "histogram2d": [
           {
            "colorbar": {
             "outlinewidth": 0,
             "ticks": ""
            },
            "colorscale": [
             [
              0,
              "#0d0887"
             ],
             [
              0.1111111111111111,
              "#46039f"
             ],
             [
              0.2222222222222222,
              "#7201a8"
             ],
             [
              0.3333333333333333,
              "#9c179e"
             ],
             [
              0.4444444444444444,
              "#bd3786"
             ],
             [
              0.5555555555555556,
              "#d8576b"
             ],
             [
              0.6666666666666666,
              "#ed7953"
             ],
             [
              0.7777777777777778,
              "#fb9f3a"
             ],
             [
              0.8888888888888888,
              "#fdca26"
             ],
             [
              1,
              "#f0f921"
             ]
            ],
            "type": "histogram2d"
           }
          ],
          "histogram2dcontour": [
           {
            "colorbar": {
             "outlinewidth": 0,
             "ticks": ""
            },
            "colorscale": [
             [
              0,
              "#0d0887"
             ],
             [
              0.1111111111111111,
              "#46039f"
             ],
             [
              0.2222222222222222,
              "#7201a8"
             ],
             [
              0.3333333333333333,
              "#9c179e"
             ],
             [
              0.4444444444444444,
              "#bd3786"
             ],
             [
              0.5555555555555556,
              "#d8576b"
             ],
             [
              0.6666666666666666,
              "#ed7953"
             ],
             [
              0.7777777777777778,
              "#fb9f3a"
             ],
             [
              0.8888888888888888,
              "#fdca26"
             ],
             [
              1,
              "#f0f921"
             ]
            ],
            "type": "histogram2dcontour"
           }
          ],
          "mesh3d": [
           {
            "colorbar": {
             "outlinewidth": 0,
             "ticks": ""
            },
            "type": "mesh3d"
           }
          ],
          "parcoords": [
           {
            "line": {
             "colorbar": {
              "outlinewidth": 0,
              "ticks": ""
             }
            },
            "type": "parcoords"
           }
          ],
          "pie": [
           {
            "automargin": true,
            "type": "pie"
           }
          ],
          "scatter": [
           {
            "fillpattern": {
             "fillmode": "overlay",
             "size": 10,
             "solidity": 0.2
            },
            "type": "scatter"
           }
          ],
          "scatter3d": [
           {
            "line": {
             "colorbar": {
              "outlinewidth": 0,
              "ticks": ""
             }
            },
            "marker": {
             "colorbar": {
              "outlinewidth": 0,
              "ticks": ""
             }
            },
            "type": "scatter3d"
           }
          ],
          "scattercarpet": [
           {
            "marker": {
             "colorbar": {
              "outlinewidth": 0,
              "ticks": ""
             }
            },
            "type": "scattercarpet"
           }
          ],
          "scattergeo": [
           {
            "marker": {
             "colorbar": {
              "outlinewidth": 0,
              "ticks": ""
             }
            },
            "type": "scattergeo"
           }
          ],
          "scattergl": [
           {
            "marker": {
             "colorbar": {
              "outlinewidth": 0,
              "ticks": ""
             }
            },
            "type": "scattergl"
           }
          ],
          "scattermapbox": [
           {
            "marker": {
             "colorbar": {
              "outlinewidth": 0,
              "ticks": ""
             }
            },
            "type": "scattermapbox"
           }
          ],
          "scatterpolar": [
           {
            "marker": {
             "colorbar": {
              "outlinewidth": 0,
              "ticks": ""
             }
            },
            "type": "scatterpolar"
           }
          ],
          "scatterpolargl": [
           {
            "marker": {
             "colorbar": {
              "outlinewidth": 0,
              "ticks": ""
             }
            },
            "type": "scatterpolargl"
           }
          ],
          "scatterternary": [
           {
            "marker": {
             "colorbar": {
              "outlinewidth": 0,
              "ticks": ""
             }
            },
            "type": "scatterternary"
           }
          ],
          "surface": [
           {
            "colorbar": {
             "outlinewidth": 0,
             "ticks": ""
            },
            "colorscale": [
             [
              0,
              "#0d0887"
             ],
             [
              0.1111111111111111,
              "#46039f"
             ],
             [
              0.2222222222222222,
              "#7201a8"
             ],
             [
              0.3333333333333333,
              "#9c179e"
             ],
             [
              0.4444444444444444,
              "#bd3786"
             ],
             [
              0.5555555555555556,
              "#d8576b"
             ],
             [
              0.6666666666666666,
              "#ed7953"
             ],
             [
              0.7777777777777778,
              "#fb9f3a"
             ],
             [
              0.8888888888888888,
              "#fdca26"
             ],
             [
              1,
              "#f0f921"
             ]
            ],
            "type": "surface"
           }
          ],
          "table": [
           {
            "cells": {
             "fill": {
              "color": "#EBF0F8"
             },
             "line": {
              "color": "white"
             }
            },
            "header": {
             "fill": {
              "color": "#C8D4E3"
             },
             "line": {
              "color": "white"
             }
            },
            "type": "table"
           }
          ]
         },
         "layout": {
          "annotationdefaults": {
           "arrowcolor": "#2a3f5f",
           "arrowhead": 0,
           "arrowwidth": 1
          },
          "autotypenumbers": "strict",
          "coloraxis": {
           "colorbar": {
            "outlinewidth": 0,
            "ticks": ""
           }
          },
          "colorscale": {
           "diverging": [
            [
             0,
             "#8e0152"
            ],
            [
             0.1,
             "#c51b7d"
            ],
            [
             0.2,
             "#de77ae"
            ],
            [
             0.3,
             "#f1b6da"
            ],
            [
             0.4,
             "#fde0ef"
            ],
            [
             0.5,
             "#f7f7f7"
            ],
            [
             0.6,
             "#e6f5d0"
            ],
            [
             0.7,
             "#b8e186"
            ],
            [
             0.8,
             "#7fbc41"
            ],
            [
             0.9,
             "#4d9221"
            ],
            [
             1,
             "#276419"
            ]
           ],
           "sequential": [
            [
             0,
             "#0d0887"
            ],
            [
             0.1111111111111111,
             "#46039f"
            ],
            [
             0.2222222222222222,
             "#7201a8"
            ],
            [
             0.3333333333333333,
             "#9c179e"
            ],
            [
             0.4444444444444444,
             "#bd3786"
            ],
            [
             0.5555555555555556,
             "#d8576b"
            ],
            [
             0.6666666666666666,
             "#ed7953"
            ],
            [
             0.7777777777777778,
             "#fb9f3a"
            ],
            [
             0.8888888888888888,
             "#fdca26"
            ],
            [
             1,
             "#f0f921"
            ]
           ],
           "sequentialminus": [
            [
             0,
             "#0d0887"
            ],
            [
             0.1111111111111111,
             "#46039f"
            ],
            [
             0.2222222222222222,
             "#7201a8"
            ],
            [
             0.3333333333333333,
             "#9c179e"
            ],
            [
             0.4444444444444444,
             "#bd3786"
            ],
            [
             0.5555555555555556,
             "#d8576b"
            ],
            [
             0.6666666666666666,
             "#ed7953"
            ],
            [
             0.7777777777777778,
             "#fb9f3a"
            ],
            [
             0.8888888888888888,
             "#fdca26"
            ],
            [
             1,
             "#f0f921"
            ]
           ]
          },
          "colorway": [
           "#636efa",
           "#EF553B",
           "#00cc96",
           "#ab63fa",
           "#FFA15A",
           "#19d3f3",
           "#FF6692",
           "#B6E880",
           "#FF97FF",
           "#FECB52"
          ],
          "font": {
           "color": "#2a3f5f"
          },
          "geo": {
           "bgcolor": "white",
           "lakecolor": "white",
           "landcolor": "#E5ECF6",
           "showlakes": true,
           "showland": true,
           "subunitcolor": "white"
          },
          "hoverlabel": {
           "align": "left"
          },
          "hovermode": "closest",
          "mapbox": {
           "style": "light"
          },
          "paper_bgcolor": "white",
          "plot_bgcolor": "#E5ECF6",
          "polar": {
           "angularaxis": {
            "gridcolor": "white",
            "linecolor": "white",
            "ticks": ""
           },
           "bgcolor": "#E5ECF6",
           "radialaxis": {
            "gridcolor": "white",
            "linecolor": "white",
            "ticks": ""
           }
          },
          "scene": {
           "xaxis": {
            "backgroundcolor": "#E5ECF6",
            "gridcolor": "white",
            "gridwidth": 2,
            "linecolor": "white",
            "showbackground": true,
            "ticks": "",
            "zerolinecolor": "white"
           },
           "yaxis": {
            "backgroundcolor": "#E5ECF6",
            "gridcolor": "white",
            "gridwidth": 2,
            "linecolor": "white",
            "showbackground": true,
            "ticks": "",
            "zerolinecolor": "white"
           },
           "zaxis": {
            "backgroundcolor": "#E5ECF6",
            "gridcolor": "white",
            "gridwidth": 2,
            "linecolor": "white",
            "showbackground": true,
            "ticks": "",
            "zerolinecolor": "white"
           }
          },
          "shapedefaults": {
           "line": {
            "color": "#2a3f5f"
           }
          },
          "ternary": {
           "aaxis": {
            "gridcolor": "white",
            "linecolor": "white",
            "ticks": ""
           },
           "baxis": {
            "gridcolor": "white",
            "linecolor": "white",
            "ticks": ""
           },
           "bgcolor": "#E5ECF6",
           "caxis": {
            "gridcolor": "white",
            "linecolor": "white",
            "ticks": ""
           }
          },
          "title": {
           "x": 0.05
          },
          "xaxis": {
           "automargin": true,
           "gridcolor": "white",
           "linecolor": "white",
           "ticks": "",
           "title": {
            "standoff": 15
           },
           "zerolinecolor": "white",
           "zerolinewidth": 2
          },
          "yaxis": {
           "automargin": true,
           "gridcolor": "white",
           "linecolor": "white",
           "ticks": "",
           "title": {
            "standoff": 15
           },
           "zerolinecolor": "white",
           "zerolinewidth": 2
          }
         }
        },
        "title": {
         "font": {
          "size": 30
         },
         "text": "World Map of User Locations",
         "x": 0.5
        }
       }
      }
     },
     "metadata": {},
     "output_type": "display_data"
    }
   ],
   "source": [
    "# User Map\n",
    "fig = px.choropleth(user_country_counts,\n",
    "                    locations=\"iso_alpha\",\n",
    "                    color=\"count\",\n",
    "                    hover_name=\"country\",\n",
    "                    color_continuous_scale=[\n",
    "                        (0.0, 'rgb(255, 255, 229)'),  \n",
    "                        (0.01, 'rgb(255, 247, 188)'),  \n",
    "                        (0.02, 'rgb(254, 227, 145)'), \n",
    "                        (0.03, 'rgb(254, 196, 79)'),   \n",
    "                        (0.04, 'rgb(254, 153, 41)'),  \n",
    "                        (0.05, 'rgb(236, 112, 20)'),   \n",
    "                        (0.1, 'rgb(204, 76, 2)'),    \n",
    "                        (0.5, 'rgb(153, 52, 4)'),     \n",
    "                        (1.0, 'rgb(102, 37, 6)'),     \n",
    "                    ],\n",
    "                    projection=\"natural earth\")\n",
    "fig.update_layout(title_text='World Map of User Locations', title_x=0.5, title_font_size=30)\n",
    "fig.show()"
   ]
  },
  {
   "cell_type": "code",
   "execution_count": null,
   "id": "6f82c5cb",
   "metadata": {},
   "outputs": [
    {
     "data": {
      "application/vnd.plotly.v1+json": {
       "config": {
        "plotlyServerURL": "https://plot.ly"
       },
       "data": [
        {
         "coloraxis": "coloraxis",
         "geo": "geo",
         "hovertemplate": "<b>%{hovertext}</b><br><br>iso_alpha=%{location}<br>count=%{z}<extra></extra>",
         "hovertext": [
          "Algérie ⵍⵣⵣⴰⵢⴻⵔ الجزائر",
          "Andorra",
          "Angola",
          "Antigua and Barbuda",
          "Argentina",
          "Aruba",
          "Australia",
          "Ayiti",
          "Azərbaycan",
          "Barbados",
          "Belau",
          "België / Belgique / Belgien",
          "Belize",
          "Bermuda",
          "Bolivia",
          "Bosna i Hercegovina / Босна и Херцеговина",
          "Botswana",
          "Brasil",
          "Burkina Faso",
          "Burundi",
          "Bénin",
          "Cabo Verde",
          "Cameroun",
          "Canada",
          "Cayman Islands",
          "Chile",
          "Colombia",
          "Costa Rica",
          "Crna Gora / Црна Гора",
          "Cuba",
          "Curaçao",
          "Côte d’Ivoire",
          "Danmark",
          "Deutschland",
          "Ecuador",
          "Eesti",
          "El Salvador",
          "España",
          "Falkland Islands",
          "France",
          "Føroyar",
          "Gabon",
          "Gambia",
          "Ghana",
          "Gibraltar",
          "Grenada",
          "Guatemala",
          "Guernsey",
          "Guinée",
          "Guyana",
          "Honduras",
          "Hrvatska",
          "India",
          "Indonesia",
          "Isle of Man",
          "Italia",
          "Jamaica",
          "Jersey",
          "Kalaallit Nunaat",
          "Kenya",
          "Kuzey Kıbrıs",
          "Latvija",
          "Lesotho",
          "Liberia",
          "Liechtenstein",
          "Lietuva",
          "Lëtzebuerg",
          "Madagasikara / Madagascar",
          "Magyarország",
          "Malawi",
          "Malaysia",
          "Mali",
          "Malta",
          "Maroc ⵍⵎⵖⵔⵉⴱ المغرب",
          "Mauritius / Maurice",
          "Micronesia",
          "Moldova",
          "Monaco",
          "Moçambique",
          "México",
          "Namibia",
          "Nederland",
          "New Zealand / Aotearoa",
          "Nicaragua",
          "Niger",
          "Nigeria",
          "Norge",
          "Oʻzbekiston",
          "Panamá",
          "Papua Niugini",
          "Paraguay / Paraguái",
          "Perú",
          "Philippines",
          "Polska",
          "Portugal",
          "República Dominicana",
          "România",
          "Rwanda",
          "République démocratique du Congo",
          "Saint Lucia",
          "San Marino",
          "Schweiz/Suisse/Svizzera/Svizra",
          "Sesel",
          "Shqipëria",
          "Singapore",
          "Slovenija",
          "Slovensko",
          "South Africa",
          "Suomi / Finland",
          "Suriname",
          "Sverige",
          "Sénégal",
          "Sāmoa",
          "Tanzania",
          "Tchad تشاد",
          "The Bahamas",
          "Togo",
          "Tonga",
          "Trinidad and Tobago",
          "Turks and Caicos Islands",
          "Türkiye",
          "Türkmenistan",
          "Uganda",
          "United Kingdom",
          "United States",
          "Uruguay",
          "Vanuatu",
          "Venezuela",
          "Việt Nam",
          "Zimbabwe",
          "eSwatini",
          "Éire / Ireland",
          "Ísland",
          "Österreich",
          "Česko",
          "Ελλάς",
          "Κύπρος - Kıbrıs",
          "Абхазия - Аԥсны",
          "Беларусь",
          "България",
          "Кыргызстан",
          "Монгол улс ᠮᠤᠩᠭᠤᠯ ᠤᠯᠤᠰ",
          "Россия",
          "Северна Македонија",
          "Србија",
          "Україна",
          "Хуссар Ирыстон - Южная Осетия",
          "Қазақстан",
          "Հայաստան",
          "ישראל",
          "الأراضي الفلسطينية",
          "الأردن",
          "الإمارات العربية المتحدة",
          "السعودية",
          "العراق",
          "ایران",
          "تونس",
          "سوريا",
          "لبنان",
          "مصر",
          "پاکستان",
          "नेपाल",
          "বাংলাদেশ",
          "ශ්‍රී ලංකාව இலங்கை",
          "ประเทศไทย",
          "ປະເທດລາວ",
          "འབྲུགཡུལ་",
          "မြန်မာ",
          "საქართველო",
          "ኢትዮጵያ",
          "ኤርትራ Eritrea إرتريا",
          "ព្រះរាជាណាចក្រ​កម្ពុជា",
          "中国",
          "日本",
          "臺灣",
          "대한민국",
          "조선민주주의인민공화국"
         ],
         "locations": [
          "DZA",
          "AND",
          "AGO",
          "ATG",
          "ARG",
          "NLD",
          "AUS",
          "HTI",
          "AZE",
          "BRB",
          "PLW",
          "BEL",
          "BLZ",
          "BMU",
          "BOL",
          "BIH",
          "BWA",
          "BRA",
          "BFA",
          "BDI",
          "BEN",
          "CPV",
          "CMR",
          "CAN",
          "CYM",
          "CHL",
          "COL",
          "CRI",
          "MNE",
          "CUB",
          "NLD",
          "CIV",
          "DNK",
          "DEU",
          "ECU",
          "EST",
          "SLV",
          "ESP",
          "FLK",
          "FRA",
          "FRO",
          "GAB",
          "GMB",
          "GHA",
          "GIB",
          "GRD",
          "GTM",
          "GGY",
          "GIN",
          "GUY",
          "HND",
          "HRV",
          "IND",
          "IDN",
          "IMN",
          "ITA",
          "JAM",
          "JEY",
          "GRL",
          "KEN",
          "CYP",
          "LVA",
          "LSO",
          "LBR",
          "LIE",
          "LTU",
          "LUX",
          "MDG",
          "HUN",
          "MWI",
          "MYS",
          "MLI",
          "MLT",
          "MAR",
          "MUS",
          "FSM",
          "MDA",
          "MCO",
          "MOZ",
          "MEX",
          "NAM",
          "NLD",
          "NZL",
          "NIC",
          "NER",
          "NGA",
          "NOR",
          "UZB",
          "PAN",
          "PNG",
          "PRY",
          "PER",
          "PHL",
          "POL",
          "PRT",
          "DOM",
          "ROU",
          "RWA",
          "COD",
          "LCA",
          "SMR",
          "CHE",
          "SYC",
          "ALB",
          "SGP",
          "SVN",
          "SVK",
          "ZAF",
          "FIN",
          "SUR",
          "SWE",
          "SEN",
          "WSM",
          "TZA",
          "TCD",
          "BHS",
          "TGO",
          "TON",
          "TTO",
          "TCA",
          "TUR",
          "TKM",
          "UGA",
          "GBR",
          "USA",
          "URY",
          "VUT",
          "VEN",
          "VNM",
          "ZWE",
          "SWZ",
          "IRL",
          "ISL",
          "AUT",
          "CZE",
          "GRC",
          "CYP",
          "GEO",
          "BLR",
          "BGR",
          "KGZ",
          "MNG",
          "RUS",
          "MKD",
          "SRB",
          "UKR",
          "GEO",
          "KAZ",
          "ARM",
          "ISR",
          "PSE",
          "JOR",
          "ARE",
          "SAU",
          "IRQ",
          "IRN",
          "TUN",
          "SYR",
          "LBN",
          "EGY",
          "PAK",
          "NPL",
          "BGD",
          "LKA",
          "THA",
          "LAO",
          "BTN",
          "MMR",
          "GEO",
          "ETH",
          "ERI",
          "KHM",
          "CHN",
          "JPN",
          "TWN",
          "KOR",
          "PRK"
         ],
         "name": "",
         "type": "choropleth",
         "z": [
          4,
          2,
          5,
          2,
          100,
          2,
          487,
          2,
          1,
          3,
          1,
          499,
          1,
          3,
          12,
          19,
          2,
          222,
          2,
          1,
          2,
          2,
          1,
          1100,
          5,
          75,
          14,
          24,
          3,
          8,
          2,
          2,
          272,
          1727,
          19,
          64,
          2,
          493,
          1,
          519,
          5,
          1,
          2,
          2,
          1,
          1,
          6,
          3,
          1,
          1,
          4,
          60,
          56,
          15,
          7,
          580,
          4,
          3,
          7,
          3,
          1,
          48,
          2,
          1,
          4,
          71,
          11,
          2,
          107,
          1,
          3,
          1,
          4,
          1,
          5,
          1,
          17,
          1,
          2,
          157,
          4,
          427,
          188,
          2,
          1,
          6,
          205,
          1,
          8,
          1,
          4,
          30,
          24,
          293,
          68,
          4,
          47,
          4,
          1,
          2,
          4,
          300,
          1,
          10,
          23,
          56,
          81,
          117,
          114,
          2,
          345,
          2,
          1,
          3,
          1,
          4,
          1,
          1,
          3,
          2,
          12,
          2,
          6,
          2100,
          9146,
          7,
          4,
          7,
          47,
          1,
          2,
          122,
          18,
          199,
          350,
          64,
          6,
          2,
          31,
          29,
          4,
          5,
          196,
          7,
          43,
          81,
          1,
          15,
          5,
          63,
          5,
          4,
          1,
          4,
          1,
          2,
          3,
          1,
          8,
          4,
          1,
          7,
          1,
          5,
          37,
          3,
          5,
          6,
          12,
          9,
          1,
          15,
          125,
          261,
          21,
          38,
          7
         ]
        }
       ],
       "layout": {
        "coloraxis": {
         "colorbar": {
          "title": {
           "text": "count"
          }
         },
         "colorscale": [
          [
           0,
           "rgb(255, 255, 229)"
          ],
          [
           0.01,
           "rgb(255, 247, 188)"
          ],
          [
           0.02,
           "rgb(254, 227, 145)"
          ],
          [
           0.03,
           "rgb(254, 196, 79)"
          ],
          [
           0.04,
           "rgb(254, 153, 41)"
          ],
          [
           0.05,
           "rgb(236, 112, 20)"
          ],
          [
           0.1,
           "rgb(204, 76, 2)"
          ],
          [
           0.5,
           "rgb(153, 52, 4)"
          ],
          [
           1,
           "rgb(102, 37, 6)"
          ]
         ]
        },
        "geo": {
         "center": {},
         "domain": {
          "x": [
           0,
           1
          ],
          "y": [
           0,
           1
          ]
         },
         "projection": {
          "type": "natural earth"
         }
        },
        "legend": {
         "tracegroupgap": 0
        },
        "margin": {
         "t": 60
        },
        "template": {
         "data": {
          "bar": [
           {
            "error_x": {
             "color": "#2a3f5f"
            },
            "error_y": {
             "color": "#2a3f5f"
            },
            "marker": {
             "line": {
              "color": "#E5ECF6",
              "width": 0.5
             },
             "pattern": {
              "fillmode": "overlay",
              "size": 10,
              "solidity": 0.2
             }
            },
            "type": "bar"
           }
          ],
          "barpolar": [
           {
            "marker": {
             "line": {
              "color": "#E5ECF6",
              "width": 0.5
             },
             "pattern": {
              "fillmode": "overlay",
              "size": 10,
              "solidity": 0.2
             }
            },
            "type": "barpolar"
           }
          ],
          "carpet": [
           {
            "aaxis": {
             "endlinecolor": "#2a3f5f",
             "gridcolor": "white",
             "linecolor": "white",
             "minorgridcolor": "white",
             "startlinecolor": "#2a3f5f"
            },
            "baxis": {
             "endlinecolor": "#2a3f5f",
             "gridcolor": "white",
             "linecolor": "white",
             "minorgridcolor": "white",
             "startlinecolor": "#2a3f5f"
            },
            "type": "carpet"
           }
          ],
          "choropleth": [
           {
            "colorbar": {
             "outlinewidth": 0,
             "ticks": ""
            },
            "type": "choropleth"
           }
          ],
          "contour": [
           {
            "colorbar": {
             "outlinewidth": 0,
             "ticks": ""
            },
            "colorscale": [
             [
              0,
              "#0d0887"
             ],
             [
              0.1111111111111111,
              "#46039f"
             ],
             [
              0.2222222222222222,
              "#7201a8"
             ],
             [
              0.3333333333333333,
              "#9c179e"
             ],
             [
              0.4444444444444444,
              "#bd3786"
             ],
             [
              0.5555555555555556,
              "#d8576b"
             ],
             [
              0.6666666666666666,
              "#ed7953"
             ],
             [
              0.7777777777777778,
              "#fb9f3a"
             ],
             [
              0.8888888888888888,
              "#fdca26"
             ],
             [
              1,
              "#f0f921"
             ]
            ],
            "type": "contour"
           }
          ],
          "contourcarpet": [
           {
            "colorbar": {
             "outlinewidth": 0,
             "ticks": ""
            },
            "type": "contourcarpet"
           }
          ],
          "heatmap": [
           {
            "colorbar": {
             "outlinewidth": 0,
             "ticks": ""
            },
            "colorscale": [
             [
              0,
              "#0d0887"
             ],
             [
              0.1111111111111111,
              "#46039f"
             ],
             [
              0.2222222222222222,
              "#7201a8"
             ],
             [
              0.3333333333333333,
              "#9c179e"
             ],
             [
              0.4444444444444444,
              "#bd3786"
             ],
             [
              0.5555555555555556,
              "#d8576b"
             ],
             [
              0.6666666666666666,
              "#ed7953"
             ],
             [
              0.7777777777777778,
              "#fb9f3a"
             ],
             [
              0.8888888888888888,
              "#fdca26"
             ],
             [
              1,
              "#f0f921"
             ]
            ],
            "type": "heatmap"
           }
          ],
          "heatmapgl": [
           {
            "colorbar": {
             "outlinewidth": 0,
             "ticks": ""
            },
            "colorscale": [
             [
              0,
              "#0d0887"
             ],
             [
              0.1111111111111111,
              "#46039f"
             ],
             [
              0.2222222222222222,
              "#7201a8"
             ],
             [
              0.3333333333333333,
              "#9c179e"
             ],
             [
              0.4444444444444444,
              "#bd3786"
             ],
             [
              0.5555555555555556,
              "#d8576b"
             ],
             [
              0.6666666666666666,
              "#ed7953"
             ],
             [
              0.7777777777777778,
              "#fb9f3a"
             ],
             [
              0.8888888888888888,
              "#fdca26"
             ],
             [
              1,
              "#f0f921"
             ]
            ],
            "type": "heatmapgl"
           }
          ],
          "histogram": [
           {
            "marker": {
             "pattern": {
              "fillmode": "overlay",
              "size": 10,
              "solidity": 0.2
             }
            },
            "type": "histogram"
           }
          ],
          "histogram2d": [
           {
            "colorbar": {
             "outlinewidth": 0,
             "ticks": ""
            },
            "colorscale": [
             [
              0,
              "#0d0887"
             ],
             [
              0.1111111111111111,
              "#46039f"
             ],
             [
              0.2222222222222222,
              "#7201a8"
             ],
             [
              0.3333333333333333,
              "#9c179e"
             ],
             [
              0.4444444444444444,
              "#bd3786"
             ],
             [
              0.5555555555555556,
              "#d8576b"
             ],
             [
              0.6666666666666666,
              "#ed7953"
             ],
             [
              0.7777777777777778,
              "#fb9f3a"
             ],
             [
              0.8888888888888888,
              "#fdca26"
             ],
             [
              1,
              "#f0f921"
             ]
            ],
            "type": "histogram2d"
           }
          ],
          "histogram2dcontour": [
           {
            "colorbar": {
             "outlinewidth": 0,
             "ticks": ""
            },
            "colorscale": [
             [
              0,
              "#0d0887"
             ],
             [
              0.1111111111111111,
              "#46039f"
             ],
             [
              0.2222222222222222,
              "#7201a8"
             ],
             [
              0.3333333333333333,
              "#9c179e"
             ],
             [
              0.4444444444444444,
              "#bd3786"
             ],
             [
              0.5555555555555556,
              "#d8576b"
             ],
             [
              0.6666666666666666,
              "#ed7953"
             ],
             [
              0.7777777777777778,
              "#fb9f3a"
             ],
             [
              0.8888888888888888,
              "#fdca26"
             ],
             [
              1,
              "#f0f921"
             ]
            ],
            "type": "histogram2dcontour"
           }
          ],
          "mesh3d": [
           {
            "colorbar": {
             "outlinewidth": 0,
             "ticks": ""
            },
            "type": "mesh3d"
           }
          ],
          "parcoords": [
           {
            "line": {
             "colorbar": {
              "outlinewidth": 0,
              "ticks": ""
             }
            },
            "type": "parcoords"
           }
          ],
          "pie": [
           {
            "automargin": true,
            "type": "pie"
           }
          ],
          "scatter": [
           {
            "fillpattern": {
             "fillmode": "overlay",
             "size": 10,
             "solidity": 0.2
            },
            "type": "scatter"
           }
          ],
          "scatter3d": [
           {
            "line": {
             "colorbar": {
              "outlinewidth": 0,
              "ticks": ""
             }
            },
            "marker": {
             "colorbar": {
              "outlinewidth": 0,
              "ticks": ""
             }
            },
            "type": "scatter3d"
           }
          ],
          "scattercarpet": [
           {
            "marker": {
             "colorbar": {
              "outlinewidth": 0,
              "ticks": ""
             }
            },
            "type": "scattercarpet"
           }
          ],
          "scattergeo": [
           {
            "marker": {
             "colorbar": {
              "outlinewidth": 0,
              "ticks": ""
             }
            },
            "type": "scattergeo"
           }
          ],
          "scattergl": [
           {
            "marker": {
             "colorbar": {
              "outlinewidth": 0,
              "ticks": ""
             }
            },
            "type": "scattergl"
           }
          ],
          "scattermapbox": [
           {
            "marker": {
             "colorbar": {
              "outlinewidth": 0,
              "ticks": ""
             }
            },
            "type": "scattermapbox"
           }
          ],
          "scatterpolar": [
           {
            "marker": {
             "colorbar": {
              "outlinewidth": 0,
              "ticks": ""
             }
            },
            "type": "scatterpolar"
           }
          ],
          "scatterpolargl": [
           {
            "marker": {
             "colorbar": {
              "outlinewidth": 0,
              "ticks": ""
             }
            },
            "type": "scatterpolargl"
           }
          ],
          "scatterternary": [
           {
            "marker": {
             "colorbar": {
              "outlinewidth": 0,
              "ticks": ""
             }
            },
            "type": "scatterternary"
           }
          ],
          "surface": [
           {
            "colorbar": {
             "outlinewidth": 0,
             "ticks": ""
            },
            "colorscale": [
             [
              0,
              "#0d0887"
             ],
             [
              0.1111111111111111,
              "#46039f"
             ],
             [
              0.2222222222222222,
              "#7201a8"
             ],
             [
              0.3333333333333333,
              "#9c179e"
             ],
             [
              0.4444444444444444,
              "#bd3786"
             ],
             [
              0.5555555555555556,
              "#d8576b"
             ],
             [
              0.6666666666666666,
              "#ed7953"
             ],
             [
              0.7777777777777778,
              "#fb9f3a"
             ],
             [
              0.8888888888888888,
              "#fdca26"
             ],
             [
              1,
              "#f0f921"
             ]
            ],
            "type": "surface"
           }
          ],
          "table": [
           {
            "cells": {
             "fill": {
              "color": "#EBF0F8"
             },
             "line": {
              "color": "white"
             }
            },
            "header": {
             "fill": {
              "color": "#C8D4E3"
             },
             "line": {
              "color": "white"
             }
            },
            "type": "table"
           }
          ]
         },
         "layout": {
          "annotationdefaults": {
           "arrowcolor": "#2a3f5f",
           "arrowhead": 0,
           "arrowwidth": 1
          },
          "autotypenumbers": "strict",
          "coloraxis": {
           "colorbar": {
            "outlinewidth": 0,
            "ticks": ""
           }
          },
          "colorscale": {
           "diverging": [
            [
             0,
             "#8e0152"
            ],
            [
             0.1,
             "#c51b7d"
            ],
            [
             0.2,
             "#de77ae"
            ],
            [
             0.3,
             "#f1b6da"
            ],
            [
             0.4,
             "#fde0ef"
            ],
            [
             0.5,
             "#f7f7f7"
            ],
            [
             0.6,
             "#e6f5d0"
            ],
            [
             0.7,
             "#b8e186"
            ],
            [
             0.8,
             "#7fbc41"
            ],
            [
             0.9,
             "#4d9221"
            ],
            [
             1,
             "#276419"
            ]
           ],
           "sequential": [
            [
             0,
             "#0d0887"
            ],
            [
             0.1111111111111111,
             "#46039f"
            ],
            [
             0.2222222222222222,
             "#7201a8"
            ],
            [
             0.3333333333333333,
             "#9c179e"
            ],
            [
             0.4444444444444444,
             "#bd3786"
            ],
            [
             0.5555555555555556,
             "#d8576b"
            ],
            [
             0.6666666666666666,
             "#ed7953"
            ],
            [
             0.7777777777777778,
             "#fb9f3a"
            ],
            [
             0.8888888888888888,
             "#fdca26"
            ],
            [
             1,
             "#f0f921"
            ]
           ],
           "sequentialminus": [
            [
             0,
             "#0d0887"
            ],
            [
             0.1111111111111111,
             "#46039f"
            ],
            [
             0.2222222222222222,
             "#7201a8"
            ],
            [
             0.3333333333333333,
             "#9c179e"
            ],
            [
             0.4444444444444444,
             "#bd3786"
            ],
            [
             0.5555555555555556,
             "#d8576b"
            ],
            [
             0.6666666666666666,
             "#ed7953"
            ],
            [
             0.7777777777777778,
             "#fb9f3a"
            ],
            [
             0.8888888888888888,
             "#fdca26"
            ],
            [
             1,
             "#f0f921"
            ]
           ]
          },
          "colorway": [
           "#636efa",
           "#EF553B",
           "#00cc96",
           "#ab63fa",
           "#FFA15A",
           "#19d3f3",
           "#FF6692",
           "#B6E880",
           "#FF97FF",
           "#FECB52"
          ],
          "font": {
           "color": "#2a3f5f"
          },
          "geo": {
           "bgcolor": "white",
           "lakecolor": "white",
           "landcolor": "#E5ECF6",
           "showlakes": true,
           "showland": true,
           "subunitcolor": "white"
          },
          "hoverlabel": {
           "align": "left"
          },
          "hovermode": "closest",
          "mapbox": {
           "style": "light"
          },
          "paper_bgcolor": "white",
          "plot_bgcolor": "#E5ECF6",
          "polar": {
           "angularaxis": {
            "gridcolor": "white",
            "linecolor": "white",
            "ticks": ""
           },
           "bgcolor": "#E5ECF6",
           "radialaxis": {
            "gridcolor": "white",
            "linecolor": "white",
            "ticks": ""
           }
          },
          "scene": {
           "xaxis": {
            "backgroundcolor": "#E5ECF6",
            "gridcolor": "white",
            "gridwidth": 2,
            "linecolor": "white",
            "showbackground": true,
            "ticks": "",
            "zerolinecolor": "white"
           },
           "yaxis": {
            "backgroundcolor": "#E5ECF6",
            "gridcolor": "white",
            "gridwidth": 2,
            "linecolor": "white",
            "showbackground": true,
            "ticks": "",
            "zerolinecolor": "white"
           },
           "zaxis": {
            "backgroundcolor": "#E5ECF6",
            "gridcolor": "white",
            "gridwidth": 2,
            "linecolor": "white",
            "showbackground": true,
            "ticks": "",
            "zerolinecolor": "white"
           }
          },
          "shapedefaults": {
           "line": {
            "color": "#2a3f5f"
           }
          },
          "ternary": {
           "aaxis": {
            "gridcolor": "white",
            "linecolor": "white",
            "ticks": ""
           },
           "baxis": {
            "gridcolor": "white",
            "linecolor": "white",
            "ticks": ""
           },
           "bgcolor": "#E5ECF6",
           "caxis": {
            "gridcolor": "white",
            "linecolor": "white",
            "ticks": ""
           }
          },
          "title": {
           "x": 0.05
          },
          "xaxis": {
           "automargin": true,
           "gridcolor": "white",
           "linecolor": "white",
           "ticks": "",
           "title": {
            "standoff": 15
           },
           "zerolinecolor": "white",
           "zerolinewidth": 2
          },
          "yaxis": {
           "automargin": true,
           "gridcolor": "white",
           "linecolor": "white",
           "ticks": "",
           "title": {
            "standoff": 15
           },
           "zerolinecolor": "white",
           "zerolinewidth": 2
          }
         }
        },
        "title": {
         "font": {
          "size": 30
         },
         "text": "World Map of Brewery Locations",
         "x": 0.5
        }
       }
      }
     },
     "metadata": {},
     "output_type": "display_data"
    }
   ],
   "source": [
    "fig = px.choropleth(brew_country_counts,\n",
    "                    locations=\"iso_alpha\",\n",
    "                    color=\"count\",\n",
    "                    hover_name=\"country\",\n",
    "                    color_continuous_scale=[\n",
    "                        (0.0, 'rgb(255, 255, 229)'),  \n",
    "                        (0.01, 'rgb(255, 247, 188)'),  \n",
    "                        (0.02, 'rgb(254, 227, 145)'), \n",
    "                        (0.03, 'rgb(254, 196, 79)'),   \n",
    "                        (0.04, 'rgb(254, 153, 41)'),  \n",
    "                        (0.05, 'rgb(236, 112, 20)'),   \n",
    "                        (0.1, 'rgb(204, 76, 2)'),    \n",
    "                        (0.5, 'rgb(153, 52, 4)'),     \n",
    "                        (1.0, 'rgb(102, 37, 6)'),     \n",
    "                    ],\n",
    "                    projection=\"natural earth\")\n",
    "fig.update_layout(title_text='World Map of Brewery Locations', title_x=0.5, title_font_size=30)\n",
    "fig.show()"
   ]
  },
  {
   "cell_type": "markdown",
   "id": "ec424a71",
   "metadata": {},
   "source": [
    "An interesting finding is that in sampled data we don't have so many German users but for Breweries, we have a lot!"
   ]
  },
  {
   "cell_type": "markdown",
   "id": "0f9b4551",
   "metadata": {},
   "source": [
    "## Analysis"
   ]
  },
  {
   "cell_type": "markdown",
   "id": "444148d5",
   "metadata": {},
   "source": [
    "### Linear regression on subset of reviews\n",
    "Function that takes a subset of ratings and columns of interest as input and returns a Linear Regresion results"
   ]
  },
  {
   "cell_type": "code",
   "execution_count": 8,
   "id": "d39340c4",
   "metadata": {},
   "outputs": [],
   "source": [
    "def get_LR(data, columns):\n",
    "    data_to_process = data.copy()\n",
    "    # create formula and normalize data\n",
    "    columns=list(columns)\n",
    "    formula = 'rating ~ ' + columns[0]\n",
    "    columns.append('rating')  # add rating for the linear regression\n",
    "    data_to_process = data_to_process[columns].dropna().sample(frac=1)  # create a subset with the columns of interest and shuffle it\n",
    "    data_to_process = (data_to_process - data_to_process.mean()) / data_to_process.std()  # standardization\n",
    "    for el in columns[1:-1]:\n",
    "        #if len(columns) - 1 > idx > 0:  # add feature to formula\n",
    "        formula += ' + ' + el\n",
    "    print(formula)\n",
    "        #data_to_process[el] = (data_to_process[el] - data_to_process[el].mean())/data_to_process[el].std()\n",
    "\n",
    "    \n",
    "    \n",
    "    # create the model and fit it to the dataset\n",
    "    mod = smf.ols(formula=formula, data=data_to_process)\n",
    "    np.random.seed(2)\n",
    "    res = mod.fit()\n",
    "    return res"
   ]
  },
  {
   "cell_type": "markdown",
   "id": "8d36558f",
   "metadata": {},
   "source": [
    "### Linear regression on the full set"
   ]
  },
  {
   "cell_type": "code",
   "execution_count": 9,
   "id": "fc62e069",
   "metadata": {},
   "outputs": [
    {
     "name": "stdout",
     "output_type": "stream",
     "text": [
      "Initial columns:\n",
      " Index(['beer_name', 'beer_id', 'style', 'abv', 'nbr_ratings', 'nbr_reviews',\n",
      "       'avg', 'ba_score', 'bros_score', 'avg_computed', 'zscore',\n",
      "       'overall_score', 'style_score', 'nbr_matched_valid_ratings',\n",
      "       'avg_matched_valid_ratings', 'joined', 'brewery_name', 'brewery_id',\n",
      "       'brewery_location', 'nbr_beers', 'date', 'user_name', 'user_id',\n",
      "       'user_location', 'appearance', 'aroma', 'palate', 'taste', 'overall',\n",
      "       'rating', 'text', 'review', 'dataset'],\n",
      "      dtype='object')\n",
      "\n",
      "==============\n",
      "\n",
      "Chosen columns for linear regression are :\n",
      " ['appearance', 'aroma', 'palate', 'taste', 'overall']\n",
      "rating ~ appearance + aroma + palate + taste + overall\n",
      "\n",
      "==============\n",
      "\n",
      "Results of the linear regression:\n",
      "\n",
      "                            OLS Regression Results                            \n",
      "==============================================================================\n",
      "Dep. Variable:                 rating   R-squared:                       0.796\n",
      "Model:                            OLS   Adj. R-squared:                  0.796\n",
      "Method:                 Least Squares   F-statistic:                 9.305e+05\n",
      "Date:                Fri, 17 Nov 2023   Prob (F-statistic):               0.00\n",
      "Time:                        19:58:36   Log-Likelihood:            -7.4163e+05\n",
      "No. Observations:             1189853   AIC:                         1.483e+06\n",
      "Df Residuals:                 1189847   BIC:                         1.483e+06\n",
      "Df Model:                           5                                         \n",
      "Covariance Type:            nonrobust                                         \n",
      "==============================================================================\n",
      "                 coef    std err          t      P>|t|      [0.025      0.975]\n",
      "------------------------------------------------------------------------------\n",
      "Intercept  -7.379e-16      0.000  -1.78e-12      1.000      -0.001       0.001\n",
      "appearance     0.2452      0.001    450.924      0.000       0.244       0.246\n",
      "aroma          0.3004      0.001    296.694      0.000       0.298       0.302\n",
      "palate         0.5002      0.001    869.562      0.000       0.499       0.501\n",
      "taste          0.5294      0.001    420.068      0.000       0.527       0.532\n",
      "overall       -0.6998      0.001   -566.193      0.000      -0.702      -0.697\n",
      "==============================================================================\n",
      "Omnibus:                   205552.102   Durbin-Watson:                   2.001\n",
      "Prob(Omnibus):                  0.000   Jarque-Bera (JB):           646966.329\n",
      "Skew:                          -0.892   Prob(JB):                         0.00\n",
      "Kurtosis:                       6.142   Cond. No.                         6.58\n",
      "==============================================================================\n",
      "\n",
      "Notes:\n",
      "[1] Standard Errors assume that the covariance matrix of the errors is correctly specified.\n"
     ]
    }
   ],
   "source": [
    "print('Initial columns:\\n', ratings_mixed_sample.columns)\n",
    "columns_of_interest = [\"appearance\",  \"aroma\",  \"palate\",  \"taste\",  \"overall\"]\n",
    "print('\\n==============\\n')\n",
    "print('Chosen columns for linear regression are :\\n', columns_of_interest)\n",
    "res = get_LR(ratings_mixed_sample, columns_of_interest)\n",
    "\n",
    "print('\\n==============\\n')\n",
    "print('Results of the linear regression:\\n')\n",
    "print(res.summary())"
   ]
  },
  {
   "cell_type": "code",
   "execution_count": 10,
   "id": "592978ac",
   "metadata": {},
   "outputs": [
    {
     "name": "stdout",
     "output_type": "stream",
     "text": [
      "Let' now sort the coefficients by absolute impact on the rating:\n",
      "overall    -6.998168e-01\n",
      "taste       5.294397e-01\n",
      "palate      5.002020e-01\n",
      "aroma       3.004430e-01\n",
      "appearance  2.451640e-01\n",
      "Intercept  -7.379080e-16\n"
     ]
    }
   ],
   "source": [
    "print('Let\\' now sort the coefficients by absolute impact on the rating:')\n",
    "print(pd.DataFrame(res.params).sort_values(0, ascending=False, key=abs).to_string(index=True, header=False))"
   ]
  },
  {
   "cell_type": "markdown",
   "id": "22be827b",
   "metadata": {},
   "source": [
    "### Results\n",
    "From what we can see of this preliminary analysis, some features are having almost 3 times the influence of others on the rating.\n",
    "Moreover, the R-squared of the fitted model is **0.796** which means that the regression explains roughly 80% of the variation in the variables which is indicating that this simple model alreay fit quite well the data. In the future of this project, we plan to try more complex architectures in order to get the most accurate representation of the impact of each variable.\n",
    "\n",
    "Let now see if this influence stays constant geographically.."
   ]
  },
  {
   "cell_type": "markdown",
   "id": "36c7f017",
   "metadata": {},
   "source": [
    "## Params statistics user_location-wise"
   ]
  },
  {
   "cell_type": "code",
   "execution_count": null,
   "id": "328ac435",
   "metadata": {},
   "outputs": [],
   "source": [
    "# Keep only reviews where user_location has at least 1000 reviews (Arbitrary)\n",
    "ratings_mixed_1000 = ratings_mixed_sample[ratings_mixed_sample.groupby('user_location')['user_location'].transform('size') > 1000]\n",
    "countries = ratings_mixed_1000.user_location.unique()\n",
    "param_df = res.params.copy()\n",
    "\n",
    "# Analysis of LR parameters among countries\n",
    "for country in countries:\n",
    "    country_df = ratings_mixed_1000.loc[ratings_mixed_1000['user_location']==country]\n",
    "    res = get_LR(country_df, columns_of_interest)\n",
    "    param_df = pd.concat((param_df, res.params.copy()), axis=1)\n",
    "\n",
    "# Params per country\n",
    "param_df.T.describe()"
   ]
  },
  {
   "cell_type": "markdown",
   "id": "a334a4fa",
   "metadata": {},
   "source": [
    "### Number of review per day using rolling average"
   ]
  },
  {
   "cell_type": "code",
   "execution_count": null,
   "id": "48f462d3",
   "metadata": {
    "scrolled": true
   },
   "outputs": [],
   "source": [
    "\n",
    "# Assuming the file is named 'beer_ratings.csv' and is located in the same directory as your script.\n",
    "# Read the CSV file\n",
    "MD_NR_RW_DAY=ratings_mixed_sample\n",
    "# Convert the Unix time to a datetime object, assuming the 'date' column is Unix time in seconds\n",
    "MD_NR_RW_DAY['date'] = pd.to_datetime(MD_NR_RW_DAY['date'], unit='s')\n",
    "\n",
    "# Filter out dates to ensure we only have one year of data, if necessary\n",
    "start_date = \"2015-01-1\"  # start date in the example given (20th August 2015)\n",
    "end_date = \"2016-01-1\"    # end date, one year later\n",
    "MD_NR_RW_DAY_WW = MD_NR_RW_DAY[(MD_NR_RW_DAY['date'] >= start_date) & (MD_NR_RW_DAY['date'] <= end_date)]\n"
   ]
  },
  {
   "cell_type": "code",
   "execution_count": null,
   "id": "6abe9278-a59a-4497-84d1-23379d124fdc",
   "metadata": {},
   "outputs": [],
   "source": [
    "# Group by the date and count the reviews\n",
    "def plot_rolling(df, window=7):\n",
    "    daily_reviews = df.groupby(df['date'].dt.date).size()\n",
    "    # Calculate the moving average with a window size of 7 to remove weeks days\n",
    "    rolling = daily_reviews.rolling(window=window, center=True)\n",
    "    rolling_average = rolling.mean()\n",
    "    \n",
    "    # Plot the rolling average\n",
    "    plt.figure(figsize=(14, 7))\n",
    "    rolling_average.plot(title=f\"Number of Reviews Per Day Over One Year with rolling window of {window} days\")\n",
    "    \n",
    "    # Add labels and grid\n",
    "    plt.xlabel('Date')\n",
    "    plt.ylabel('Number of Reviews')\n",
    "    plt.grid(True)\n",
    "    plt.show()\n",
    "plot_rolling(MD_NR_RW_DAY_WW)"
   ]
  },
  {
   "cell_type": "markdown",
   "id": "7c475997",
   "metadata": {},
   "source": [
    "### Limiting to german beers"
   ]
  },
  {
   "cell_type": "code",
   "execution_count": null,
   "id": "652fc498-d51e-415e-a063-1cf9131d6ba0",
   "metadata": {},
   "outputs": [],
   "source": [
    "german_beers= ratings_mixed_sample[ratings_mixed_sample[\"brewery_location\"]=='Germany'].copy()\n",
    "german_beers['date'] = pd.to_datetime(german_beers['date'], unit='s')\n",
    "\n",
    "# Filter out dates to ensure we only have one year of data, if necessary\n",
    "start_date = \"2015-01-1\"  # start date in the example given (20th August 2015)\n",
    "end_date = \"2016-01-1\"    # end date, one year later\n",
    "\n",
    "german_beers_WW = german_beers[(german_beers['date'] >= start_date) & (german_beers['date'] <= end_date)]\n",
    "plot_rolling(german_beers_WW)"
   ]
  },
  {
   "cell_type": "markdown",
   "id": "fe78fbb9",
   "metadata": {},
   "source": [
    "### Limiting to german beers and users"
   ]
  },
  {
   "cell_type": "code",
   "execution_count": null,
   "id": "8716fdcf-4e37-456d-8f28-2c93fe4f19ef",
   "metadata": {},
   "outputs": [],
   "source": [
    "german_users= ratings_mixed_sample[(ratings_mixed_sample[\"brewery_location\"]=='Germany') & (ratings_mixed_sample[\"user_location\"]=='Germany')].copy()\n",
    "\n",
    "# Filter out dates to ensure we only have one year of data, if necessary\n",
    "start_date = \"2015-01-1\"  # start date in the example given (20th August 2015)\n",
    "end_date = \"2016-01-1\"    # end date, one year later\n",
    "\n",
    "german_users_WW = german_users[(german_users['date'] >= start_date) & (german_users['date'] <= end_date)]\n",
    "plot_rolling(german_users_WW, 7)"
   ]
  },
  {
   "cell_type": "markdown",
   "id": "6f44925d",
   "metadata": {},
   "source": [
    "### Alcohol by volume evolution in a mean year by country of user"
   ]
  },
  {
   "cell_type": "code",
   "execution_count": null,
   "id": "a346374c",
   "metadata": {},
   "outputs": [],
   "source": [
    "alcohol_reviews = ratings_mixed_sample[['date','user_location','abv']]\n",
    "alcohol_reviews = alcohol_reviews.dropna()\n",
    "\n",
    "alcohol_reviews.loc[:,'date'] = alcohol_reviews[['date']].apply(lambda x: pd.to_datetime(x, unit='s'))\n",
    "alcohol_reviews.loc[:,'time'] = alcohol_reviews.loc[:,'date'].apply(lambda x: x.year)\n",
    "alcohol_reviews = alcohol_reviews.drop(columns = \"date\")\n",
    "alcohol_reviews = alcohol_reviews[alcohol_reviews.groupby('user_location')['user_location'].transform('size') > 50000]\n",
    "alcohol_reviews"
   ]
  },
  {
   "cell_type": "code",
   "execution_count": null,
   "id": "71e1621c-46b9-4c61-a4ca-e5cff5ffc26e",
   "metadata": {},
   "outputs": [],
   "source": [
    "mean_abv = alcohol_reviews.groupby([\"user_location\", \"time\"]).var().reset_index()\n",
    "\n",
    "# Create a plot with multiple lines and legend\n",
    "plt.figure(figsize=(10, 6))\n",
    "\n",
    "for location in mean_abv[\"user_location\"].unique():\n",
    "    location_data = mean_abv[mean_abv[\"user_location\"] == location]\n",
    "    plt.plot(location_data[\"time\"], location_data[\"abv\"], label=location)\n",
    "\n",
    "plt.xlabel(\"Time\")\n",
    "plt.ylabel(\"ABV\")\n",
    "plt.ylim([0, 15])\n",
    "plt.legend(loc=\"upper right\")\n",
    "plt.title(\"ABV vs Time for Different User Locations\")\n",
    "plt.grid(True)\n",
    "plt.show()"
   ]
  },
  {
   "cell_type": "code",
   "execution_count": null,
   "id": "52a295da-f8a5-43bc-aca3-139916537e8d",
   "metadata": {
    "scrolled": true
   },
   "outputs": [],
   "source": [
    "mean_abv = alcohol_reviews.groupby([\"user_location\", \"time\"]).var().reset_index()\n",
    "mean_abv.groupby(\"user_location\").plot(x=\"time\", y='abv', kind='line', ylim=[0, 15], subplots=True, sharex=False, sharey=True, layout= (1, -1), stacked=True, use_index=True)"
   ]
  },
  {
   "cell_type": "code",
   "execution_count": null,
   "id": "a062de40-3766-493f-b460-2ce051635360",
   "metadata": {},
   "outputs": [],
   "source": [
    "alcohol_reviews_global = alcohol_reviews.drop(columns='user_location')\n",
    "mean_abv = alcohol_reviews_global.groupby([\"time\"]).var().reset_index()\n",
    "mean_abv.plot(x=\"time\", y='abv', kind='line', ylim=[0, 15])"
   ]
  },
  {
   "cell_type": "code",
   "execution_count": null,
   "id": "5e0966c0-7959-43b1-ba7e-0fda3c16083c",
   "metadata": {},
   "outputs": [],
   "source": [
    "mean_abv = alcohol_reviews.groupby([\"time\"]).median().reset_index()\n",
    "mean_abv.plot(x=\"time\", y='abv', kind='line', ylim=[0, 15] )"
   ]
  },
  {
   "cell_type": "code",
   "execution_count": null,
   "id": "c9a0d101-880a-4ba7-bc1f-85ffde4d5b79",
   "metadata": {},
   "outputs": [],
   "source": [
    "mean_abv = alcohol_reviews.groupby([\"time\"]).std().reset_index()\n",
    "mean_abv.plot(x=\"time\", y='abv', kind='line', ylim=[0, 15] )"
   ]
  },
  {
   "cell_type": "markdown",
   "id": "e385df3f",
   "metadata": {},
   "source": [
    "### Test of Bens idea 2.2"
   ]
  },
  {
   "cell_type": "code",
   "execution_count": null,
   "id": "1bd7502a-adbe-4111-bcd5-9d1182c92dae",
   "metadata": {},
   "outputs": [],
   "source": [
    "# Assuming you have pandas DataFrames: ratings_BA, breweries_BA\n",
    "\n",
    "# 1. Calculate average ratings per brewery in ratings_BA\n",
    "avg_ratings = ratings_BA.groupby('brewery_id')['rating'].mean().reset_index()\n",
    "avg_ratings.rename(columns={'rating': 'average_rating'}, inplace=True)\n",
    "\n",
    "# 2. Rename columns in breweries_BA and filter out breweries with more than 200 beers\n",
    "breweries_BA.rename(columns={'id': 'brewery_id', 'nbr_beers': 'beer_count'}, inplace=True)\n",
    "filtered_breweries = breweries_BA[breweries_BA['beer_count'] <= 200]\n",
    "\n",
    "# 3. Analysis: Merge the dataframes for plotting\n",
    "analysis_df = pd.merge(avg_ratings, filtered_breweries[['brewery_id', 'beer_count']], on='brewery_id')\n",
    "\n",
    "# Create a line plot with a 95% confidence interval\n",
    "sns.lineplot(data=analysis_df, x='beer_count', y='average_rating', errorbar=('ci', 95))\n",
    "\n",
    "plt.xlabel('Number of Beers Produced (up to 200)')\n",
    "plt.ylabel('Average Rating')\n",
    "plt.title('Relationship between Number of Beers and Average Ratings')\n",
    "plt.show()\n"
   ]
  },
  {
   "cell_type": "markdown",
   "id": "965c004b",
   "metadata": {},
   "source": [
    "## Reviews and Trustworthiness of Users"
   ]
  },
  {
   "cell_type": "code",
   "execution_count": null,
   "id": "e7e97c9f",
   "metadata": {},
   "outputs": [],
   "source": [
    "print(ratings_mixed_sample.shape)\n",
    "print(ratings_mixed_sample[\"user_id\"].nunique())"
   ]
  },
  {
   "cell_type": "markdown",
   "id": "64d522ad",
   "metadata": {},
   "source": [
    "Very likely that the same user has rated multiple beers"
   ]
  },
  {
   "cell_type": "code",
   "execution_count": null,
   "id": "fd39b2be",
   "metadata": {},
   "outputs": [],
   "source": [
    "ratings_mixed_sample[\"text\"] = ratings_mixed_sample['text'].astype(str)\n",
    "user_review={}\n",
    "grouped = ratings_mixed_sample.groupby(\"user_id\")\n",
    "\n",
    "for user, group in tqdm(grouped, total=grouped.ngroups):\n",
    "    number = group.shape[0]\n",
    "    average_rating = group[\"rating\"].mean()\n",
    "    average_review_length = group[\"text\"].str.len().mean()\n",
    "\n",
    "    user_review[user] = [number, average_rating, average_review_length]\n",
    "\n",
    "\n",
    "sorted_user_review = sorted(user_review.items(), key=lambda item: item[1][0], reverse=True)  \n",
    "# if your python version is < 3.7, please notice that the dictionary is not ordered\n",
    "user_review = {user: values for user, values in sorted_user_review}"
   ]
  },
  {
   "cell_type": "code",
   "execution_count": null,
   "id": "9c9a6618",
   "metadata": {},
   "outputs": [],
   "source": [
    "number_review = [user_review[user][0] for user in user_review]  # Number of Reviews\n",
    "avg_review_len = [user_review[user][2] for user in user_review]  # Average Review Length\n",
    "avg_rating=[user_review[user][1] for user in user_review] # Average Rating\n",
    "\n",
    "fig,axs=plt.subplots(1,2,figsize=(10,5))\n",
    "plt.tight_layout()\n",
    "\n",
    "axs[0].scatter(number_review, avg_review_len, label='Data Points')\n",
    "axs[0].set_xlabel('Number of Reviews')\n",
    "axs[0].set_ylabel('Average Review Length')\n",
    "axs[0].set_title('Average Review Length vs Number of Reviews')\n",
    "axs[1].scatter(number_review, avg_rating, label='Data Points')\n",
    "axs[1].set_xlabel('Number of Reviews')\n",
    "axs[1].set_ylabel('Average Rating')\n",
    "axs[1].set_title('Average Rating vs Number of Reviews')"
   ]
  },
  {
   "cell_type": "markdown",
   "id": "43f91ea2",
   "metadata": {},
   "source": [
    "Then, what we should do in the future is how to give a \"trust\" score to a user based on the analysis of his/her data"
   ]
  }
 ],
 "metadata": {
  "kernelspec": {
   "display_name": "Python 3 (ipykernel)",
   "language": "python",
   "name": "python3"
  },
  "language_info": {
   "codemirror_mode": {
    "name": "ipython",
    "version": 3
   },
   "file_extension": ".py",
   "mimetype": "text/x-python",
   "name": "python",
   "nbconvert_exporter": "python",
   "pygments_lexer": "ipython3",
   "version": "3.9.18"
  }
 },
 "nbformat": 4,
 "nbformat_minor": 5
}
