{
 "cells": [
  {
   "cell_type": "markdown",
   "id": "48f27a77-232a-4a18-9d9b-a521bb721674",
   "metadata": {},
   "source": [
    "# ADA Project : Milestone 2"
   ]
  },
  {
   "cell_type": "markdown",
   "id": "a249f1ba-bf43-4feb-abb1-c9f528eba81b",
   "metadata": {},
   "source": [
    "## Imports and Data"
   ]
  },
  {
   "cell_type": "code",
   "execution_count": 1,
   "id": "d354a809-3775-419b-8e1f-a15e9d00e21e",
   "metadata": {
    "tags": []
   },
   "outputs": [],
   "source": [
    "import pandas as pd"
   ]
  },
  {
   "cell_type": "code",
   "execution_count": null,
   "id": "4388393d-e203-4daf-9752-efd86946293d",
   "metadata": {
    "tags": []
   },
   "outputs": [],
   "source": [
    "# Data from BeerAdvocate 'BA'\n",
    "beers_BA = pd.read_table(\"./Data/BeerAdvocate/beers.csv\", sep=\",\")\n",
    "breweries_BA = pd.read_table(\"./Data/BeerAdvocate/breweries.csv\", sep=\",\")\n",
    "users_BA = pd.read_table(\"./Data/BeerAdvocate/users.csv\", sep=\",\")\n",
    "# ratings_BA\n",
    "\"\"\"\n",
    "beer_id\n",
    "date\n",
    "user_id\n",
    "appearance\n",
    "aroma\n",
    "palate\n",
    "taste\n",
    "overall\n",
    "rating\n",
    "text\n",
    "\"\"\"\n",
    "with open(\"Data/BeerAdvocate/ratings.txt\") as f:\n",
    "    print(f.readlines())\n",
    "        \n",
    "# reviews_BA\n",
    "\n"
   ]
  },
  {
   "cell_type": "code",
   "execution_count": null,
   "id": "9708f392-044f-490a-9310-b443752ed092",
   "metadata": {},
   "outputs": [],
   "source": [
    "# Data from RateBeer 'RB'\n",
    "beers_RB = pd.read_table(\"./Data/RateBeer/beers.csv\", sep=\",\")\n",
    "breweries_RB = pd.read_table(\"./Data/RateBeer/breweries.csv\", sep=\",\")\n",
    "users_RB = pd.read_table(\"./Data/RateBeer/users.csv\", sep=\",\")\n",
    "# ratings_RB\n",
    "# reviews_RB"
   ]
  },
  {
   "cell_type": "code",
   "execution_count": null,
   "id": "276a9421-3b38-4e09-8e3d-3aa7efc0787e",
   "metadata": {},
   "outputs": [],
   "source": [
    "\"\"\"\n",
    "# Mixed data 'M'\n",
    "beers_M = pd.read_table(\"./Data/matched_beer_data/beers.csv\", sep=\",\")\n",
    "breweries_M = pd.read_table(\"./Data/matched_beer_data/breweries.csv\", sep=\",\")\n",
    "users_M = pd.read_table(\"./Data/matched_beer_data/users.csv\", sep=\",\")\n",
    "# ratings_ba\n",
    "# ratings_rb\n",
    "# ratings_with_text_ba\n",
    "# ratings_with_text_rb\n",
    "# ratings_M\n",
    "# users_approx\n",
    "\"\"\""
   ]
  },
  {
   "cell_type": "code",
   "execution_count": null,
   "id": "a1869801-90df-4d8e-954c-4cd260774962",
   "metadata": {},
   "outputs": [],
   "source": [
    "# Name of the lines and do_keep bool to know if we keep the content in the final results\n",
    "line_names = [\n",
    "    (\"beer_name\", False),\n",
    "    (\"beer_id\", True),\n",
    "    (\"brewery_name\", False),\n",
    "    (\"brewery_id\", True),\n",
    "    (\"style\", False), \n",
    "    (\"abv\", False),\n",
    "    (\"date\", True),\n",
    "    (\"user_name\", False),\n",
    "    (\"user_id\", True),\n",
    "    (\"appearance\", True),\n",
    "    (\"aroma\", True),\n",
    "    (\"palate\", True),\n",
    "    (\"taste\", True),\n",
    "    (\"overall\", True),\n",
    "    (\"rating\", True),\n",
    "    (\"text\", True),\n",
    "    (\"EMPTY\", False),\n",
    "]\n",
    "with open(\"Data/RateBeer/ratings.txt\") as f:\n",
    "    with open(\"Data/RateBeer/ratings_custom.txt\", \"w\") as r:\n",
    "        r.write(\",\".join([list_name for (list_name, keep_line) in line_names if keep_line]))\n",
    "        for i, row in enumerate(f):\n",
    "            line_index = i%len(line_names)\n",
    "            line_name, keep_line = line_names[line_index]\n",
    "            if line_name == \"EMPTY\":\n",
    "                r.write(\"\\n\")\n",
    "                continue\n",
    "            content = row.split(\": \")[1].strip()\n",
    "            if keep_line:\n",
    "                r.write(content+\",\")"
   ]
  },
  {
   "cell_type": "code",
   "execution_count": 18,
   "id": "d9dd77bd-b8fc-4674-a656-97082592c06a",
   "metadata": {
    "tags": []
   },
   "outputs": [
    {
     "data": {
      "text/plain": [
       "['beer_name: 33 Export (Gabon)\\n',\n",
       " 'beer_id: 410549\\n',\n",
       " 'brewery_name: Sobraga\\n',\n",
       " 'brewery_id: 3198\\n',\n",
       " 'style: Pale Lager\\n',\n",
       " 'abv: 5.0\\n',\n",
       " 'date: 1461664800\\n',\n",
       " 'user_name: Manslow\\n',\n",
       " 'user_id: 175852\\n',\n",
       " 'appearance: 2\\n',\n",
       " 'aroma: 4\\n',\n",
       " 'palate: 2\\n',\n",
       " 'taste: 4\\n',\n",
       " 'overall: 8\\n',\n",
       " 'rating: 2.00\\n',\n",
       " 'text: Puszka 0,33l dzięki Christoph . Kolor jasnozłoty, piana biała drobnoziarnista szybko opada. Aromat słodowy, lekko słodkie.Dość dobre. \\n',\n",
       " 'beer_name: Castel Beer (Gabon)\\n']"
      ]
     },
     "execution_count": 18,
     "metadata": {},
     "output_type": "execute_result"
    }
   ],
   "source": [
    "content"
   ]
  },
  {
   "cell_type": "code",
   "execution_count": null,
   "id": "2b9678ea-9913-4f95-aa6d-a4a27d65c4f7",
   "metadata": {},
   "outputs": [],
   "source": []
  }
 ],
 "metadata": {
  "kernelspec": {
   "display_name": "Python 3 (ipykernel)",
   "language": "python",
   "name": "python3"
  },
  "language_info": {
   "codemirror_mode": {
    "name": "ipython",
    "version": 3
   },
   "file_extension": ".py",
   "mimetype": "text/x-python",
   "name": "python",
   "nbconvert_exporter": "python",
   "pygments_lexer": "ipython3",
   "version": "3.9.18"
  }
 },
 "nbformat": 4,
 "nbformat_minor": 5
}
