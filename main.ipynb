{
 "cells": [
  {
   "cell_type": "markdown",
   "id": "48f27a77-232a-4a18-9d9b-a521bb721674",
   "metadata": {},
   "source": [
    "# ADA Project : Milestone 2"
   ]
  },
  {
   "cell_type": "markdown",
   "id": "4c8b6432",
   "metadata": {},
   "source": [
    "## Preparation"
   ]
  },
  {
   "cell_type": "code",
   "execution_count": 1,
   "id": "d354a809-3775-419b-8e1f-a15e9d00e21e",
   "metadata": {
    "tags": []
   },
   "outputs": [],
   "source": [
    "import pandas as pd\n",
    "import numpy as np\n",
    "import datetime as dt\n",
    "import matplotlib.pyplot as plt\n",
    "import seaborn as sns\n",
    "import statsmodels.api as sm\n",
    "import statsmodels.formula.api as smf\n",
    "from utils import *"
   ]
  },
  {
   "cell_type": "markdown",
   "id": "d07585f1",
   "metadata": {},
   "source": [
    "### Conversion : txt to csv\n",
    "The reviews are written in a txt file. The reviews are separated by an empty line. Each review is structured with a list of field and content:\n",
    "\n",
    "    field_1: content_1\n",
    "    field_2: content_2\n",
    "    ...\n",
    "    field_n: content_n\n",
    "\n",
    "The conversion translate this structures from text files to csv files that can be loaded as pandas dataframes"
   ]
  },
  {
   "cell_type": "code",
   "execution_count": 2,
   "id": "c393a162",
   "metadata": {},
   "outputs": [],
   "source": [
    "# Require extensive amount of RAM (a bit less than 32Gb)\n",
    "do_conversion = False\n",
    "if do_conversion:\n",
    "    ratings_text_to_csv(\"./data/BeerAdvocate/ratings.txt\")\n",
    "    ratings_text_to_csv(\"./data/RateBeer/ratings.txt\")"
   ]
  },
  {
   "cell_type": "markdown",
   "id": "d946a8fe",
   "metadata": {},
   "source": [
    "### Load data"
   ]
  },
  {
   "cell_type": "code",
   "execution_count": 3,
   "id": "c3882cfb",
   "metadata": {},
   "outputs": [],
   "source": [
    "# BeerAdvocate (BA)\n",
    "beers_BA, breweries_BA, users_BA, ratings_BA = load_data(\"BA\")"
   ]
  },
  {
   "cell_type": "code",
   "execution_count": 21,
   "id": "3989b59f",
   "metadata": {},
   "outputs": [],
   "source": [
    "# RateBeer (RB)\n",
    "beers_RB, breweries_RB, users_RB, ratings_RB = load_data(\"RB\")"
   ]
  },
  {
   "cell_type": "code",
   "execution_count": null,
   "id": "9708f392-044f-490a-9310-b443752ed092",
   "metadata": {},
   "outputs": [],
   "source": [
    "# Matched Dataset (MD)\n",
    "beers_MD, breweries_MD, users_MD, users_approx_MD, ratings_MD = load_data(\"MD\")"
   ]
  },
  {
   "cell_type": "markdown",
   "metadata": {},
   "source": [
    "### Describe dataframes content for BeerAdvocate and RateBeer\n",
    "The description of the dataframes may be lacking details. The datasets are not documentated therefore some fields are somehow difficult to interpret/understand. Those uncertain fields are dropped, we don't want to work with data we do not understand"
   ]
  },
  {
   "cell_type": "markdown",
   "metadata": {},
   "source": [
    "##### Beers"
   ]
  },
  {
   "cell_type": "markdown",
   "metadata": {},
   "source": [
    "| Field (Clear)                  | Description                                       | Dataset |\n",
    "|--------------------------------|---------------------------------------------------|---------|\n",
    "| beer_id                        | Unique integer key for beer                       |  BOTH   |\n",
    "| brewery_id                     | Unique integer key for brewery                    |  BOTH   |\n",
    "| style                          | Type of beer                                      |  BOTH   |\n",
    "| nbr_ratings                    | Number of ratings about the beer                  |  BOTH   |\n",
    "| nbr_reviews                    | Number of reviews about the beer                  |   BA    |\n",
    "| abv                            | Alcohol by volume in percentile                   |  BOTH   |\n",
    "| **Field (Unclear)**            | **Hypothesis**                                    |  **-**  |\n",
    "| avg                            | avg overall-score across rating ?                 |  BOTH   |\n",
    "| avg_computed                   | avg overall-score across rating ?                 |  BOTH   |\n",
    "| ba_score                       | We don't know how it's computed                   |  BA     |\n",
    "| bros_score                     | We don't know how it's computed                   |  BA     |\n",
    "| overall_score                  | We don't know how it's computed                   |  RB     |\n",
    "| style_score                    | We don't know how it's computed                   |  RB     |\n",
    "| zscore                         | We don't know how it's computed                   |  BOTH   |\n",
    "| nbr_matched_valid_ratings      | Related to matched dataset                        |  BOTH   |\n",
    "| avg_matched_valid_ratings      | Related to matched dataset                        |  BOTH   |"
   ]
  },
  {
   "cell_type": "markdown",
   "metadata": {},
   "source": [
    "##### Breweries"
   ]
  },
  {
   "cell_type": "markdown",
   "metadata": {},
   "source": [
    "| Field (Clear)                  | Description                                       | Dataset |\n",
    "|--------------------------------|---------------------------------------------------|---------|\n",
    "| id                             | Unique integer key for brewery                    |  BOTH   |\n",
    "| location                       | Country (+ State) of the brewery                  |  BOTH   |\n",
    "| name                           | Name of the brewery                               |  BOTH   |\n",
    "| nbr_beers                      | Number of different beers the brewery produces    |  BOTH   |"
   ]
  },
  {
   "cell_type": "markdown",
   "metadata": {},
   "source": [
    "##### Users"
   ]
  },
  {
   "cell_type": "markdown",
   "metadata": {},
   "source": [
    "| Field (Clear)                  | Description                                       | Dataset |\n",
    "|--------------------------------|---------------------------------------------------|---------|\n",
    "| user_id                        | Unique integer key corresponding to a user        |  BOTH   |\n",
    "| user_name                      | Pseudonym of the user                             |  BOTH   |\n",
    "| location                       | Location of the user (country or country+state)   |  BOTH   |\n",
    "| nbr_ratings                    | Number of ratings made by the user                |  BOTH   |\n",
    "| nbr_reviews                    | Number of reviews written by the user             |  BA     |\n",
    "| **Field (Unclear)**            | **Hypothesis**                                    |  **-**  |\n",
    "| joined                         | Related to matched dataset                        |  BOTH   |"
   ]
  },
  {
   "cell_type": "markdown",
   "metadata": {},
   "source": [
    "##### Ratings"
   ]
  },
  {
   "cell_type": "markdown",
   "metadata": {},
   "source": [
    "| Field (Clear)                  | Description                                       | Dataset |\n",
    "|--------------------------------|---------------------------------------------------|---------|\n",
    "| beer_name                      | Name of the beer                                  |  BOTH   |\n",
    "| beer_id                        | Unique integer key corresponding to a beer        |  BOTH   |\n",
    "| brewery_name                   | Name of the brewery                               |  BOTH   |\n",
    "| brewery_id                     | Unique integer key corresponding to a brewery     |  BOTH   |\n",
    "| user_id                        | Unique integer key corresponding to a user        |  BOTH   |\n",
    "| user_name                      | Pseudonym of the user                             |  BOTH   |\n",
    "| style                          | Style of the beer                                 |  BOTH   |\n",
    "| abv                            | Alcohol by volume in percentile                   |  BOTH   |\n",
    "| date                           | Timestamp of the review in seconds                |  BOTH   |\n",
    "| appearance                     | Appearance score by the user                      |  BOTH   |\n",
    "| aroma                          | Aroma score by the user                           |  BOTH   |\n",
    "| palate                         | Palate score by the user                          |  BOTH   |\n",
    "| taste                          | Taste score by the user                           |  BOTH   |\n",
    "| overall                        | Overall score by the user                         |  BOTH   |\n",
    "| rating                         | Unclear (Please provide more information)         |  BOTH   |\n",
    "| text                           | Text review by the user                           |  BOTH   |\n",
    "| review                         | True if there is a text review, False otherwise   |  BA     |"
   ]
  },
  {
   "cell_type": "markdown",
   "id": "4ac45c9c",
   "metadata": {},
   "source": [
    "### Populate and merge data from BA and RB"
   ]
  },
  {
   "cell_type": "code",
   "execution_count": null,
   "id": "71b4a5f6",
   "metadata": {},
   "outputs": [],
   "source": [
    "# Require extensive amount of RAM (>20Gb)\n",
    "do_populate_merge = False\n",
    "if do_populate_merge:\n",
    "    \n",
    "    # Populate ratings with info from users, breweries and beers\n",
    "    ratings_populated_BA = populate_ratings(ratings_BA, users_BA, breweries_BA, beers_BA, \"BA\")\n",
    "    ratings_populated_RB = populate_ratings(ratings_RB, users_RB, breweries_RB, beers_RB, \"RB\")\n",
    "\n",
    "    # Merge populated ratings\n",
    "    merged_ratings_path = \"./data/ratings_BA_RB.csv\"\n",
    "    ratings_mixed = merge_populated_ratings(ratings_populated_BA, ratings_populated_RB, merged_ratings_path)\n",
    "\n",
    "    # Save subsample of rating (easier to handle on laptops)\n",
    "    merged_ratings_sample_path = \"./data/ratings_BA_RB_sample.csv\"\n",
    "    save_subsample(dataframe=ratings_mixed, save_path = merged_ratings_sample_path, frac=0.1, random_state=0)"
   ]
  },
  {
   "cell_type": "markdown",
   "id": "dc626ba4",
   "metadata": {},
   "source": [
    "### Load populated merged ratings"
   ]
  },
  {
   "cell_type": "code",
   "execution_count": null,
   "id": "6bb59e39",
   "metadata": {},
   "outputs": [],
   "source": [
    "# ratings_mixed = pd.read_table(\"./data/ratings_BA_RB.csv\", sep=\",\")\n",
    "ratings_mixed_sample = pd.read_table(\"./data/ratings_BA_RB_sample.csv\", sep=\",\")"
   ]
  },
  {
   "cell_type": "markdown",
   "id": "0f9b4551",
   "metadata": {},
   "source": [
    "## Analysis"
   ]
  },
  {
   "cell_type": "markdown",
   "id": "444148d5",
   "metadata": {},
   "source": [
    "### Linear regression on subset of reviews\n",
    "Function that takes a subset of ratings and columns of interest as input and returns a Linear Regresion results"
   ]
  },
  {
   "cell_type": "code",
   "execution_count": null,
   "id": "d39340c4",
   "metadata": {},
   "outputs": [],
   "source": [
    "def get_LR(data, columns):\n",
    "    # create formula and normalize data\n",
    "    columns=list(columns)\n",
    "    formula = 'rating ~ ' + columns[0]\n",
    "    columns.append('rating')  # add rating for the linear regression\n",
    "    for idx, el in enumerate(columns):\n",
    "        if len(columns) - 1 > idx > 0:  # add feature to formula\n",
    "            formula += ' + ' + el\n",
    "        data[el] = (data[el] - data[el].mean())/data[el].std()  # standardization\n",
    "\n",
    "    data_to_process = data[columns].dropna().sample(frac=1)  # create a subset with the columns of interest and shuffle it\n",
    "    \n",
    "    # create the model and fit it to the dataset\n",
    "    mod = smf.ols(formula=formula, data=data_to_process)\n",
    "    np.random.seed(2)\n",
    "    res = mod.fit()\n",
    "    return res"
   ]
  },
  {
   "cell_type": "markdown",
   "id": "8d36558f",
   "metadata": {},
   "source": [
    "### Linear regression on the full set"
   ]
  },
  {
   "cell_type": "code",
   "execution_count": null,
   "id": "fc62e069",
   "metadata": {},
   "outputs": [],
   "source": [
    "print('Initial columns:\\n', ratings_mixed_sample.columns)\n",
    "columns_of_interest = [\"appearance\",  \"aroma\",  \"palate\",  \"taste\",  \"overall\"]\n",
    "print('\\n==============\\n')\n",
    "print('Chosen columns for linear regression are :\\n', columns_of_interest)\n",
    "res = get_LR(ratings_mixed_sample, columns_of_interest)\n",
    "\n",
    "print('\\n==============\\n')\n",
    "print('Results of the linear regression:\\n')\n",
    "print(res.summary())"
   ]
  },
  {
   "cell_type": "code",
   "execution_count": null,
   "id": "592978ac",
   "metadata": {},
   "outputs": [],
   "source": [
    "print('Let\\' now sort the coefficients by absolute impact on the rating:')\n",
    "print(pd.DataFrame(res.params).sort_values(0, ascending=False, key=abs).to_string(index=True, header=False))"
   ]
  },
  {
   "cell_type": "markdown",
   "id": "36c7f017",
   "metadata": {},
   "source": [
    "Params statistics user_location-wise"
   ]
  },
  {
   "cell_type": "code",
   "execution_count": null,
   "id": "328ac435",
   "metadata": {},
   "outputs": [],
   "source": [
    "# Keep only reviews where user_location has at least 1000 reviews (Arbitrary)\n",
    "ratings_mixed_1000 = ratings_mixed_sample[ratings_mixed_sample.groupby('user_location')['user_location'].transform('size') > 1000]\n",
    "countries = ratings_mixed_1000.user_location.unique()\n",
    "param_df = res.params.copy()\n",
    "\n",
    "# Analysis of LR parameters among countries\n",
    "for country in countries:\n",
    "    country_df = ratings_mixed_1000.loc[ratings_mixed_1000['user_location']==country]\n",
    "    res = get_LR(country_df, columns_of_interest)\n",
    "    param_df = pd.concat((param_df, res.params.copy()), axis=1)\n",
    "\n",
    "# Params per country\n",
    "param_df.T.describe()"
   ]
  },
  {
   "cell_type": "markdown",
   "id": "22be827b",
   "metadata": {},
   "source": [
    "### Results\n",
    "From what we can see of this preliminary analysis, some features are having almost 3 times the influence of others on the rating.\n",
    "Moreover, the R-squared of the fitted model is **0.796** which means that the regression explains roughly 80% of the variation in the variables which is indicating that this simple model alreay fit quite well the data. In the future of this project, we plan to try more complex architectures in order to get the most accurate representation of the impact of each variable.\n",
    "\n",
    "Let now see if this influence stays constant geographically.."
   ]
  },
  {
   "cell_type": "markdown",
   "id": "a334a4fa",
   "metadata": {},
   "source": [
    "### Number of review per day using rolling average"
   ]
  },
  {
   "cell_type": "code",
   "execution_count": null,
   "id": "48f462d3",
   "metadata": {
    "scrolled": true
   },
   "outputs": [],
   "source": [
    "\n",
    "# Assuming the file is named 'beer_ratings.csv' and is located in the same directory as your script.\n",
    "# Read the CSV file\n",
    "MD_NR_RW_DAY=ratings_mixed_sample\n",
    "# Convert the Unix time to a datetime object, assuming the 'date' column is Unix time in seconds\n",
    "MD_NR_RW_DAY['date'] = pd.to_datetime(MD_NR_RW_DAY['date'], unit='s')\n",
    "\n",
    "# Filter out dates to ensure we only have one year of data, if necessary\n",
    "start_date = \"2015-01-1\"  # start date in the example given (20th August 2015)\n",
    "end_date = \"2016-01-1\"    # end date, one year later\n",
    "MD_NR_RW_DAY_WW = MD_NR_RW_DAY[(MD_NR_RW_DAY['date'] >= start_date) & (MD_NR_RW_DAY['date'] <= end_date)]\n"
   ]
  },
  {
   "cell_type": "code",
   "execution_count": null,
   "id": "6abe9278-a59a-4497-84d1-23379d124fdc",
   "metadata": {},
   "outputs": [],
   "source": [
    "# Group by the date and count the reviews\n",
    "def plot_rolling(df, window=7):\n",
    "    daily_reviews = df.groupby(df['date'].dt.date).size()\n",
    "    # Calculate the moving average with a window size of 7 to remove weeks days\n",
    "    rolling = daily_reviews.rolling(window=window, center=True)\n",
    "    rolling_average = rolling.mean()\n",
    "    \n",
    "    # Plot the rolling average\n",
    "    plt.figure(figsize=(14, 7))\n",
    "    rolling_average.plot(title=f\"Number of Reviews Per Day Over One Year with rolling window of {window} days\")\n",
    "    \n",
    "    # Add labels and grid\n",
    "    plt.xlabel('Date')\n",
    "    plt.ylabel('Number of Reviews')\n",
    "    plt.grid(True)\n",
    "    plt.show()\n",
    "plot_rolling(MD_NR_RW_DAY_WW)"
   ]
  },
  {
   "cell_type": "markdown",
   "metadata": {},
   "source": [
    "### Limiting to german beers"
   ]
  },
  {
   "cell_type": "code",
   "execution_count": null,
   "id": "652fc498-d51e-415e-a063-1cf9131d6ba0",
   "metadata": {},
   "outputs": [],
   "source": [
    "german_beers= ratings_mixed_sample[ratings_mixed_sample[\"brewery_location\"]=='Germany'].copy()\n",
    "german_beers['date'] = pd.to_datetime(german_beers['date'], unit='s')\n",
    "\n",
    "# Filter out dates to ensure we only have one year of data, if necessary\n",
    "start_date = \"2015-01-1\"  # start date in the example given (20th August 2015)\n",
    "end_date = \"2016-01-1\"    # end date, one year later\n",
    "\n",
    "german_beers_WW = german_beers[(german_beers['date'] >= start_date) & (german_beers['date'] <= end_date)]\n",
    "plot_rolling(german_beers_WW)"
   ]
  },
  {
   "cell_type": "markdown",
   "metadata": {},
   "source": [
    "### Limiting to german beers and users"
   ]
  },
  {
   "cell_type": "code",
   "execution_count": null,
   "id": "8716fdcf-4e37-456d-8f28-2c93fe4f19ef",
   "metadata": {},
   "outputs": [],
   "source": [
    "german_users= ratings_mixed_sample[(ratings_mixed_sample[\"brewery_location\"]=='Germany') & (ratings_mixed_sample[\"user_location\"]=='Germany')].copy()\n",
    "\n",
    "# Filter out dates to ensure we only have one year of data, if necessary\n",
    "start_date = \"2015-01-1\"  # start date in the example given (20th August 2015)\n",
    "end_date = \"2016-01-1\"    # end date, one year later\n",
    "\n",
    "german_users_WW = german_users[(german_users['date'] >= start_date) & (german_users['date'] <= end_date)]\n",
    "plot_rolling(german_users_WW, 7)"
   ]
  },
  {
   "cell_type": "code",
   "execution_count": null,
   "id": "0de5ab19-11af-4559-95f5-41bad8938354",
   "metadata": {},
   "outputs": [],
   "source": []
  },
  {
   "cell_type": "markdown",
   "id": "6f44925d",
   "metadata": {},
   "source": [
    "### Alcohol by volume evolution in a mean year by country of user"
   ]
  },
  {
   "cell_type": "code",
   "execution_count": null,
   "id": "a346374c",
   "metadata": {},
   "outputs": [],
   "source": [
    "alcohol_reviews = ratings_mixed_sample[['date','user_location','abv']]\n",
    "alcohol_reviews = alcohol_reviews.dropna()\n",
    "\n",
    "alcohol_reviews.loc[:,'date'] = alcohol_reviews[['date']].apply(lambda x: pd.to_datetime(x, unit='s'))\n",
    "alcohol_reviews.loc[:,'time'] = alcohol_reviews.loc[:,'date'].apply(lambda x: x.year)\n",
    "alcohol_reviews = alcohol_reviews.drop(columns = \"date\")\n",
    "alcohol_reviews = alcohol_reviews[alcohol_reviews.groupby('user_location')['user_location'].transform('size') > 50000]\n",
    "alcohol_reviews"
   ]
  },
  {
   "cell_type": "code",
   "execution_count": null,
   "id": "71e1621c-46b9-4c61-a4ca-e5cff5ffc26e",
   "metadata": {},
   "outputs": [],
   "source": [
    "mean_abv = alcohol_reviews.groupby([\"user_location\", \"time\"]).var().reset_index()\n",
    "\n",
    "# Create a plot with multiple lines and legend\n",
    "plt.figure(figsize=(10, 6))\n",
    "\n",
    "for location in mean_abv[\"user_location\"].unique():\n",
    "    location_data = mean_abv[mean_abv[\"user_location\"] == location]\n",
    "    plt.plot(location_data[\"time\"], location_data[\"abv\"], label=location)\n",
    "\n",
    "plt.xlabel(\"Time\")\n",
    "plt.ylabel(\"ABV\")\n",
    "plt.ylim([0, 15])\n",
    "plt.legend(loc=\"upper right\")\n",
    "plt.title(\"ABV vs Time for Different User Locations\")\n",
    "plt.grid(True)\n",
    "plt.show()"
   ]
  },
  {
   "cell_type": "code",
   "execution_count": null,
   "id": "52a295da-f8a5-43bc-aca3-139916537e8d",
   "metadata": {
    "scrolled": true
   },
   "outputs": [],
   "source": [
    "mean_abv = alcohol_reviews.groupby([\"user_location\", \"time\"]).var().reset_index()\n",
    "mean_abv.groupby(\"user_location\").plot(x=\"time\", y='abv', kind='line', ylim=[0, 15], subplots=True, sharex=False, sharey=True, layout= (1, -1), stacked=True, use_index=True)"
   ]
  },
  {
   "cell_type": "code",
   "execution_count": null,
   "id": "a062de40-3766-493f-b460-2ce051635360",
   "metadata": {},
   "outputs": [],
   "source": [
    "alcohol_reviews_global = alcohol_reviews.drop(columns='user_location')\n",
    "mean_abv = alcohol_reviews_global.groupby([\"time\"]).var().reset_index()\n",
    "mean_abv.plot(x=\"time\", y='abv', kind='line', ylim=[0, 15])"
   ]
  },
  {
   "cell_type": "code",
   "execution_count": null,
   "id": "5e0966c0-7959-43b1-ba7e-0fda3c16083c",
   "metadata": {},
   "outputs": [],
   "source": [
    "mean_abv = alcohol_reviews.groupby([\"time\"]).median().reset_index()\n",
    "mean_abv.plot(x=\"time\", y='abv', kind='line', ylim=[0, 15] )"
   ]
  },
  {
   "cell_type": "code",
   "execution_count": null,
   "id": "c9a0d101-880a-4ba7-bc1f-85ffde4d5b79",
   "metadata": {},
   "outputs": [],
   "source": [
    "mean_abv = alcohol_reviews.groupby([\"time\"]).std().reset_index()\n",
    "mean_abv.plot(x=\"time\", y='abv', kind='line', ylim=[0, 15] )"
   ]
  },
  {
   "cell_type": "markdown",
   "id": "e385df3f",
   "metadata": {},
   "source": [
    "### Test of Bens idea 2.2"
   ]
  },
  {
   "cell_type": "code",
   "execution_count": null,
   "id": "1bd7502a-adbe-4111-bcd5-9d1182c92dae",
   "metadata": {},
   "outputs": [],
   "source": [
    "import pandas as pd\n",
    "import seaborn as sns\n",
    "import matplotlib.pyplot as plt\n",
    "\n",
    "# Assuming you have pandas DataFrames: ratings_BA, breweries_BA\n",
    "\n",
    "# 1. Calculate average ratings per brewery in ratings_BA\n",
    "avg_ratings = ratings_BA.groupby('brewery_id')['rating'].mean().reset_index()\n",
    "avg_ratings.rename(columns={'rating': 'average_rating'}, inplace=True)\n",
    "\n",
    "# 2. Rename columns in breweries_BA and filter out breweries with more than 200 beers\n",
    "breweries_BA.rename(columns={'id': 'brewery_id', 'nbr_beers': 'beer_count'}, inplace=True)\n",
    "filtered_breweries = breweries_BA[breweries_BA['beer_count'] <= 200]\n",
    "\n",
    "# 3. Analysis: Merge the dataframes for plotting\n",
    "analysis_df = pd.merge(avg_ratings, filtered_breweries[['brewery_id', 'beer_count']], on='brewery_id')\n",
    "\n",
    "# Create a line plot with a 95% confidence interval\n",
    "sns.lineplot(data=analysis_df, x='beer_count', y='average_rating', errorbar=('ci', 95))\n",
    "\n",
    "plt.xlabel('Number of Beers Produced (up to 200)')\n",
    "plt.ylabel('Average Rating')\n",
    "plt.title('Relationship between Number of Beers and Average Ratings')\n",
    "plt.show()\n"
   ]
  },
  {
   "cell_type": "markdown",
   "id": "965c004b",
   "metadata": {},
   "source": [
    "## Reviews and Trustworthiness of Users"
   ]
  },
  {
   "cell_type": "code",
   "execution_count": null,
   "id": "e7e97c9f",
   "metadata": {},
   "outputs": [],
   "source": [
    "print(ratings_mixed_sample.shape)\n",
    "print(ratings_mixed_sample[\"user_id\"].nunique())"
   ]
  },
  {
   "cell_type": "markdown",
   "id": "64d522ad",
   "metadata": {},
   "source": [
    "Very likely that the same user has rated multiple beers"
   ]
  },
  {
   "cell_type": "code",
   "execution_count": null,
   "id": "fd39b2be",
   "metadata": {},
   "outputs": [],
   "source": [
    "ratings_mixed_sample[\"text\"] = ratings_mixed_sample['text'].astype(str)\n",
    "user_review={}\n",
    "grouped = ratings_mixed_sample.groupby(\"user_id\")\n",
    "\n",
    "for user, group in tqdm(grouped, total=grouped.ngroups):\n",
    "    number = group.shape[0]\n",
    "    average_rating = group[\"rating\"].mean()\n",
    "    average_review_length = group[\"text\"].str.len().mean()\n",
    "\n",
    "    user_review[user] = [number, average_rating, average_review_length]\n",
    "\n",
    "\n",
    "sorted_user_review = sorted(user_review.items(), key=lambda item: item[1][0], reverse=True)  \n",
    "# if your python version is < 3.7, please notice that the dictionary is not ordered\n",
    "user_review = {user: values for user, values in sorted_user_review}"
   ]
  },
  {
   "cell_type": "code",
   "execution_count": null,
   "id": "9c9a6618",
   "metadata": {},
   "outputs": [],
   "source": [
    "number_review = [user_review[user][0] for user in user_review]  # Number of Reviews\n",
    "avg_review_len = [user_review[user][2] for user in user_review]  # Average Review Length\n",
    "avg_rating=[user_review[user][1] for user in user_review] # Average Rating\n",
    "\n",
    "fig,axs=plt.subplots(1,2,figsize=(10,5))\n",
    "plt.tight_layout()\n",
    "\n",
    "axs[0].scatter(number_review, avg_review_len, label='Data Points')\n",
    "axs[0].set_xlabel('Number of Reviews')\n",
    "axs[0].set_ylabel('Average Review Length')\n",
    "axs[0].set_title('Average Review Length vs Number of Reviews')\n",
    "axs[1].scatter(number_review, avg_rating, label='Data Points')\n",
    "axs[1].set_xlabel('Number of Reviews')\n",
    "axs[1].set_ylabel('Average Rating')\n",
    "axs[1].set_title('Average Rating vs Number of Reviews')"
   ]
  },
  {
   "cell_type": "markdown",
   "id": "43f91ea2",
   "metadata": {},
   "source": [
    "Then, what we should do in the future is how to give a \"trust\" score to a user based on the analysis of his/her data"
   ]
  }
 ],
 "metadata": {
  "kernelspec": {
   "display_name": "Python 3 (ipykernel)",
   "language": "python",
   "name": "python3"
  },
  "language_info": {
   "codemirror_mode": {
    "name": "ipython",
    "version": 3
   },
   "file_extension": ".py",
   "mimetype": "text/x-python",
   "name": "python",
   "nbconvert_exporter": "python",
   "pygments_lexer": "ipython3",
   "version": "3.11.5"
  }
 },
 "nbformat": 4,
 "nbformat_minor": 5
}
