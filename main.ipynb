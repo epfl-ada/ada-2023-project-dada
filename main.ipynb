{
 "cells": [
  {
   "cell_type": "markdown",
   "id": "48f27a77-232a-4a18-9d9b-a521bb721674",
   "metadata": {},
   "source": [
    "# ADA Project : Milestone 2"
   ]
  },
  {
   "cell_type": "markdown",
   "id": "a249f1ba-bf43-4feb-abb1-c9f528eba81b",
   "metadata": {},
   "source": [
    "## Imports and Data"
   ]
  },
  {
   "cell_type": "code",
   "execution_count": 1,
   "id": "d354a809-3775-419b-8e1f-a15e9d00e21e",
   "metadata": {
    "tags": []
   },
   "outputs": [],
   "source": [
    "import pandas as pd\n",
    "import datetime as dt\n",
    "import matplotlib.pyplot as plt\n",
    "import seaborn as sn"
   ]
  },
  {
   "cell_type": "code",
   "execution_count": 2,
   "id": "9708f392-044f-490a-9310-b443752ed092",
   "metadata": {},
   "outputs": [],
   "source": [
    "# Data from RateBeer 'RB'\n",
    "beers_RB = pd.read_table(\"./data/RateBeer/beers.csv\", sep=\",\")\n",
    "breweries_RB = pd.read_table(\"./data/RateBeer/breweries.csv\", sep=\",\")\n",
    "users_RB = pd.read_table(\"./data/RateBeer/users.csv\", sep=\",\")\n",
    "ratings_RB = pd.read_table(\"./data/RateBeer/ratings.csv\", sep=\",\")"
   ]
  },
  {
   "cell_type": "code",
   "execution_count": null,
   "id": "24054be1-600d-4407-8614-aba1657d2158",
   "metadata": {},
   "outputs": [],
   "source": [
    "# Data from BeerAdvocate 'BA'\n",
    "beers_BA = pd.read_table(\"./data/BeerAdvocate/beers.csv\", sep=\",\")\n",
    "breweries_BA = pd.read_table(\"./data/BeerAdvocate/breweries.csv\", sep=\",\")\n",
    "users_BA = pd.read_table(\"./data/BeerAdvocate/users.csv\", sep=\",\")\n",
    "ratings_BA = pd.read_table(\"./data/BeerAdvocate/ratings.csv\", sep=\",\")"
   ]
  },
  {
   "cell_type": "code",
   "execution_count": null,
   "id": "f0c4b229-3813-423f-b926-999ca32ee00a",
   "metadata": {},
   "outputs": [],
   "source": [
    "# Data from MixedDataset 'MD'\n",
    "beers_MD = pd.read_table(\"./data/matched_beaer_data/beers.csv\", sep=\",\")\n",
    "breweries_MD = pd.read_table(\"./data/matched_beer_data/breweries.csv\", sep=\",\")\n",
    "users_MD = pd.read_table(\"./data/matched_beer_data/users.csv\", sep=\",\")\n",
    "users_approx_MD = pd.read_table(\"./data/matched_beer_data/users_approx.csv\", sep=\",\")\n",
    "ratings_MD = pd.read_table(\"./data/matched_beer_data/ratings.csv\", sep=\",\")"
   ]
  },
  {
   "cell_type": "markdown",
   "id": "17b66332",
   "metadata": {},
   "source": [
    "## Seasonal analysis of the number of reviews per type of beer"
   ]
  },
  {
   "cell_type": "code",
   "execution_count": null,
   "id": "8fb47d4e",
   "metadata": {},
   "outputs": [],
   "source": [
    "import datetime as dt\n",
    "\n",
    "# create sub_dataframe with type of beer and date\n",
    "df_count_type_season = df[['type','date']].dropna()\n",
    "\n",
    "# create extra column with the day in year corresponding to the date\n",
    "df_count_type_season['day_of_year'] = df_count_type_season['date'].dt.dayofyear\n",
    "\n",
    "num_bins = 10\n",
    "bins = 365/num_bins * np.range(1, num_bins + 1)\n",
    "groups = df.groupby(['type', pd.cut(df.day_of_year, bins)])\n",
    "print(groups.size().unstack())\n",
    "groups.plot(type='line')\n",
    "\n",
    "exit()\n",
    "\n",
    "# for loop on the different type of beer\n",
    "types = pd.unique(df_count_type_season['type'])\n",
    "\n",
    "plt.figure(figsize=(5,5))\n",
    "for beertype in types:\n",
    "    df_count = df_count_type_season[df_count_type_season['type'] == beertype][day_of_year].group_by('day_of_year').count()\n",
    "    print(df_count.iloc[:5])\n",
    "    \n",
    "    # count per day (or broader bins)\n",
    "    # plot"
   ]
  },
  {
   "cell_type": "markdown",
   "id": "a334a4fa",
   "metadata": {},
   "source": [
    "## Analysis 2"
   ]
  },
  {
   "cell_type": "code",
   "execution_count": null,
   "id": "48f462d3",
   "metadata": {},
   "outputs": [],
   "source": []
  },
  {
   "cell_type": "markdown",
   "id": "6f44925d",
   "metadata": {},
   "source": [
    "## Analysis 3"
   ]
  },
  {
   "cell_type": "code",
   "execution_count": null,
   "id": "a346374c",
   "metadata": {},
   "outputs": [],
   "source": []
  },
  {
   "cell_type": "markdown",
   "id": "e385df3f",
   "metadata": {},
   "source": [
    "## Analysis 4"
   ]
  },
  {
   "cell_type": "code",
   "execution_count": null,
   "id": "bc9a76cb",
   "metadata": {},
   "outputs": [],
   "source": []
  }
 ],
 "metadata": {
  "kernelspec": {
   "display_name": "Python 3 (ipykernel)",
   "language": "python",
   "name": "python3"
  },
  "language_info": {
   "codemirror_mode": {
    "name": "ipython",
    "version": 3
   },
   "file_extension": ".py",
   "mimetype": "text/x-python",
   "name": "python",
   "nbconvert_exporter": "python",
   "pygments_lexer": "ipython3",
   "version": "3.11.5"
  }
 },
 "nbformat": 4,
 "nbformat_minor": 5
}
