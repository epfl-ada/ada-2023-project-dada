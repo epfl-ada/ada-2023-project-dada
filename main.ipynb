{
 "cells": [
  {
   "cell_type": "markdown",
   "id": "48f27a77-232a-4a18-9d9b-a521bb721674",
   "metadata": {},
   "source": [
    "# ADA Project : Milestone 2"
   ]
  },
  {
   "cell_type": "markdown",
   "id": "4c8b6432",
   "metadata": {},
   "source": [
    "## Preparation"
   ]
  },
  {
   "cell_type": "code",
   "execution_count": 9,
   "id": "d354a809-3775-419b-8e1f-a15e9d00e21e",
   "metadata": {
    "tags": []
   },
   "outputs": [],
   "source": [
    "import pandas as pd\n",
    "import numpy as np\n",
    "import datetime as dt\n",
    "import matplotlib.pyplot as plt\n",
    "import seaborn as sn\n",
    "import statsmodels.api as sm\n",
    "import statsmodels.formula.api as smf\n",
    "from utils import *"
   ]
  },
  {
   "cell_type": "markdown",
   "id": "d07585f1",
   "metadata": {},
   "source": [
    "### Conversion : txt to csv"
   ]
  },
  {
   "cell_type": "code",
   "execution_count": null,
   "id": "c393a162",
   "metadata": {},
   "outputs": [],
   "source": [
    "# Require extensive amount of RAM (a bit less than 32Gb)\n",
    "do_conversion = False\n",
    "if do_conversion:\n",
    "    ratings_text_to_csv(\"./data/BeerAdvocate/ratings.txt\")\n",
    "    ratings_text_to_csv(\"./data/RateBeer/ratings.txt\")"
   ]
  },
  {
   "cell_type": "markdown",
   "id": "d946a8fe",
   "metadata": {},
   "source": [
    "### Load data"
   ]
  },
  {
   "cell_type": "code",
   "execution_count": 2,
   "id": "c3882cfb",
   "metadata": {},
   "outputs": [],
   "source": [
    "# BeerAdvocate (BA)\n",
    "beers_BA, breweries_BA, users_BA, ratings_BA = load_data(\"BA\")"
   ]
  },
  {
   "cell_type": "code",
   "execution_count": 3,
   "id": "3989b59f",
   "metadata": {},
   "outputs": [],
   "source": [
    "# RateBeer (RB)\n",
    "beers_RB, breweries_RB, users_RB, ratings_RB = load_data(\"RB\")"
   ]
  },
  {
   "cell_type": "code",
   "execution_count": null,
   "id": "9708f392-044f-490a-9310-b443752ed092",
   "metadata": {},
   "outputs": [],
   "source": [
    "# Matched Dataset (MD)\n",
    "beers_MD, breweries_MD, users_MD, users_approx_MD, ratings_MD = load_data(\"MD\")"
   ]
  },
  {
   "cell_type": "markdown",
   "id": "4ac45c9c",
   "metadata": {},
   "source": [
    "### Populate and merge data from BA and RB"
   ]
  },
  {
   "cell_type": "code",
   "execution_count": 4,
   "id": "71b4a5f6",
   "metadata": {},
   "outputs": [],
   "source": [
    "# Require extensive amount of RAM (>20Gb)\n",
    "do_populate_merge = False\n",
    "if do_populate_merge:\n",
    "    \n",
    "    # Populate ratings with info from users, breweries and beers\n",
    "    ratings_populated_BA = populate_ratings(ratings_BA, users_BA, breweries_BA, beers_BA, \"BA\")\n",
    "    ratings_populated_RB = populate_ratings(ratings_RB, users_RB, breweries_RB, beers_RB, \"RB\")\n",
    "\n",
    "    # Merge populated ratings\n",
    "    merged_ratings_path = \"./data/ratings_BA_RB.csv\"\n",
    "    ratings_mixed = merge_populated_ratings(ratings_populated_BA, ratings_populated_RB, merged_ratings_path)\n",
    "\n",
    "    # Save subsample of rating (easier to handle on laptops)\n",
    "    merged_ratings_sample_path = \"./data/ratings_BA_RB_sample.csv\"\n",
    "    save_subsample(dataframe=ratings_mixed, save_path = merged_ratings_sample_path, frac=0.1, random_state=0)"
   ]
  },
  {
   "cell_type": "markdown",
   "id": "dc626ba4",
   "metadata": {},
   "source": [
    "### Load populated merged ratings"
   ]
  },
  {
   "cell_type": "code",
   "execution_count": 5,
   "id": "6bb59e39",
   "metadata": {},
   "outputs": [],
   "source": [
    "# ratings_mixed = pd.read_table(\"./data/ratings_BAm_RBm.csv\", sep=\",\")\n",
    "ratings_mixed_sample = pd.read_table(\"./data/ratings_BA_RB_sample.csv\", sep=\",\")"
   ]
  },
  {
   "cell_type": "markdown",
   "id": "0f9b4551",
   "metadata": {},
   "source": [
    "## Analysis"
   ]
  },
  {
   "cell_type": "markdown",
   "id": "17036ecc",
   "metadata": {},
   "source": [
    "### Linear regression on subset of reviews\n",
    "Function that takes a subset of ratings and columns of interest as input and returns a Linear Regresion results"
   ]
  },
  {
   "cell_type": "code",
   "execution_count": 49,
   "id": "f2e3a6ec",
   "metadata": {},
   "outputs": [],
   "source": [
    "def get_LR(data, columns):\n",
    "    columns.append('rating')\n",
    "    data_to_process = data[columns].dropna().sample(frac=1)\n",
    "    formula = 'rating ~ ' + columns[0]\n",
    "    for el in columns[1::]:\n",
    "        formula += ' + ' + el\n",
    "    print(formula)\n",
    "    mod = smf.ols(formula='rating ~ aroma + palate + taste + overall', data=data_to_process)\n",
    "    np.random.seed(2)\n",
    "    res = mod.fit()\n",
    "    return res"
   ]
  },
  {
   "cell_type": "markdown",
   "id": "4bb54cec",
   "metadata": {},
   "source": [
    "### Linear regression on the full set"
   ]
  },
  {
   "cell_type": "code",
   "execution_count": 50,
   "id": "2cc25905",
   "metadata": {},
   "outputs": [
    {
     "name": "stdout",
     "output_type": "stream",
     "text": [
      "Initial columns:\n",
      " Index(['beer_name', 'beer_id', 'style', 'abv', 'nbr_ratings', 'nbr_reviews',\n",
      "       'avg', 'ba_score', 'bros_score', 'avg_computed', 'zscore',\n",
      "       'overall_score', 'style_score', 'nbr_matched_valid_ratings',\n",
      "       'avg_matched_valid_ratings', 'joined', 'brewery_name', 'brewery_id',\n",
      "       'brewery_location', 'nbr_beers', 'date', 'user_name', 'user_id',\n",
      "       'user_location', 'appearance', 'aroma', 'palate', 'taste', 'overall',\n",
      "       'rating', 'text', 'review', 'dataset'],\n",
      "      dtype='object')\n",
      "\n",
      "==============\n",
      "\n",
      "Chosen columns for linear regression are :\n",
      " ['appearance', 'aroma', 'palate', 'taste', 'overall']\n",
      "rating ~ appearance + aroma + palate + taste + overall + rating\n",
      "\n",
      "==============\n",
      "\n",
      "Results of the linear regression:\n",
      "\n",
      "                            OLS Regression Results                            \n",
      "==============================================================================\n",
      "Dep. Variable:                 rating   R-squared:                       0.762\n",
      "Model:                            OLS   Adj. R-squared:                  0.762\n",
      "Method:                 Least Squares   F-statistic:                 9.499e+05\n",
      "Date:                Thu, 16 Nov 2023   Prob (F-statistic):               0.00\n",
      "Time:                        21:11:37   Log-Likelihood:            -4.2504e+05\n",
      "No. Observations:             1189853   AIC:                         8.501e+05\n",
      "Df Residuals:                 1189848   BIC:                         8.501e+05\n",
      "Df Model:                           4                                         \n",
      "Covariance Type:            nonrobust                                         \n",
      "==============================================================================\n",
      "                 coef    std err          t      P>|t|      [0.025      0.975]\n",
      "------------------------------------------------------------------------------\n",
      "Intercept      0.5262      0.002    312.447      0.000       0.523       0.529\n",
      "aroma          0.1480      0.000    341.361      0.000       0.147       0.149\n",
      "palate         0.5789      0.000   1208.142      0.000       0.578       0.580\n",
      "taste          0.2194      0.001    406.255      0.000       0.218       0.220\n",
      "overall       -0.1085      0.000   -603.283      0.000      -0.109      -0.108\n",
      "==============================================================================\n",
      "Omnibus:                   179351.756   Durbin-Watson:                   2.002\n",
      "Prob(Omnibus):                  0.000   Jarque-Bera (JB):           508802.487\n",
      "Skew:                          -0.814   Prob(JB):                         0.00\n",
      "Kurtosis:                       5.759   Cond. No.                         74.6\n",
      "==============================================================================\n",
      "\n",
      "Notes:\n",
      "[1] Standard Errors assume that the covariance matrix of the errors is correctly specified.\n"
     ]
    }
   ],
   "source": [
    "print('Initial columns:\\n', ratings_mixed_sample.columns)\n",
    "columns_of_interest = [\"appearance\",  \"aroma\",  \"palate\",  \"taste\",  \"overall\"]\n",
    "print('\\n==============\\n')\n",
    "print('Chosen columns for linear regression are :\\n', columns_of_interest)\n",
    "res = get_LR(ratings_mixed_sample, columns_of_interest)\n",
    "\n",
    "print('\\n==============\\n')\n",
    "print('Results of the linear regression:\\n')\n",
    "print(res.summary())"
   ]
  },
  {
   "cell_type": "code",
   "execution_count": null,
   "id": "beb4fee4",
   "metadata": {},
   "outputs": [],
   "source": []
  },
  {
   "cell_type": "markdown",
   "id": "a334a4fa",
   "metadata": {},
   "source": [
    "### Number of review per day using rolling average"
   ]
  },
  {
   "cell_type": "code",
   "execution_count": null,
   "id": "48f462d3",
   "metadata": {
    "scrolled": true
   },
   "outputs": [],
   "source": [
    "\n",
    "\n",
    "# Assuming the file is named 'beer_ratings.csv' and is located in the same directory as your script.\n",
    "# Read the CSV file\n",
    "BA_NR_RW_DAY=ratings_BA\n",
    "# Convert the Unix time to a datetime object, assuming the 'date' column is Unix time in seconds\n",
    "BA_NR_RW_DAY['date'] = pd.to_datetime(BA_NR_RW_DAY['date'], unit='s')\n",
    "\n",
    "# Filter out dates to ensure we only have one year of data, if necessary\n",
    "start_date = \"2015-01-1\"  # start date in the example given (20th August 2015)\n",
    "end_date = \"2016-01-1\"    # end date, one year later\n",
    "BA_NR_RW_DAY_WW = BA_NR_RW_DAY[(BA_NR_RW_DAY['date'] >= start_date) & (BA_NR_RW_DAY['date'] <= end_date)]\n"
   ]
  },
  {
   "cell_type": "code",
   "execution_count": null,
   "id": "6abe9278-a59a-4497-84d1-23379d124fdc",
   "metadata": {},
   "outputs": [],
   "source": [
    "# Group by the date and count the reviews\n",
    "def plot_rolling(df, window=7):\n",
    "    daily_reviews = df.groupby(df['date'].dt.date).size()\n",
    "    print(daily_reviews)\n",
    "    # Calculate the moving average with a window size of 7 to remove weeks days\n",
    "    rolling = daily_reviews.rolling(window=window, center=True)\n",
    "    rolling_average = rolling.mean()\n",
    "    \n",
    "    # Plot the rolling average\n",
    "    plt.figure(figsize=(14, 7))\n",
    "    rolling_average.plot(title='Number of Reviews Per Day Over One Year')\n",
    "    \n",
    "    # Add labels and grid\n",
    "    plt.xlabel('Date')\n",
    "    plt.ylabel('Average Number of Reviews')\n",
    "    plt.grid(True)\n",
    "    plt.show()\n",
    "plot_rolling(BA_NR_RW_DAY_WW)"
   ]
  },
  {
   "cell_type": "code",
   "execution_count": null,
   "id": "652fc498-d51e-415e-a063-1cf9131d6ba0",
   "metadata": {},
   "outputs": [],
   "source": [
    "german_beers= ratings_BA[ratings_BA[\"brewery_id\"].isin(breweries_BA[breweries_BA['location']=='Germany']['id'])]\n",
    "german_beers['date'] = pd.to_datetime(german_beers['date'], unit='s')\n",
    "\n",
    "# Filter out dates to ensure we only have one year of data, if necessary\n",
    "start_date = \"2015-01-1\"  # start date in the example given (20th August 2015)\n",
    "end_date = \"2016-01-1\"    # end date, one year later\n",
    "\n",
    "german_beers_WW = german_beers[(german_beers['date'] >= start_date) & (german_beers['date'] <= end_date)]\n",
    "plot_rolling(german_beers_WW)"
   ]
  },
  {
   "cell_type": "code",
   "execution_count": null,
   "id": "8716fdcf-4e37-456d-8f28-2c93fe4f19ef",
   "metadata": {},
   "outputs": [],
   "source": [
    "german_users= ratings_BA[ratings_BA[\"user_id\"].isin(users_BA[users_BA['location']=='Germany']['user_id'])]\n",
    "#german_beers['date'] = pd.to_datetime(german_beers['date'], unit='s')\n",
    "\n",
    "# Filter out dates to ensure we only have one year of data, if necessary\n",
    "start_date = \"2015-01-1\"  # start date in the example given (20th August 2015)\n",
    "end_date = \"2016-01-1\"    # end date, one year later\n",
    "\n",
    "german_users_WW = german_users[(german_users['date'] >= start_date) & (german_users['date'] <= end_date)]\n",
    "plot_rolling(german_users_WW, 7)"
   ]
  },
  {
   "cell_type": "code",
   "execution_count": null,
   "id": "0de5ab19-11af-4559-95f5-41bad8938354",
   "metadata": {},
   "outputs": [],
   "source": []
  },
  {
   "cell_type": "markdown",
   "id": "6f44925d",
   "metadata": {},
   "source": [
    "### Alcohol by volume evolution in a mean year by country of user"
   ]
  },
  {
   "cell_type": "code",
   "execution_count": null,
   "id": "a346374c",
   "metadata": {},
   "outputs": [],
   "source": [
    "alcohol_reviews = ratings_mixed_sample[['date','user_location','abv']]\n",
    "alcohol_reviews = alcohol_reviews.dropna()\n",
    "\n",
    "alcohol_reviews.loc[:,'date'] = alcohol_reviews[['date']].apply(lambda x: pd.to_datetime(x, unit='s'))\n",
    "alcohol_reviews.loc[:,'time'] = alcohol_reviews.loc[:,'date'].apply(lambda x: x.year)\n",
    "alcohol_reviews = alcohol_reviews.drop(columns = \"date\")\n",
    "alcohol_reviews = alcohol_reviews[alcohol_reviews.groupby('user_location')['user_location'].transform('size') > 50000]\n",
    "alcohol_reviews"
   ]
  },
  {
   "cell_type": "code",
   "execution_count": null,
   "id": "71e1621c-46b9-4c61-a4ca-e5cff5ffc26e",
   "metadata": {},
   "outputs": [],
   "source": [
    "mean_abv = alcohol_reviews.groupby([\"user_location\", \"time\"]).var().reset_index()\n",
    "\n",
    "# Create a plot with multiple lines and legend\n",
    "plt.figure(figsize=(10, 6))\n",
    "\n",
    "for location in mean_abv[\"user_location\"].unique():\n",
    "    location_data = mean_abv[mean_abv[\"user_location\"] == location]\n",
    "    plt.plot(location_data[\"time\"], location_data[\"abv\"], label=location)\n",
    "\n",
    "plt.xlabel(\"Time\")\n",
    "plt.ylabel(\"ABV\")\n",
    "plt.ylim([0, 15])\n",
    "plt.legend(loc=\"upper right\")\n",
    "plt.title(\"ABV vs Time for Different User Locations\")\n",
    "plt.grid(True)\n",
    "plt.show()"
   ]
  },
  {
   "cell_type": "code",
   "execution_count": null,
   "id": "52a295da-f8a5-43bc-aca3-139916537e8d",
   "metadata": {
    "scrolled": true
   },
   "outputs": [],
   "source": [
    "mean_abv = alcohol_reviews.groupby([\"user_location\", \"time\"]).var().reset_index()\n",
    "mean_abv.groupby(\"user_location\").plot(x=\"time\", y='abv', kind='line', ylim=[0, 15], subplots=True, sharex=False, sharey=True, layout= (1, -1), stacked=True, use_index=True)"
   ]
  },
  {
   "cell_type": "code",
   "execution_count": null,
   "id": "a062de40-3766-493f-b460-2ce051635360",
   "metadata": {},
   "outputs": [],
   "source": [
    "alcohol_reviews_global = alcohol_reviews.drop(columns='user_location')\n",
    "mean_abv = alcohol_reviews_global.groupby([\"time\"]).var().reset_index()\n",
    "mean_abv.plot(x=\"time\", y='abv', kind='line', ylim=[0, 15])"
   ]
  },
  {
   "cell_type": "code",
   "execution_count": null,
   "id": "5e0966c0-7959-43b1-ba7e-0fda3c16083c",
   "metadata": {},
   "outputs": [],
   "source": [
    "mean_abv = alcohol_reviews.groupby([\"time\"]).median().reset_index()\n",
    "mean_abv.plot(x=\"time\", y='abv', kind='line', ylim=[0, 15] )"
   ]
  },
  {
   "cell_type": "code",
   "execution_count": null,
   "id": "c9a0d101-880a-4ba7-bc1f-85ffde4d5b79",
   "metadata": {},
   "outputs": [],
   "source": [
    "mean_abv = alcohol_reviews.groupby([\"time\"]).std().reset_index()\n",
    "mean_abv.plot(x=\"time\", y='abv', kind='line', ylim=[0, 15] )"
   ]
  },
  {
   "cell_type": "markdown",
   "id": "e385df3f",
   "metadata": {},
   "source": [
    "### Test of Bens idea 2.2"
   ]
  },
  {
   "cell_type": "code",
   "execution_count": null,
   "id": "1bd7502a-adbe-4111-bcd5-9d1182c92dae",
   "metadata": {},
   "outputs": [],
   "source": [
    "import pandas as pd\n",
    "import seaborn as sns\n",
    "import matplotlib.pyplot as plt\n",
    "\n",
    "# Assuming you have pandas DataFrames: ratings_BA, breweries_BA\n",
    "\n",
    "# 1. Calculate average ratings per brewery in ratings_BA\n",
    "avg_ratings = ratings_BA.groupby('brewery_id')['rating'].mean().reset_index()\n",
    "avg_ratings.rename(columns={'rating': 'average_rating'}, inplace=True)\n",
    "\n",
    "# 2. Rename columns in breweries_BA and filter out breweries with more than 200 beers\n",
    "breweries_BA.rename(columns={'id': 'brewery_id', 'nbr_beers': 'beer_count'}, inplace=True)\n",
    "filtered_breweries = breweries_BA[breweries_BA['beer_count'] <= 200]\n",
    "\n",
    "# 3. Analysis: Merge the dataframes for plotting\n",
    "analysis_df = pd.merge(avg_ratings, filtered_breweries[['brewery_id', 'beer_count']], on='brewery_id')\n",
    "\n",
    "# Create a line plot with a 95% confidence interval\n",
    "sns.lineplot(data=analysis_df, x='beer_count', y='average_rating', errorbar=('ci', 95))\n",
    "\n",
    "plt.xlabel('Number of Beers Produced (up to 200)')\n",
    "plt.ylabel('Average Rating')\n",
    "plt.title('Relationship between Number of Beers and Average Ratings')\n",
    "plt.show()\n"
   ]
  },
  {
   "cell_type": "code",
   "execution_count": null,
   "id": "e7e97c9f",
   "metadata": {},
   "outputs": [],
   "source": []
  }
 ],
 "metadata": {
  "kernelspec": {
   "display_name": "Python 3 (ipykernel)",
   "language": "python",
   "name": "python3"
  },
  "language_info": {
   "codemirror_mode": {
    "name": "ipython",
    "version": 3
   },
   "file_extension": ".py",
   "mimetype": "text/x-python",
   "name": "python",
   "nbconvert_exporter": "python",
   "pygments_lexer": "ipython3",
   "version": "3.9.18"
  }
 },
 "nbformat": 4,
 "nbformat_minor": 5
}
