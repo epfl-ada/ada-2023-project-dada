{
 "cells": [
  {
   "cell_type": "markdown",
   "id": "48f27a77-232a-4a18-9d9b-a521bb721674",
   "metadata": {},
   "source": [
    "# ADA Project : Milestone 2"
   ]
  },
  {
   "cell_type": "markdown",
   "id": "a249f1ba-bf43-4feb-abb1-c9f528eba81b",
   "metadata": {},
   "source": [
    "## Imports and Data"
   ]
  },
  {
   "cell_type": "code",
   "execution_count": 1,
   "id": "d354a809-3775-419b-8e1f-a15e9d00e21e",
   "metadata": {
    "tags": []
   },
   "outputs": [],
   "source": [
    "import pandas as pd"
   ]
  },
  {
   "cell_type": "code",
   "execution_count": 2,
   "id": "9708f392-044f-490a-9310-b443752ed092",
   "metadata": {},
   "outputs": [],
   "source": [
    "# Data from RateBeer 'RB'\n",
    "beers_RB = pd.read_table(\"./data/RateBeer/beers.csv\", sep=\",\")\n",
    "breweries_RB = pd.read_table(\"./data/RateBeer/breweries.csv\", sep=\",\")\n",
    "users_RB = pd.read_table(\"./data/RateBeer/users.csv\", sep=\",\")\n",
    "# ratings_RB\n",
    "# reviews_RB\n",
    "# Name of the lines and do_keep bool to know if we keep the content in the final results\n",
    "line_names = [\n",
    "    (\"beer_name\", False),\n",
    "    (\"beer_id\", True),\n",
    "    (\"brewery_name\", False),\n",
    "    (\"brewery_id\", True),\n",
    "    (\"style\", False), \n",
    "    (\"abv\", False),\n",
    "    (\"date\", True),\n",
    "    (\"user_name\", False),\n",
    "    (\"user_id\", True),\n",
    "    (\"appearance\", True),\n",
    "    (\"aroma\", True),\n",
    "    (\"palate\", True),\n",
    "    (\"taste\", True),\n",
    "    (\"overall\", True),\n",
    "    (\"rating\", True),\n",
    "    (\"text\", False),\n",
    "    (\"EMPTY\", False),\n",
    "]\n",
    "with open(\"data/RateBeer/ratings.txt\") as f:\n",
    "    with open(\"data/RateBeer/ratings_numbers.csv\", \"w\") as r:\n",
    "        r.write(\",\".join([list_name for (list_name, keep_line) in line_names if keep_line])+\",\\n\")\n",
    "        for i, row in enumerate(f):\n",
    "            line_index = i%len(line_names)\n",
    "            line_name, keep_line = line_names[line_index]\n",
    "            if line_name == \"EMPTY\":\n",
    "                r.write(\"\\n\")\n",
    "                continue\n",
    "            content = row.split(\": \")[1].strip()\n",
    "            if keep_line:\n",
    "                r.write(content+\",\")"
   ]
  },
  {
   "cell_type": "code",
   "execution_count": 19,
   "id": "3003cdbb-da55-4b03-ad91-2ad2bb9a9901",
   "metadata": {},
   "outputs": [
    {
     "data": {
      "text/plain": [
       "Index(['nbr_ratings', 'user_id', 'user_name', 'joined', 'location'], dtype='object')"
      ]
     },
     "execution_count": 19,
     "metadata": {},
     "output_type": "execute_result"
    }
   ],
   "source": [
    "users_RB.columns"
   ]
  },
  {
   "cell_type": "code",
   "execution_count": 34,
   "id": "e120dae3-85ab-4cc4-9076-965ce9041d66",
   "metadata": {},
   "outputs": [],
   "source": [
    "raitings_n_RB = pd.read_table(\"data/RateBeer/ratings_numbers.csv\", sep=\",\").iloc[:,:-1]\n",
    "raitings_n_RB = raitings_n_RB.merge(beers_RB[['beer_id', \"style\"]], on=\"beer_id\", how=\"left\")\n",
    "raitings_n_RB = raitings_n_RB.merge(breweries_RB.rename(columns = {\"id\":\"brewery_id\", \"location\":\"brewery_location\"})[['brewery_id', \"brewery_location\"]], on=\"brewery_id\", how=\"left\")\n",
    "raitings_n_RB = raitings_n_RB.merge(users_RB.rename(columns = {\"location\":\"user_location\"})[['user_id', \"user_location\"]], on=\"user_id\", how=\"left\")\n",
    "raitings_n_RB = raitings_n_RB.drop(columns=[\"beer_id\", \"brewery_id\",\"user_id\"])\n",
    "raitings_n_RB[\"same_location\"] = raitings_n_RB[\"brewery_location\"] == raitings_n_RB[\"user_location\"]"
   ]
  },
  {
   "cell_type": "code",
   "execution_count": null,
   "id": "24054be1-600d-4407-8614-aba1657d2158",
   "metadata": {},
   "outputs": [],
   "source": [
    "# Data from BeerAdvocate 'BA'\n",
    "beers_BA = pd.read_table(\"./data/BeerAdvocate/beers.csv\", sep=\",\")\n",
    "breweries_BA = pd.read_table(\"./data/BeerAdvocate/breweries.csv\", sep=\",\")\n",
    "users_BA = pd.read_table(\"./data/BeerAdvocate/users.csv\", sep=\",\")\n",
    "# ratings_BA        \n",
    "# reviews_BA"
   ]
  },
  {
   "cell_type": "code",
   "execution_count": null,
   "id": "276a9421-3b38-4e09-8e3d-3aa7efc0787e",
   "metadata": {},
   "outputs": [],
   "source": [
    "\"\"\"\n",
    "# Mixed data 'M'\n",
    "beers_M = pd.read_table(\"./data/matched_beer_data/beers.csv\", sep=\",\")\n",
    "breweries_M = pd.read_table(\"./data/matched_beer_data/breweries.csv\", sep=\",\")\n",
    "users_M = pd.read_table(\"./data/matched_beer_data/users.csv\", sep=\",\")\n",
    "# ratings_ba\n",
    "# ratings_rb\n",
    "# ratings_with_text_ba\n",
    "# ratings_with_text_rb\n",
    "# ratings_M\n",
    "# users_approx\n",
    "\"\"\""
   ]
  },
  {
   "cell_type": "code",
   "execution_count": null,
   "id": "a1869801-90df-4d8e-954c-4cd260774962",
   "metadata": {},
   "outputs": [],
   "source": []
  }
 ],
 "metadata": {
  "kernelspec": {
   "display_name": "Python 3 (ipykernel)",
   "language": "python",
   "name": "python3"
  },
  "language_info": {
   "codemirror_mode": {
    "name": "ipython",
    "version": 3
   },
   "file_extension": ".py",
   "mimetype": "text/x-python",
   "name": "python",
   "nbconvert_exporter": "python",
   "pygments_lexer": "ipython3",
   "version": "3.11.5"
  }
 },
 "nbformat": 4,
 "nbformat_minor": 5
}
